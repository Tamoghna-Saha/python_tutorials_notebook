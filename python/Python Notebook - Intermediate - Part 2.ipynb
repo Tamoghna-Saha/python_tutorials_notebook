{
 "cells": [
  {
   "cell_type": "markdown",
   "metadata": {},
   "source": [
    "<div style=\"display:block\">\n",
    "    <div style=\"width: 100%; display: inline-block\">\n",
    "        <h5  style=\"color:maroon; text-align: center; font-size:25px;\">Python Tutorials - Intermediate - Part 2</h5>\n",
    "        <div style=\"width: 90%; text-align: center; display: inline-block;\"><strong>Author: </strong>TAMOGHNA SAHA\n",
    "        </div>\n",
    "    </div>\n",
    "</div>\n",
    "\n",
    "<img src=\"../img/python-intermediate.png\" width=\"1080\">\n",
    "\n",
    "<div>\n",
    "    <div style=\"width: 100%; text-align: right; display: inline-block;\">\n",
    "        <i>Modified: July 13th, 2020</i>\n",
    "    </div>\n",
    "</div>"
   ]
  },
  {
   "cell_type": "markdown",
   "metadata": {},
   "source": [
    "This is the part 2 of Python Intermediate of my Python Tutorial series. In this notebook, I have covered:\n",
    "\n",
    "1. File I/O\n",
    "2. Exception Handling\n",
    "3. Lambda\n",
    "4. Map, Filter & Reduce"
   ]
  },
  {
   "cell_type": "markdown",
   "metadata": {},
   "source": [
    "## File I/O\n",
    "\n",
    "Python can be used to read and write the contents of files. Text files are the easiest to manipulate.\n",
    "open\n",
    "\n",
    "Before a file can be edited, it must be opened, using the open function. The argument of the open function is the path to the file. If the file is in the current working directory of the program, you can specify only its name.\n",
    "mode\n",
    "\n",
    "There are mode used to open a file by applying a second argument to the open function.\n",
    "\n",
    "* \"r\" means open in read mode, which is the default.\n",
    "* \"w\" means write mode, for rewriting the contents of a file.\n",
    "* \"a\" means append mode, for adding new content to the end of the file.\n",
    "* \"b\" means binary mode, which is used for non-text files (such as image and sound files).\n",
    "\n",
    "read\n",
    "\n",
    "The contents of a file that has been opened in text mode can be read using the read method. To read only a certain amount of a file, you can provide a number as an argument to the read function. This determines the number of bytes that should be read.\n",
    "\n",
    "After all contents in a file have been read, any attempts to read further from that file will return an empty string, because you are trying to read from the end of the file.\n",
    "\n",
    "To retrieve each line in a file, you can use the readlines method to return a list in which each element is a line in the file.\n",
    "\n",
    "NOTE: There is a readline and a readlines method. readline() reads one line character at a time, readlines() reads in the whole file at once and splits it by line.\n",
    "write\n",
    "\n",
    "To write to files we use the write method, which writes a string to the file. The \"w\" mode will create a file, if it does not already exist. When a file is opened in write mode, the file's existing content is deleted. The write method returns the number of bytes written to a file, if successful.\n",
    "\n",
    "NOTE: If you need to write anything other than string on a file, it has to be converted to a string first.\n",
    "close\n",
    "\n",
    "Once a file has been opened and used, it should be closed which is done with the close method of the file object.\n",
    "Alternative approach of file access\n",
    "\n",
    "An alternative way of doing it is using with statements. This creates a temporary variable (often called f), which is only accessible in the indented block of the with statement. The file is automatically closed at the end of the with statement, even if exceptions occur within it."
   ]
  },
  {
   "cell_type": "code",
   "execution_count": null,
   "metadata": {},
   "outputs": [],
   "source": [
    "file = open(\"def_NN.txt\", \"r\")\n",
    "print(\"------- Reading the content -------\\n\")\n",
    "file_content = file.read()\n",
    "\n",
    "print(file_content)\n",
    "print(\"------- Re-reading -------\")\n",
    "print(file.read())\n",
    "print(\"------- Finished! --------\\n\")\n",
    "print(\"------- Closing the file -------\")\n",
    "file.close()\n",
    "\n",
    "# try readlines"
   ]
  },
  {
   "cell_type": "code",
   "execution_count": null,
   "metadata": {},
   "outputs": [],
   "source": [
    "file = open(\"def_NN.txt\", \"r\")\n",
    "print(\"------- Reading the content -------\\n\")\n",
    "file_content = file.read()\n",
    "\n",
    "print(file_content)\n",
    "print(\"------- Re-reading -------\")\n",
    "print(file.read())\n",
    "print(\"------- Finished! --------\\n\")\n",
    "print(\"------- Closing the file -------\")\n",
    "file.close()\n",
    "\n",
    "# try readlines"
   ]
  },
  {
   "cell_type": "code",
   "execution_count": null,
   "metadata": {},
   "outputs": [],
   "source": [
    "# alternative approach\n",
    "with open(\"def_NN.txt\") as f:\n",
    "    print(f.read())"
   ]
  },
  {
   "cell_type": "markdown",
   "metadata": {},
   "source": [
    "\n",
    "Exception Handling\n",
    "Exception\n",
    "\n",
    "Exception occur when something goes wrong due to incorrect code syntax or logic or input. When an exception occurs, the program immediately stops and doesn't executes any lines further.\n",
    "\n",
    "Different exceptions are raised for different reasons. Some common exceptions are listed below:\n",
    "\n",
    "    ImportError: an import fails\n",
    "    IndexError: a list is indexed with an out-of-range number\n",
    "    NameError: an unknown variable is used\n",
    "    SyntaxError: the code can't be parsed or processed properly\n",
    "    TypeError: a function is called on a value of an inappropriate type\n",
    "    ValueError: a function is called on a value of the correct type, but with an inappropriate value\n",
    "\n",
    "Third-party libraries and modules define their own exceptions. Learn more about built-in exceptions here\n",
    "\n",
    "Here are some examples of different built-in exceptions.\n",
    "\n",
    ">>> list=[1,2,3] \n",
    ">>> print(list[3])\n",
    "Traceback (most recent call last): File \"<stdin>\", line 1, in <module> \n",
    "IndexError: list index out of range \n",
    "\n",
    ">>> printf(a)\n",
    "File \"<stdin>\", line 1 \n",
    "printf a \n",
    "    ^ \n",
    "SyntaxError: invalid syntax\n",
    "\n",
    ">>> print(a)\n",
    "Traceback (most recent call last): File \"<stdin>\", line 1, in <module> \n",
    "NameError: name 'a' is not defined \n",
    "\n",
    ">>> import tk \n",
    "Traceback (most recent call last): File \"<stdin>\", line 1, in <module> \n",
    "ImportError: No module named tk \n",
    "\n",
    ">>> a=2+\"hello\"\n",
    "Traceback (most recent call last): File \"<stdin>\", line 1, in <module> \n",
    "TypeError: unsupported operand type(s) for +: 'int' and 'str' \n",
    "\n",
    ">>> list.remove(0) \n",
    "Traceback (most recent call last): File \"<stdin>\", line 1, in <module> \n",
    "ValueError: list.remove(x): x not in list\n",
    "\n",
    "Exception Handling\n",
    "\n",
    "To handle exceptions and call code when an exception occurs, we have to use a try/except statement.\n",
    "try-except\n",
    "\n",
    "The try block contains code that might throw an exception. If that exception occurs, the code in the try block stops executing, and the code in the except block is run. If no error occurs, the code in the except block doesn't run.\n",
    "\n",
    "A try statement can have multiple different except blocks to handle different exceptions. Multiple exceptions can also be put into a single except block using parentheses, to have the except block handle all of them.\n",
    "\n",
    "An except statement without any exception specified will catch all errors. However, this kind of coding should be avoided. If you do this, you are going against the zen of Python.\n",
    "\n",
    "Exception handling is particularly useful when\n",
    "\n",
    "    dealing with user input\n",
    "    sending stuff over network or saving large amounts of data, since issues happening with hardware like losing power or signal problems can happen"
   ]
  },
  {
   "cell_type": "code",
   "execution_count": null,
   "metadata": {},
   "outputs": [],
   "source": [
    "try:\n",
    "    variable = 10\n",
    "    print(variable + \"hello\")\n",
    "    num1 = 7\n",
    "    num2 = 0\n",
    "    print(num1 / num2)\n",
    "    print(\"Done calculation\")\n",
    "except ZeroDivisionError:\n",
    "    print(\"An error occurred due to zero division\")\n",
    "except (ValueError, TypeError):\n",
    "    print(\"ERROR!\")"
   ]
  },
  {
   "cell_type": "markdown",
   "metadata": {},
   "source": [
    "raise\n",
    "\n",
    "We can use raise to throw an exception if a condition occurs. The statement can be complemented with a custom exception."
   ]
  },
  {
   "cell_type": "code",
   "execution_count": null,
   "metadata": {},
   "outputs": [],
   "source": [
    "x = 12\n",
    "if x > 5:\n",
    "    raise Exception('x should not exceed 5. The value of x was: {}'.format(x))"
   ]
  },
  {
   "cell_type": "markdown",
   "metadata": {},
   "source": [
    "else and finally\n",
    "\n",
    "Here using the else statement, you can instruct a program to execute a certain block of code only in the absence of exceptions.\n",
    "\n",
    "To ensure some code runs no matter what errors occur, you can use a finally statement. The finally statement is placed at the bottom of a try/except statement and else statement, if any."
   ]
  },
  {
   "cell_type": "code",
   "execution_count": null,
   "metadata": {},
   "outputs": [],
   "source": [
    "try:\n",
    "    num_1 = 2\n",
    "    num_2 = 5\n",
    "    print(num_1/num_2)\n",
    "except ZeroDivisionError as error:\n",
    "    print(error)\n",
    "else:\n",
    "    try:\n",
    "        with open('joker.txt') as file:\n",
    "            read_data = file.readline()\n",
    "            print(read_data)\n",
    "    except FileNotFoundError as fnf_error:\n",
    "        print(fnf_error)\n",
    "finally:\n",
    "    print('Getting printed irrespective of any exceptions.')"
   ]
  },
  {
   "cell_type": "code",
   "execution_count": null,
   "metadata": {},
   "outputs": [],
   "source": [
    "try:\n",
    "    print(1)\n",
    "    print(10 / 0)\n",
    "except ZeroDivisionError:\n",
    "    print(error)\n",
    "finally:\n",
    "    print(\"This is executed last!\")"
   ]
  },
  {
   "cell_type": "markdown",
   "metadata": {},
   "source": [
    "\n",
    "\n",
    "Why the exceptions messages are printed at the end of the output, not between \"1\" and \"This is executed last\"?\n",
    "\n",
    "While catching the error for print(10 / 0) the system found another exception in the except block, the undeclared variable error raising NameError exception. So nothing was printed. This inner NameError exception was uncaught by program and can only printed after finally block.\n",
    "Assesrtion\n",
    "\n",
    "An assertion is a sanity-check where an expression is tested, and if the result comes up false, an exception is raised. When it encounters an assert statement, Python evaluates the accompanying expression, which is expected to be true. If the expression is false, Python raises an AssertionError exception.\n",
    "\n",
    "AssertionError exceptions can be caught and handled like any other exception using the try-except statement, but if not handled, this type of exception will terminate the program."
   ]
  },
  {
   "cell_type": "code",
   "execution_count": null,
   "metadata": {},
   "outputs": [],
   "source": [
    "def KelvinToFahrenheit(temp):\n",
    "    assert (temp >= 0),\"Colder than absolute zero? Go back to school. -_-\"\n",
    "    return ((temp - 273)*1.8) + 32\n",
    "\n",
    "print(KelvinToFahrenheit(273))\n",
    "print(KelvinToFahrenheit(-5))\n",
    "print(KelvinToFahrenheit(373))"
   ]
  },
  {
   "cell_type": "markdown",
   "metadata": {},
   "source": [
    "## Lamda\n",
    "\n",
    "In Python, __anonymous function__ means a function __without a name__, whereas we use `def` keyword to create normal functions. The `lambda` function is used for creating small, one-time and anonymous function objects in Python. The lambda operator can have __any number of arguments__, but it can have __only one expression__. The lambda functions can be assigned to variables, and used like normal functions.\n",
    "\n",
    "Use lambda functions when an anonymous function is required for a short period of time."
   ]
  },
  {
   "cell_type": "code",
   "execution_count": 4,
   "metadata": {},
   "outputs": [
    {
     "name": "stdout",
     "output_type": "stream",
     "text": [
      "The result for named function: 0\n",
      "The result for anonymous function: 0\n"
     ]
    }
   ],
   "source": [
    "#named function\n",
    "def polynomial(x):\n",
    "    '''\n",
    "    Function to perform a polynomial calculation having a single variable x\n",
    "    '''\n",
    "    return x**2 + 5*x + 4\n",
    "    \n",
    "print(\"The result for named function: {}\".format(polynomial(-4)))\n",
    "\n",
    "#lambda\n",
    "poly = lambda x: x**2 + 5*x + 4\n",
    "print(\"The result for anonymous function: {}\".format(poly(-4)))"
   ]
  },
  {
   "cell_type": "markdown",
   "metadata": {},
   "source": [
    "## Map, Filter & Reduce\n",
    "\n",
    "The built-in functions __map__, __filter__ and __reduce__ are very useful higher-order functions that operate on iterable.\n",
    "\n",
    "The function __map__ takes a function and an iterable as arguments, and returns a new iterable with the function applied to each argument.\n",
    "\n",
    "The function __filter__ filters an iterable by removing items that don’t match a __predicate (a function that returns ONLY Boolean True)__.\n",
    "\n",
    "The function __reduce__ applies a rolling computation to sequential pairs of values in a iterable i.e., wanted to compute the product of a list items, sum of tuple items.\n",
    "\n",
    "__NOTE__: Both in map and filter, the result has to be explicitly converted to a list or tuple if you want to print it. Python 2 returns a list by default, but this was changed in Python 3 which returns map or filter object, hence the need for the list or tuple function."
   ]
  },
  {
   "cell_type": "code",
   "execution_count": 5,
   "metadata": {},
   "outputs": [
    {
     "name": "stdout",
     "output_type": "stream",
     "text": [
      "[16, 27, 38, 49, 60]\n",
      "(22, 44)\n",
      "19326120\n"
     ]
    }
   ],
   "source": [
    "def add_five(x):\n",
    "    return x + 5\n",
    "    \n",
    "num_var = [11, 22, 33, 44, 55]\n",
    "map_result = list(map(add_five, num_var)) # map\n",
    "print(map_result)\n",
    "filter_result = tuple(filter(lambda x: x%2==0, num_var)) # filter\n",
    "print(filter_result)\n",
    "\n",
    "from functools import reduce\n",
    "reduce_result = reduce((lambda x, y: x*y), num_var) # reduce\n",
    "print(reduce_result)"
   ]
  },
  {
   "cell_type": "markdown",
   "metadata": {},
   "source": [
    "This example will help you understand better the main difference between map and filter."
   ]
  },
  {
   "cell_type": "code",
   "execution_count": 6,
   "metadata": {},
   "outputs": [
    {
     "name": "stdout",
     "output_type": "stream",
     "text": [
      "[0, 0, 3, 4, 5]\n",
      "[3, 4, 5]\n"
     ]
    }
   ],
   "source": [
    "mylist = [1,2,3,4,5]\n",
    "print(list(map(lambda x: x if x>2 else 0, mylist)))\n",
    "print(list(filter(lambda x: x if x>2 else 0, mylist)))"
   ]
  },
  {
   "cell_type": "markdown",
   "metadata": {},
   "source": [
    "## Decorator\n",
    "\n",
    "__Decorator__ are functions which modifies the functionality of another function. Let’s go one step at a time to understand decorator. In Python, function is a __first class object__ which can be\n",
    "* dynamically created, destroyed\n",
    "* stored in a variable\n",
    "* passed to a function as a parameter\n",
    "* returned as a value from a function\n",
    "\n",
    "We have already seen the first point in the beginner’s article. Let’s validate each of these remaining 3 point."
   ]
  },
  {
   "cell_type": "code",
   "execution_count": 7,
   "metadata": {},
   "outputs": [
    {
     "name": "stdout",
     "output_type": "stream",
     "text": [
      "Let's go, PYKACHU\n",
      "====================\n",
      "'char'mander, I choose you!\n",
      "====================\n",
      "In the battle, pykachu won against 'char'mander\n"
     ]
    }
   ],
   "source": [
    "## functions can be assigned to a variable\n",
    "def my_pymon(text): \n",
    "    return \"Let's go, {}\".format(text.upper())\n",
    "    \n",
    "i_choose_you = my_pymon\n",
    "print(i_choose_you('pykachu'))\n",
    "print(\"=\"*20)\n",
    "\n",
    "## functions can be passed as argument to another function\n",
    "def your_pymon(text):\n",
    "    return f\"{text}\"\n",
    "\n",
    "def trainer_select(func):\n",
    "    print(func(\"'char'mander, I choose you!\"))\n",
    "    \n",
    "trainer_select(your_pymon)\n",
    "print(\"=\"*20)\n",
    "\n",
    "## function returned as a value from another function\n",
    "def battle_began_with(poke1):\n",
    "    def who_won(poke2):\n",
    "        return f\"In the battle, {poke2} won against {poke1}\"\n",
    "    return who_won\n",
    "\n",
    "battle = battle_began_with(\"'char'mander\")(\"pykachu\")\n",
    "print(battle)"
   ]
  },
  {
   "cell_type": "markdown",
   "metadata": {},
   "source": [
    "__NOTE__: When you put the pair of parentheses after the function name in main of code, only then the function gets executed. If you don’t put parentheses after it, then it can be passed around and can be assigned to other variables without executing it."
   ]
  },
  {
   "cell_type": "code",
   "execution_count": 8,
   "metadata": {},
   "outputs": [
    {
     "name": "stdout",
     "output_type": "stream",
     "text": [
      "I am the function which needs some decoration!\n",
      "None\n",
      "==================================================\n",
      "I am doing some boring work before executing a_func()\n",
      "I am the function getting called!\n",
      "I am doing some boring work after executing a_func()\n",
      "None\n"
     ]
    }
   ],
   "source": [
    "def my_decor(a_func, args):\n",
    "    def wrapper_func():\n",
    "        print(\"I am doing some boring work before executing a_func()\")\n",
    "        a_func(args)\n",
    "        print(\"I am doing some boring work after executing a_func()\")\n",
    "    return wrapper_func\n",
    "\n",
    "def a_function_requiring_decor(txt):\n",
    "    print(txt)\n",
    "\n",
    "txt = \"I am the function which needs some decoration!\"\n",
    "print(a_function_requiring_decor(txt))\n",
    "print(\"=\"*50)\n",
    "\n",
    "txt = \"I am the function getting called!\"\n",
    "a_function_requiring_decor = my_decor(a_function_requiring_decor, txt) #the so-called decorator is happening here\n",
    "print(a_function_requiring_decor())"
   ]
  },
  {
   "cell_type": "markdown",
   "metadata": {},
   "source": [
    "The variable `a_function_requiring_decor` is pointing to the `wrapper_func` inner function. We are returning `wrapper_func` as a function when we call `my_decor(a_function_requiring_decor, txt)`. \n",
    "\n",
    "So, decorator \"wraps\" a function (a.k.a. `a_func` in this case) and modifies its behavior (a.k.a. by making it `wrapper_func`).\n",
    "\n",
    "Think of it like you have to give a birthday gift __(X-box! - Mr. Beast, is that you?)__ and wrap it using a custom wrapper using origami that opens the actual gift with paper crackers coming out while the birthday boy unpacks it. __(Definitely, that's Mr. Beast)__.\n",
    "\n",
    "Another way to write these decorators is using `@` symbol."
   ]
  },
  {
   "cell_type": "code",
   "execution_count": 9,
   "metadata": {},
   "outputs": [
    {
     "name": "stdout",
     "output_type": "stream",
     "text": [
      "INTERVIEWER: Take the marker and write something on the board.\n",
      "ME: SOMETHING\n",
      "INTERVIEWER: You're hired!\n"
     ]
    }
   ],
   "source": [
    "def my_decorator(func):\n",
    "    def wrapper():\n",
    "        print(\"INTERVIEWER: Take the marker and write something on the board.\")\n",
    "        func()\n",
    "        print(\"INTERVIEWER: You're hired!\")\n",
    "    return wrapper\n",
    "    \n",
    "@my_decorator\n",
    "def tricky():\n",
    "    print(\"ME: SOMETHING\")\n",
    "    \n",
    "tricky()"
   ]
  },
  {
   "cell_type": "markdown",
   "metadata": {},
   "source": [
    "## Class\n",
    "\n",
    "Python is an object-oriented programming (OOP) language and objects are created using __class__ which is actually the focal point of OOP. The class describes an object’s blueprint, description or metadata. Multiple object can be instantiated using the _same class_.\n",
    "\n",
    "Classes are created using the keyword `class` and an indented block, which contains class methods.\n",
    "\n",
    "Let’s take a look at an example."
   ]
  },
  {
   "cell_type": "code",
   "execution_count": 10,
   "metadata": {},
   "outputs": [
    {
     "name": "stdout",
     "output_type": "stream",
     "text": [
      "Arcanine\n",
      "Growl!\n"
     ]
    }
   ],
   "source": [
    "\n",
    "class Pet:\n",
    "    def __init__(self, genre, name, owner):\n",
    "        self.genre = genre \n",
    "        self.name = name\n",
    "        self.owner = owner\n",
    "        \n",
    "    def voice(self): #another method added to the class Pet\n",
    "        print(\"Growl!\")\n",
    "        \n",
    "pokemon = Pet(\"dog\",\"Arcanine\",\"Tim\")\n",
    "print(pokemon.name)\n",
    "pokemon.voice()"
   ]
  },
  {
   "cell_type": "markdown",
   "metadata": {},
   "source": [
    "The `__init__` method is the most important method in a class which is called when an instance (object) of the class is created. __All methods must have `self` as their first parameter__, although you do not need to pass it explicitly when you call the method.\n",
    "\n",
    "Within the method definition, `self` refers to the object itself calling the method. From the above example, we see that"
   ]
  },
  {
   "cell_type": "code",
   "execution_count": 11,
   "metadata": {},
   "outputs": [
    {
     "name": "stdout",
     "output_type": "stream",
     "text": [
      "Arcanine\n"
     ]
    }
   ],
   "source": [
    "# pokemn becomes equivalent to `self`\n",
    "pokemon = Pet(\"dog\",\"Arcanine\",\"Tim\")\n",
    "print(pokemon.name)"
   ]
  },
  {
   "cell_type": "markdown",
   "metadata": {},
   "source": [
    "* When we create the pokemon object from the class Pet, we are passing genre, name and owner as “dog”,”Arcanine”,”Tim” and the object (`pokemon`) will take the place of `self`.\n",
    "* The attributes are accessed using the `.` operator.\n",
    "* So _pokemon_ is the object, _\"Arcanine\"_ is the value of the `name` attribute of this object.\n",
    "\n",
    "Hence, we can access the attributes in a class using this way: `object.attributes`.\n",
    "\n",
    "Classes can have other methods defined to add functionality to them. These methods are accessed using the same dot syntax as attributes.\n",
    "\n",
    "__NOTE__: All methods __must have `self`__ as their first parameter.\n",
    "\n",
    "Trying to access an attribute of an instance that isn’t defined causes an AttributeError."
   ]
  }
 ],
 "metadata": {
  "kernelspec": {
   "display_name": "Python 3.8.10 ('python-tutorial-4D03WsXq-py3.8')",
   "language": "python",
   "name": "python3"
  },
  "language_info": {
   "codemirror_mode": {
    "name": "ipython",
    "version": 3
   },
   "file_extension": ".py",
   "mimetype": "text/x-python",
   "name": "python",
   "nbconvert_exporter": "python",
   "pygments_lexer": "ipython3",
   "version": "3.8.10"
  },
  "orig_nbformat": 4,
  "vscode": {
   "interpreter": {
    "hash": "497f31686c425ab76e35b5c0a7b89db21257e09c70ef1eaec306596745afbef6"
   }
  }
 },
 "nbformat": 4,
 "nbformat_minor": 2
}
