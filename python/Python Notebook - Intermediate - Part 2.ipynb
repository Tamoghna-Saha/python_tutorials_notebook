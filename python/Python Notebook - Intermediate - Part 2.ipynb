{
 "cells": [
  {
   "cell_type": "markdown",
   "metadata": {},
   "source": [
    "<div style=\"display:block\">\n",
    "    <div style=\"width: 100%; display: inline-block\">\n",
    "        <h5  style=\"color:maroon; text-align: center; font-size:25px;\">Python Tutorials - Intermediate - Part 2</h5>\n",
    "        <div style=\"width: 90%; text-align: center; display: inline-block;\"><strong>Author: </strong>TAMOGHNA SAHA\n",
    "        </div>\n",
    "    </div>\n",
    "</div>\n",
    "\n",
    "<img src=\"../img/python-intermediate.png\" width=\"1080\">\n",
    "\n",
    "<div>\n",
    "    <div style=\"width: 100%; text-align: right; display: inline-block;\">\n",
    "        <i>Modified: Oct 26th, 2022</i>\n",
    "    </div>\n",
    "</div>"
   ]
  },
  {
   "cell_type": "markdown",
   "metadata": {},
   "source": [
    "This is the part 2 of Python Intermediate of my Python Tutorial series. In this notebook, I have covered:\n",
    "\n",
    "1. File I/O\n",
    "2. Exception Handling\n",
    "3. Lambda\n",
    "4. First-class Function - Map, Filter, Reduce"
   ]
  },
  {
   "cell_type": "markdown",
   "metadata": {},
   "source": [
    "## File I/O\n",
    "\n",
    "Python can be used to read and write the contents of files. Text files are the easiest to manipulate.\n",
    "\n",
    "`open`\n",
    "\n",
    "Before a file can be edited, it must be opened, using the open function. The argument of the open function is the path to the file. If the file is in the current working directory of the program, you can specify only its name.\n",
    "\n",
    "`mode`\n",
    "\n",
    "There are mode used to open a file by applying a second argument to the open function.\n",
    "\n",
    "* \"r\" means open in read mode, which is the default.\n",
    "* \"w\" means write mode, for rewriting the contents of a file.\n",
    "* \"a\" means append mode, for adding new content to the end of the file.\n",
    "* \"b\" means binary mode, which is used for non-text files (such as image and sound files).\n",
    "\n",
    "> `read`\n",
    "\n",
    "The contents of a file that has been opened in text mode can be read using the read method. To read only a certain amount of a file, you can provide a number as an argument to the read function. This determines the number of bytes that should be read.\n",
    "\n",
    "After all contents in a file have been read, any attempts to read further from that file will return an empty string, because you are trying to read from the end of the file.\n",
    "\n",
    "To retrieve each line in a file, you can use the readlines method to return a list in which each element is a line in the file.\n",
    "\n",
    "__NOTE__: There is a readline and a readlines method. readline() reads one line character at a time, readlines() reads in the whole file at once and splits it by line.\n",
    "\n",
    "> `write`\n",
    "\n",
    "To write to files we use the write method, which writes a string to the file. The \"w\" mode will create a file, if it does not already exist. When a file is opened in write mode, the file's existing content is deleted. The write method returns the number of bytes written to a file, if successful.\n",
    "\n",
    "__NOTE__: If you need to write anything other than string on a file, it has to be converted to a string first.\n",
    "\n",
    "`close`\n",
    "\n",
    "Once a file has been opened and used, it should be closed which is done with the close method of the file object.\n",
    "\n",
    "__Alternative approach of file access:__\n",
    "\n",
    "An alternative way of doing it is using __`with`__ statements. This creates a temporary variable (often called `f`), which is only accessible in the indented block of the with statement. The file is automatically closed at the end of the with statement, even if exceptions occur within it."
   ]
  },
  {
   "cell_type": "code",
   "execution_count": null,
   "metadata": {},
   "outputs": [],
   "source": [
    "file = open(\"../data/def_NN.txt\", \"r\")\n",
    "print(\"------- Reading the content -------\\n\")\n",
    "file_content = file.read()\n",
    "\n",
    "print(file_content)\n",
    "print(\"------- Re-reading -------\")\n",
    "print(file.read())\n",
    "print(\"------- Finished! --------\\n\")\n",
    "print(\"------- Closing the file -------\")\n",
    "file.close()\n",
    "\n",
    "# try readlines"
   ]
  },
  {
   "cell_type": "code",
   "execution_count": null,
   "metadata": {},
   "outputs": [],
   "source": [
    "file = open(\"../data/def_NN.txt\", \"r\")\n",
    "print(\"------- Reading the content -------\\n\")\n",
    "file_content = file.read()\n",
    "\n",
    "print(file_content)\n",
    "print(\"------- Re-reading -------\")\n",
    "print(file.read())\n",
    "print(\"------- Finished! --------\\n\")\n",
    "print(\"------- Closing the file -------\")\n",
    "file.close()\n",
    "\n",
    "# try readlines"
   ]
  },
  {
   "cell_type": "code",
   "execution_count": null,
   "metadata": {},
   "outputs": [],
   "source": [
    "# alternative approach\n",
    "with open(\"../data/def_NN.txt\") as f:\n",
    "    print(f.read())"
   ]
  },
  {
   "cell_type": "markdown",
   "metadata": {},
   "source": [
    "## Exception Handling\n",
    "\n",
    "__Exception__\n",
    "\n",
    "Exception occur when something goes wrong due to incorrect code syntax or logic or input. When an exception occurs, the program immediately stops and doesn't executes any lines further.\n",
    "\n",
    "_Different exceptions are raised for different reasons._ Some common exceptions are listed below:\n",
    "\n",
    "* `ImportError`: an import fails\n",
    "* `IndexError`: a list is indexed with an out-of-range number\n",
    "* `NameError`: an unknown variable is used\n",
    "* `SyntaxError`: the code can't be parsed or processed properly\n",
    "* `TypeError`: a function is called on a value of an inappropriate type\n",
    "* `ValueError`: a function is called on a value of the correct type, but with an inappropriate value\n",
    "\n",
    "Third-party libraries and modules define their own exceptions. Learn more about built-in exceptions [here](https://docs.python.org/3.7/library/exceptions.html).\n",
    "\n",
    "Here are some examples of different built-in exceptions.\n",
    "\n",
    "```python\n",
    ">>> list=[1,2,3] \n",
    ">>> print(list[3])\n",
    "Traceback (most recent call last): File \"<stdin>\", line 1, in <module> \n",
    "IndexError: list index out of range \n",
    "```\n",
    "\n",
    "```python\n",
    ">>> printf(a)\n",
    "File \"<stdin>\", line 1 \n",
    "printf a \n",
    "    ^ \n",
    "SyntaxError: invalid syntax\n",
    "```\n",
    "\n",
    "```python\n",
    ">>> print(a)\n",
    "Traceback (most recent call last): File \"<stdin>\", line 1, in <module> \n",
    "NameError: name 'a' is not defined\n",
    "```\n",
    "\n",
    "```python\n",
    ">>> import tk \n",
    "Traceback (most recent call last): File \"<stdin>\", line 1, in <module> \n",
    "ImportError: No module named tk \n",
    "```\n",
    "\n",
    "```python\n",
    ">>> a=2+\"hello\"\n",
    "Traceback (most recent call last): File \"<stdin>\", line 1, in <module> \n",
    "TypeError: unsupported operand type(s) for +: 'int' and 'str' \n",
    "```\n",
    "\n",
    "```python\n",
    ">>> list.remove(0) \n",
    "Traceback (most recent call last): File \"<stdin>\", line 1, in <module> \n",
    "ValueError: list.remove(x): x not in list\n",
    "```\n",
    "\n",
    "__Exception Handling__\n",
    "\n",
    "To handle exceptions and call code when an exception occurs, we have to use a `try-except` statement. \n",
    "\n",
    "__`try-except`__\n",
    "\n",
    "The __try__ block contains code that might throw an exception. If that exception occurs, the code in the try block stops executing, and the code in the __except__ block is run. If no error occurs, the code in the except block doesn't run.\n",
    "\n",
    "A try statement can have multiple different except blocks to handle different exceptions. _Multiple exceptions can also be put into a single except block using __parentheses__,_ to have the except block handle all of them.\n",
    "\n",
    "An except statement without any exception specified will catch all errors. __However, this kind of coding should be avoided.__ If you do this, you are going against the zen of Python.\n",
    "\n",
    "Exception handling is particularly useful when\n",
    "* dealing with user input\n",
    "* sending stuff over network or saving large amounts of data, since issues happening with hardware like losing power or signal problems can happen"
   ]
  },
  {
   "cell_type": "code",
   "execution_count": null,
   "metadata": {},
   "outputs": [],
   "source": [
    "try:\n",
    "    variable = 10\n",
    "    print(variable + \"hello\")\n",
    "    num1 = 7\n",
    "    num2 = 0\n",
    "    print(num1 / num2)\n",
    "    print(\"Done calculation\")\n",
    "except ZeroDivisionError:\n",
    "    print(\"An error occurred due to zero division\")\n",
    "except (ValueError, TypeError):\n",
    "    print(\"ERROR!\")"
   ]
  },
  {
   "cell_type": "markdown",
   "metadata": {},
   "source": [
    "__`raise`__\n",
    "\n",
    "We can use `raise` to throw an exception if a condition occurs. The statement can be complemented with a custom exception."
   ]
  },
  {
   "cell_type": "code",
   "execution_count": null,
   "metadata": {},
   "outputs": [],
   "source": [
    "x = 12\n",
    "if x > 5:\n",
    "    raise Exception('x should not exceed 5. The value of x was: {}'.format(x))"
   ]
  },
  {
   "cell_type": "markdown",
   "metadata": {},
   "source": [
    "__`else`__ and __`finally`__\n",
    "\n",
    "Here using the `else` statement, you can instruct a program to execute a certain block of code __only in the absence of exceptions__.\n",
    "\n",
    "To ensure some code runs no matter what errors occur, you can use a `finally` statement. The finally statement is placed at the bottom of a try/except statement and else statement, if any.\n",
    "\n",
    "![try_except_else_finally](../img/try_except_else_finally.png)"
   ]
  },
  {
   "cell_type": "code",
   "execution_count": null,
   "metadata": {},
   "outputs": [],
   "source": [
    "try:\n",
    "    num_1 = 2\n",
    "    num_2 = 5\n",
    "    print(num_1/num_2)\n",
    "except ZeroDivisionError as error:\n",
    "    print(error)\n",
    "else:\n",
    "    try:\n",
    "        with open('../data/joker.txt') as file:\n",
    "            read_data = file.readline()\n",
    "            print(read_data)\n",
    "    except FileNotFoundError as fnf_error:\n",
    "        print(fnf_error)\n",
    "finally:\n",
    "    print('Getting printed irrespective of any exceptions.')"
   ]
  },
  {
   "cell_type": "code",
   "execution_count": null,
   "metadata": {},
   "outputs": [],
   "source": [
    "try:\n",
    "    print(1)\n",
    "    print(10 / 0)\n",
    "except ZeroDivisionError:\n",
    "    print(error)\n",
    "finally:\n",
    "    print(\"This is executed last!\")"
   ]
  },
  {
   "cell_type": "markdown",
   "metadata": {},
   "source": [
    "> Why the exceptions messages are printed at the end of the output, not between \"1\" and \"This is executed last\"?\n",
    "\n",
    "While catching the error for `print(10 / 0)` the system found another exception in the except block, the undeclared variable error raising `NameError` exception. So nothing was printed. This inner `NameError` exception was uncaught by program and can only printed after `finally` block.\n",
    "\n",
    "__Assesrtion__\n",
    "\n",
    "An __assertion is a sanity-check__ where an expression is tested, and if the result comes up false, an exception is raised. When it encounters an assert statement, Python evaluates the accompanying expression, which is expected to be true. If the expression is false, Python raises an __AssertionError__ exception.\n",
    "\n",
    "AssertionError exceptions can be caught and handled like any other exception using the try-except statement, but if not handled, this type of exception will terminate the program."
   ]
  },
  {
   "cell_type": "code",
   "execution_count": null,
   "metadata": {},
   "outputs": [],
   "source": [
    "def KelvinToFahrenheit(temp):\n",
    "    assert (temp >= 0),\"Colder than absolute zero? Go back to school. -_-\"\n",
    "    return ((temp - 273)*1.8) + 32\n",
    "\n",
    "print(KelvinToFahrenheit(273))\n",
    "print(KelvinToFahrenheit(-5))\n",
    "print(KelvinToFahrenheit(373))"
   ]
  },
  {
   "cell_type": "markdown",
   "metadata": {},
   "source": [
    "> What makes assertion different from try-except?\n",
    "\n",
    "An assertion would stop the program from running (because you should fix that error or the program is useless), but an exception would let the program continue running (if you use `else` or `finally`). In other words, __exceptions address the robustness of your application__ while __assertions address its correctness__. \n",
    "\n",
    "Assertions should be used to check something that __should never happen__ while an exception should be used to check something that __might happen__ (something in which you don't have control like user input). \n",
    "\n",
    "__NOTE__: The rule is that use __assertions__ when you are trying to __catch your own errors__ (functions or data that are internal to your system), and __exceptions__ when trying to __catch other people's errors__.\n",
    "\n",
    "Use assertions:\n",
    "* when checking pre-conditions, post-conditions in code\n",
    "* to provide feedback to yourself or your developer team, making it a great feature for debugging purpose\n",
    "* when checking for things that are very unlikely to happen otherwise it means that there is a serious ﬂaw in your application\n",
    "* to state things that you (supposedly) know to be true."
   ]
  },
  {
   "cell_type": "markdown",
   "metadata": {},
   "source": [
    "## Lamda\n",
    "\n",
    "In Python, __anonymous function__ means a function __without a name__, whereas we use `def` keyword to create normal functions. The `lambda` function is used for creating small, one-time and anonymous function objects in Python. The lambda operator can have __any number of arguments__, but it can have __only one expression__. The lambda functions can be assigned to variables, and used like normal functions.\n",
    "\n",
    "Use lambda functions when an anonymous function is required for a short period of time."
   ]
  },
  {
   "cell_type": "code",
   "execution_count": null,
   "metadata": {},
   "outputs": [],
   "source": [
    "#named function\n",
    "def polynomial(x):\n",
    "    '''\n",
    "    Function to perform a polynomial calculation having a single variable x\n",
    "    '''\n",
    "    return x**2 + 5*x + 4\n",
    "    \n",
    "print(\"The result for named function: {}\".format(polynomial(4)))\n",
    "\n",
    "#lambda\n",
    "poly = lambda x: x**2 + 5*x + 4\n",
    "print(\"The result for anonymous function: {}\".format(poly(4)))"
   ]
  },
  {
   "cell_type": "markdown",
   "metadata": {},
   "source": [
    "## First-Class Functions\n",
    "\n",
    "In OOP, there is a concept of __first-class function__ which are basically functions treated as __first-class citizen (/object)__, which in turn is an entity that can be\n",
    "* dynamically created, destroyed\n",
    "* can be stored in a variable\n",
    "* passed to a function as argument\n",
    "* returned as a value from a function\n",
    "\n",
    "Let's see an example below for all of these properties:"
   ]
  },
  {
   "cell_type": "code",
   "execution_count": null,
   "metadata": {},
   "outputs": [],
   "source": [
    "# functions can be assigned to a variable\n",
    "\n",
    "def my_pymon(text):\n",
    "    return \"Let's go, {}\".format(text.upper())\n",
    "\n",
    "i_choose_you = my_pymon\n",
    "print(i_choose_you('PYkachu'))\n",
    "print(\"=\"*20)\n",
    "\n",
    "# functions can be passed as argument to another function\n",
    "\n",
    "def your_pymon(text):\n",
    "    return f\"{text}\"\n",
    "\n",
    "def trainer_select(func):\n",
    "    print(func(\"I choose you, 'char'mander\"))\n",
    "\n",
    "trainer_select(your_pymon)\n",
    "print(\"=\"*20)\n",
    "\n",
    "# function returned as a value from another function\n",
    "\n",
    "def battle_began_with(mons):\n",
    "    def who_won(someone):\n",
    "        return f\"In the battle, {someone} won against {mons}\"\n",
    "    return who_won\n",
    "\n",
    "battle = battle_began_with(\"'char'mander\")\n",
    "battle_result = battle(\"PYkachu\")\n",
    "print(battle_result)"
   ]
  },
  {
   "cell_type": "markdown",
   "metadata": {},
   "source": [
    "__When we put the pair of parentheses after the function name in main function of the code, only then the function gets executed__. If we don’t put parentheses after it, then it can be passed around __as a variable__ and can be assigned to other variables without executing it.\n",
    "\n",
    "Let's see another example with all of these features together."
   ]
  },
  {
   "cell_type": "code",
   "execution_count": null,
   "metadata": {},
   "outputs": [],
   "source": [
    "def operation(x, y):\n",
    "    return x+y\n",
    "\n",
    "def another_operation(func, x, y):\n",
    "    return func(func(x,y), func(x,y))\n",
    "\n",
    "add_func = operation\n",
    "print(another_operation(add_func, 5, 25))"
   ]
  },
  {
   "cell_type": "markdown",
   "metadata": {},
   "source": [
    "Here, `add_func` is a variable storing the function `operation` but __not executing__ it since there is no parenthesis. The first parameter of `another_operation` is a function, where we are passing the function `operation` as argument. Also, the functionality of `operation` is being 'returned' in the `return` statement of `another_operation` function."
   ]
  },
  {
   "cell_type": "markdown",
   "metadata": {},
   "source": [
    "### Map, Filter & Reduce\n",
    "\n",
    "The built-in functions __map__, __filter__ and __reduce__ are very useful higher-order functions that operate on iterable.\n",
    "\n",
    "The function __map__ takes a function and an iterable as arguments, and returns a new iterable with the function applied to each argument.\n",
    "\n",
    "The function __filter__ filters an iterable by removing items that don’t match a __predicate (a function that returns ONLY Boolean True)__.\n",
    "\n",
    "The function __reduce__ applies a rolling computation to sequential pairs of values in a iterable i.e., wanted to compute the product of a list items, sum of tuple items.\n",
    "\n",
    "__NOTE__: Both in map and filter, the result has to be explicitly converted to a list or tuple if you want to print it. Python 2 returns a list by default, but this was changed in Python 3 which returns map or filter object, hence the need for the list or tuple function."
   ]
  },
  {
   "cell_type": "code",
   "execution_count": null,
   "metadata": {},
   "outputs": [],
   "source": [
    "def add_five(x):\n",
    "    return x + 5\n",
    "    \n",
    "num_var = [11, 22, 33, 44, 55]\n",
    "map_result = list(map(add_five, num_var)) # map\n",
    "print(map_result)\n",
    "filter_result = tuple(filter(lambda x: x%2==0, num_var)) # filter\n",
    "print(filter_result)\n",
    "\n",
    "from functools import reduce\n",
    "reduce_result = reduce((lambda x, y: x*y), num_var) # reduce\n",
    "print(reduce_result)"
   ]
  },
  {
   "cell_type": "markdown",
   "metadata": {},
   "source": [
    "This example will help you understand better the main difference between map and filter."
   ]
  },
  {
   "cell_type": "code",
   "execution_count": null,
   "metadata": {},
   "outputs": [],
   "source": [
    "mylist = [1,2,3,4,5]\n",
    "print(list(map(lambda x: x if x>2 else 0, mylist)))\n",
    "print(list(filter(lambda x: x if x>2 else 0, mylist)))"
   ]
  }
 ],
 "metadata": {
  "kernelspec": {
   "display_name": "Python 3.8.10 64-bit",
   "language": "python",
   "name": "python3"
  },
  "language_info": {
   "codemirror_mode": {
    "name": "ipython",
    "version": 3
   },
   "file_extension": ".py",
   "mimetype": "text/x-python",
   "name": "python",
   "nbconvert_exporter": "python",
   "pygments_lexer": "ipython3",
   "version": "3.8.10"
  },
  "orig_nbformat": 4,
  "vscode": {
   "interpreter": {
    "hash": "31f2aee4e71d21fbe5cf8b01ff0e069b9275f58929596ceb00d14d90e3e16cd6"
   }
  }
 },
 "nbformat": 4,
 "nbformat_minor": 2
}
