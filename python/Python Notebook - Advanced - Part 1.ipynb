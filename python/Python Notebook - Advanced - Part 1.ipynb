{
 "cells": [
  {
   "cell_type": "markdown",
   "metadata": {},
   "source": [
    "\n",
    "## Iterable, Iterator and Generator\n",
    "\n",
    "### Iterable and Iterator\n",
    "\n",
    "Iteration -> Repetition of a process.\n",
    "\n",
    "__Iterable__ is a type of object which would generate an Iterator when passed to in-built method `iter()`.\n",
    "\n",
    "__Iterator__ is an object which is used to iterate over an iterable object using `next()` method, which returns the next item of the iterable object. Any object that has a `next()` method is therefore an iterator.\n",
    "\n",
    "__NOTE__: List, Tuple, Set, Frozenset, Dictionary are in-built iterable objects. They are iterable containers from which you can get an iterator.\n",
    "\n",
    "This is what happens.\n",
    "\n",
    "![](../img/iterable-vs-iterator.png)"
   ]
  },
  {
   "cell_type": "code",
   "execution_count": null,
   "metadata": {},
   "outputs": [],
   "source": [
    "## Let's see an example\n",
    "my_tuple = [\"apple\", \"banana\", \"cherry\"]\n",
    "iterated_tuple = iter(my_tuple)\n",
    "print(type(iterated_tuple))\n",
    "print(next(iterated_tuple))\n",
    "print(next(iterated_tuple))\n",
    "print(next(iterated_tuple))"
   ]
  },
  {
   "cell_type": "code",
   "execution_count": null,
   "metadata": {},
   "outputs": [],
   "source": [
    "## same thing can be written using for loop\n",
    "my_tuple = (\"apple\", \"banana\", \"cherry\")\n",
    "for i in my_tuple:\n",
    "    print(i)"
   ]
  },
  {
   "cell_type": "markdown",
   "metadata": {},
   "source": [
    "__How for loop actually works?__\n",
    "\n",
    "The for loop can iterate over any iterable.\n",
    "\n",
    "```python\n",
    "for element in iterable:\n",
    "    # do something with element\n",
    "```\n",
    "is actually implemented as\n",
    "\n",
    "```python\n",
    "# create an iterator object from that iterable\n",
    "iter_obj = iter(iterable)# infinite loop\n",
    "while True:\n",
    "    try:\n",
    "        # get the next item\n",
    "        element = next(iter_obj)\n",
    "        # do something with element\n",
    "    except StopIteration:\n",
    "        # if StopIteration is raised, break from loop\n",
    "        break\n",
    "```\n",
    "\n",
    "* The for loop creates an iterator object internally, `iter_obj` by calling `iter()` on the iterable.\n",
    "* Inside the while loop, it calls `next()` to get the next element and executes further\n",
    "* After all the items exhaust, __`StopIteration`__ exception is raised which is internally caught and the loop ends.\n",
    "\n",
    "To get a better sense of the internals of an iterator, let’s build an iterator producing the Fibonacci numbers."
   ]
  },
  {
   "cell_type": "code",
   "execution_count": null,
   "metadata": {},
   "outputs": [],
   "source": [
    "from itertools import islice\n",
    "\n",
    "class fib:\n",
    "   def __init__(self):\n",
    "      self.prev = 0\n",
    "      self.curr = 1\n",
    "\n",
    "   def __iter__(self):\n",
    "      return self\n",
    "\n",
    "   def __next__(self):\n",
    "      value = self.curr\n",
    "      self.curr += self.prev\n",
    "      self.prev = value\n",
    "      return value\n",
    "        \n",
    "f = fib()\n",
    "print(list(islice(f, 0, 10)))"
   ]
  },
  {
   "cell_type": "markdown",
   "metadata": {},
   "source": [
    "## Generator\n",
    "\n",
    "A lot of overhead in building an iterator:\n",
    "\n",
    "* implement a class with `iter()` and `next()` methods\n",
    "* raise StopIteration when there was no values to be returned\n",
    "* makes the code lengthy\n",
    "\n",
    "Python Generators are a simple way of creating iterators. All the above mentioned overhead are automatically handled by generators in Python.\n",
    "\n",
    "__Generator__ is a block of code, same as defining a function, having a __yield__ statement instead of a __return__ statement. If a function contains __at least one yield statement__ (it may contain other yield or return statements), it becomes a generator!\n",
    "\n",
    "The yield statement suspends function’s execution and sends a value back to caller, but retains enough capability to enable function to resume where it is left off. When resumed, the function continues execution immediately after the last yield run. This allows its code to produce a series of values over time, rather than computing them at once and sending them back like a list. __We should use yield when we want to iterate over a sequence, but don’t want to store the entire sequence in memory__.\n",
    "\n",
    "This is how the above Fibonacci number code looks like using generator."
   ]
  },
  {
   "cell_type": "code",
   "execution_count": null,
   "metadata": {},
   "outputs": [],
   "source": [
    "def fib():\n",
    "    prev, curr = 0, 1\n",
    "    while True:\n",
    "        yield curr\n",
    "        prev, curr = curr, prev + curr\n",
    "        \n",
    "f = fib()\n",
    "res = list(islice(f, 0, 10))\n",
    "print(res)"
   ]
  },
  {
   "cell_type": "markdown",
   "metadata": {},
   "source": [
    "Let’s see what happened.\n",
    "\n",
    "Take note that __fib__ is defined as a normal Python function, not as class. However, there’s __no `return` keyword__ inside the function body. The `return` value of the function will be a generator.\n",
    "\n",
    "* Now when `f = fib()` is called, the generator is instantiated and returned. No code will be executed at this point.To be explicit: the line `prev, curr = 0, 1` is not executed yet.\n",
    "* Then, this generator instance `f` is wrapped in an `islice()`. This is itself also an __iterator__. Again, no code executed.\n",
    "* Now, this iterator is wrapped in a `list()`, which will take the argument `islice(<generator-instance>)` and build a list from it. To do so, it will start calling `next()` on the `islice()` instance, which in turn will start calling `next()` on our `f` instance.\n",
    "* On the first call, the code `prev, curr = 0, 1` gets executed, then the `while True` loop is entered, and then it encounters the `yield curr` statement. It will produce the value that’s currently in the `curr` variable and become idle again. This value is passed to the `islice()` wrapper, which will produce the value (1 in this case) and `list` will add the value to the variable `res`.\n",
    "* Then, `list` asks `islice()` for the next value, which will ask `f` for the next value, which will unpause `f` from its previous state, resuming with the statement `prev, curr = curr, prev + curr`.\n",
    "* Then it re-enters the next iteration of the `while True` loop, and hits the `yield curr` statement, returning the next value of `curr`.\n",
    "* This happens until the output list is 10 elements long. When `list()` asks `islice()` for the 11th value, `islice()` will raise a __`StopIteration`__ exception, indicating that the end has been reached, and list will return the result: a list of 10 items, containing the first 10 Fibonacci numbers.\n",
    "\n",
    "There are two types of generators in Python: __generator functions__ and __generator expressions__. \n",
    "A generator function is any function in which the keyword `yield` appears in its body. We just saw an example of that. \n",
    "Generator expression is equivalent to list comprehension.\n",
    "\n",
    "To avoid any confusion between iterable, iterator, generator, generator expression, a `list`, `set`, `dict` comprehension, check out this diagram.\n",
    "\n",
    "![](../img/relationships.png)\n",
    "\n",
    "There are some iterator functions available which can be implemented on iterable. You can check out these 2 links from GeekForGeeks. Pretty well written.\n",
    "\n",
    "* [Iterator Functions | Set 1](https://www.geeksforgeeks.org/iterator-functions-in-python-set-1/)\n",
    "* [Iterator Functions | Set 2](https://www.geeksforgeeks.org/iterator-functions-python-set-2islice-starmap-tee/)"
   ]
  },
  {
   "cell_type": "markdown",
   "metadata": {},
   "source": [
    "## Class\n",
    "\n",
    "Python is an object-oriented programming (OOP) language and objects are created using __class__ which is actually the focal point of OOP. The class describes an object’s blueprint, description or metadata. Multiple object can be instantiated using the _same class_.\n",
    "\n",
    "Classes are created using the keyword `class` and an indented block, which contains class methods.\n",
    "\n",
    "Let’s take a look at an example."
   ]
  },
  {
   "cell_type": "code",
   "execution_count": null,
   "metadata": {},
   "outputs": [],
   "source": [
    "class Pet:\n",
    "    def __init__(self, genre, name, owner):\n",
    "        self.genre = genre \n",
    "        self.name = name\n",
    "        self.owner = owner\n",
    "        \n",
    "    def voice(self): #another method added to the class Pet\n",
    "        print(\"Growl!\")\n",
    "        \n",
    "pokemon = Pet(\"dog\",\"Arcanine\",\"Tim\")\n",
    "print(pokemon.name)\n",
    "pokemon.voice()"
   ]
  },
  {
   "cell_type": "markdown",
   "metadata": {},
   "source": [
    "The `__init__` method is the most important method in a class which is called when an instance (object) of the class is created. __All methods must have `self` as their first parameter__, although you do not need to pass it explicitly when you call the method.\n",
    "\n",
    "Within the method definition, `self` refers to the object itself calling the method. From the above example, we see that"
   ]
  },
  {
   "cell_type": "code",
   "execution_count": null,
   "metadata": {},
   "outputs": [],
   "source": [
    "# pokemn becomes equivalent to `self`\n",
    "pokemon = Pet(\"dog\",\"Arcanine\",\"Tim\")\n",
    "print(pokemon.name)"
   ]
  },
  {
   "cell_type": "markdown",
   "metadata": {},
   "source": [
    "* When we create the pokemon object from the class Pet, we are passing genre, name and owner as “dog”,”Arcanine”,”Tim” and the object (`pokemon`) will take the place of `self`.\n",
    "* The attributes are accessed using the `.` operator.\n",
    "* So _pokemon_ is the object, _\"Arcanine\"_ is the value of the `name` attribute of this object.\n",
    "\n",
    "Hence, we can access the attributes in a class using this way: `object.attributes`.\n",
    "\n",
    "Classes can have other methods defined to add functionality to them. These methods are accessed using the same dot syntax as attributes.\n",
    "\n",
    "__NOTE__: All methods __must have `self`__ as their first parameter.\n",
    "\n",
    "Trying to access an attribute of an instance that isn’t defined causes an AttributeError."
   ]
  },
  {
   "cell_type": "markdown",
   "metadata": {},
   "source": [
    "## Decorator\n",
    "\n",
    "__Decorator__ are functions which modifies the functionality of another function. Let’s go one step at a time to understand decorator. In Python, function is a __first class object__ which can be\n",
    "* dynamically created, destroyed\n",
    "* stored in a variable\n",
    "* passed to a function as a parameter\n",
    "* returned as a value from a function\n",
    "\n",
    "We have already seen the first point in the beginner’s article. Let’s validate each of these remaining 3 point."
   ]
  },
  {
   "cell_type": "code",
   "execution_count": null,
   "metadata": {},
   "outputs": [],
   "source": [
    "## functions can be assigned to a variable\n",
    "def my_pymon(text): \n",
    "    return \"Let's go, {}\".format(text.upper())\n",
    "    \n",
    "i_choose_you = my_pymon\n",
    "print(i_choose_you('pykachu'))\n",
    "print(\"=\"*20)\n",
    "\n",
    "## functions can be passed as argument to another function\n",
    "def your_pymon(text):\n",
    "    return f\"{text}\"\n",
    "\n",
    "def trainer_select(func):\n",
    "    print(func(\"'char'mander, I choose you!\"))\n",
    "    \n",
    "trainer_select(your_pymon)\n",
    "print(\"=\"*20)\n",
    "\n",
    "## function returned as a value from another function\n",
    "def battle_began_with(poke1):\n",
    "    def who_won(poke2):\n",
    "        return f\"In the battle, {poke2} won against {poke1}\"\n",
    "    return who_won\n",
    "\n",
    "battle = battle_began_with(\"'char'mander\")(\"pykachu\")\n",
    "print(battle)"
   ]
  },
  {
   "cell_type": "markdown",
   "metadata": {},
   "source": [
    "__NOTE__: When you put the pair of parentheses after the function name in main of code, only then the function gets executed. If you don’t put parentheses after it, then it can be passed around and can be assigned to other variables without executing it."
   ]
  },
  {
   "cell_type": "code",
   "execution_count": null,
   "metadata": {},
   "outputs": [],
   "source": [
    "def my_decor(a_func, args):\n",
    "    def wrapper_func():\n",
    "        print(\"I am doing some boring work before executing a_func()\")\n",
    "        a_func(args)\n",
    "        print(\"I am doing some boring work after executing a_func()\")\n",
    "    return wrapper_func\n",
    "\n",
    "def a_function_requiring_decor(txt):\n",
    "    print(txt)\n",
    "\n",
    "txt = \"I am the function which needs some decoration!\"\n",
    "print(a_function_requiring_decor(txt))\n",
    "print(\"=\"*50)\n",
    "\n",
    "txt = \"I am the function getting called!\"\n",
    "a_function_requiring_decor = my_decor(a_function_requiring_decor, txt) #the so-called decorator is happening here\n",
    "print(a_function_requiring_decor())"
   ]
  },
  {
   "cell_type": "markdown",
   "metadata": {},
   "source": [
    "The variable `a_function_requiring_decor` is pointing to the `wrapper_func` inner function. We are returning `wrapper_func` as a function when we call `my_decor(a_function_requiring_decor, txt)`. \n",
    "\n",
    "So, decorator \"wraps\" a function (a.k.a. `a_func` in this case) and modifies its behavior (a.k.a. by making it `wrapper_func`).\n",
    "\n",
    "Think of it like you have to give a birthday gift __(X-box! - Mr. Beast, is that you?)__ and wrap it using a custom wrapper using origami that opens the actual gift with paper crackers coming out while the birthday boy unpacks it. __(Definitely, that's Mr. Beast)__.\n",
    "\n",
    "Another way to write these decorators is using `@` symbol."
   ]
  },
  {
   "cell_type": "code",
   "execution_count": null,
   "metadata": {},
   "outputs": [],
   "source": [
    "def my_decorator(func):\n",
    "    def wrapper():\n",
    "        print(\"INTERVIEWER: Take the marker and write something on the board.\")\n",
    "        func()\n",
    "        print(\"INTERVIEWER: You're hired!\")\n",
    "    return wrapper\n",
    "    \n",
    "@my_decorator\n",
    "def tricky():\n",
    "    print(\"ME: SOMETHING\")\n",
    "    \n",
    "tricky()"
   ]
  }
 ],
 "metadata": {
  "kernelspec": {
   "display_name": "Python 3.8.10 64-bit",
   "language": "python",
   "name": "python3"
  },
  "language_info": {
   "name": "python",
   "version": "3.8.10"
  },
  "orig_nbformat": 4,
  "vscode": {
   "interpreter": {
    "hash": "916dbcbb3f70747c44a77c7bcd40155683ae19c65e1c03b4aa3499c5328201f1"
   }
  }
 },
 "nbformat": 4,
 "nbformat_minor": 2
}
