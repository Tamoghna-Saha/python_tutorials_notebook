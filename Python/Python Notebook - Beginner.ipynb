{
 "cells": [
  {
   "cell_type": "markdown",
   "metadata": {
    "ExecuteTime": {
     "end_time": "2018-09-28T13:31:50.617249Z",
     "start_time": "2018-09-28T13:31:50.611556Z"
    }
   },
   "source": [
    "<div style=\"display:block\">\n",
    "    <div style=\"width: 100%; display: inline-block\">\n",
    "        <h5  style=\"color:maroon; text-align: center; font-size:25px;\">Python Tutorials - Beginner</h5>\n",
    "        <div style=\"width: 90%; text-align: center; display: inline-block;\"><strong>Author: </strong>TAMOGHNA SAHA\n",
    "        </div>\n",
    "    </div>\n",
    "</div>\n",
    "\n",
    "![Python](Photos/python_beginner.png)\n",
    "\n",
    "<div>\n",
    "    <div style=\"width: 100%; text-align: right; display: inline-block;\">\n",
    "        <i>Modified: May 23rd, 2020</i>\n",
    "    </div>\n",
    "</div>"
   ]
  },
  {
   "cell_type": "markdown",
   "metadata": {},
   "source": [
    "# Introduction\n",
    "\n",
    "## What is Python?\n",
    "\n",
    "![what-is-python](Photos/PYTHON-DEFINITION.png)\n",
    "\n",
    "Python is an interpreted, object-oriented, high-level programming language with dynamic semantics. Its high-level built in data structures, combined with dynamic typing and dynamic binding, make it very attractive for Rapid Application Development, as well as for use as a scripting language to connect existing components together.\n",
    "\n",
    "* __General-Purpose__ -> designed to be used for writing software in the widest variety of application domains\n",
    "* __High-level__ -> designed to be more or less independent of a particular type of computer, human-readable friendly\n",
    "* __Interpreted__ -> designed to execute instructions of a program directly, without previously compiling a program into machine-language instructions\n",
    "* __Scripting__ -> languages do not require the compilation step and are rather interpreted\n",
    "\n",
    "__But, what is the difference between an interpreter and a compiler?__\n",
    "\n",
    "| Interpreter | Compiler |\n",
    "| :---------: | :------: |\n",
    "| Executes program by taking **one statement** at a time | Translates the **entire program** at once into machine code |\n",
    "| **No intermediate object code** is generated, hence memory efficient | **Generates intermediate object code** which further requires linking, hence requires **more memory** |\n",
    "| Less amount of time to **analyze** the source code | More amount of time |\n",
    "| Overall **execution** is slower | Faster |\n",
    "| Easier to **debug** but less efficient | Difficult but more efficient |\n",
    "| Error is reported as soon as the **first error is encountered**. Won't show the next set of errors if the existing one isn't solved | Errors are reported after the **entire program is checked** |\n",
    "\n",
    "__Python Interpreter: How does it work?__\n",
    "\n",
    "![python-interpreter](Photos/python-interpreter.png)\n",
    "\n",
    "__NOTE__ : While classifying a language as scripting language or programming language, the environment on which it would execute must be taken into consideration. The reason why this is important is that we can design an interpreter for C language and use it as a scripting language, and at the same time, we can design a compiler for JavaScript and use it as a non-scripting(compiled language). A live example of this is __V8__, the JavaScript engine of Google Chrome, which compiles the JavaScript code into machine code, rather than interpreting it."
   ]
  },
  {
   "cell_type": "markdown",
   "metadata": {},
   "source": [
    "## Python verisons\n",
    "\n",
    "Currently, there are 2 major versions:\n",
    "\n",
    "<img src=\"Photos/Python-logo.png\" width=\"640\">\n",
    "\n",
    "__NOTE__ : Support and maintenance for Python 2.7 has officially stopped in January 2020.\n",
    "\n",
    "Take a look at Python's journey. To read the full story, you can check my Instagram Page __`py_universe`__ [post](https://www.instagram.com/p/B9vXkcVHVWr/).\n",
    "\n",
    "<img src=\"Photos/python_evolution.png\" width=\"640\">"
   ]
  },
  {
   "cell_type": "markdown",
   "metadata": {},
   "source": [
    "## Why do we need Python?\n",
    "\n",
    "![why_python](Photos/Why_Python.jpg)\n",
    "\n",
    "* __Simple syntax__ emphasizes readability and therefore reduces the cost of program maintenance\n",
    "* __Multiple Programming Paradigms__ which are imperative, functional, procedural, and object-oriented - read more about it from [here](https://opensource.com/article/19/10/python-programming-paradigms)\n",
    "* __Compatible__ with Major Platforms and Systems, many __open-source framework available__ which boosts developer's productivity\n",
    "* __Robust Standard Library__ and supporting wide range of external libraries\n",
    "* Easier to perform testing by adopting __test driven development (TDD)__ approach"
   ]
  },
  {
   "cell_type": "markdown",
   "metadata": {},
   "source": [
    "## That's okay. But where do I use it?\n",
    "\n",
    "![application](Photos/application.jpg)\n",
    "\n",
    "* __Desktop-based Applications__\n",
    "    + Image, Video, Audio Processing (using modules like __OpenCV__ and __PyAudio__ or __librosa__)\n",
    "    + Graphic Design Applications (used to create __Inkscape, GIMP, Blender, 3ds Max__ softwares)\n",
    "    + Games (__PySoy__ -> 3D game engine, __PyGame__ -> library for game development)\n",
    "* __Scientific and Computational Applications__\n",
    "    + Machine Learning (Regression, Decision Tree, Random Forest, Deep Learning) using libraries such as __NumPy__, __SciPy__, __TensorFlow__, __Keras__, __PyTorch__\n",
    "* __Operating Systems__\n",
    "    + __Ubuntu’s Ubiquity Installer, Fedora's Anaconda Installer__ are written in Python\n",
    "* __Language Development__\n",
    "    + Boo, Apple's Swift, Cobra\n",
    "* __Web Development__\n",
    "    + Framework such as __Django, Pyramid__\n",
    "    + Micro-Framework such as __Flask, Bottle__\n",
    "* __Internet Protocol__\n",
    "    + HTML, XML\n",
    "    + JSON\n",
    "    + Requests\n",
    "    + BeautifulSoup\n",
    "* __Prototyping__"
   ]
  },
  {
   "cell_type": "markdown",
   "metadata": {},
   "source": [
    "## Who uses Python anyway?\n",
    "\n",
    "![python_use](Photos/who_uses_python.png)"
   ]
  },
  {
   "cell_type": "markdown",
   "metadata": {},
   "source": [
    "## But Python is slower than C, C++, Java!\n",
    "\n",
    "Every language has it's own pros and cons. It's not fair to provide such biased view by highlighting the positive sides only.\n",
    "\n",
    "Here are the top theories as to why Python is slow:\n",
    "\n",
    "* GIL (Global Interpreter Lock)\n",
    "* It's interpreted and not compiled\n",
    "* It’s dynamically typed language\n",
    "\n",
    "But a detailed discussion of this is beyond the scope of this notebook. If you are interested, check [this article](https://hackernoon.com/why-is-python-so-slow-e5074b6fe55b) that explains it very clearly."
   ]
  },
  {
   "cell_type": "markdown",
   "metadata": {},
   "source": [
    "__Cool. I guess we are good to go!__\n",
    "\n",
    "![good_to_go](./Photos/good_to_go.gif)"
   ]
  },
  {
   "cell_type": "code",
   "execution_count": 1,
   "metadata": {
    "ExecuteTime": {
     "end_time": "2020-05-24T15:07:50.010494Z",
     "start_time": "2020-05-24T15:07:50.005583Z"
    }
   },
   "outputs": [
    {
     "name": "stdout",
     "output_type": "stream",
     "text": [
      "Hello World!\n"
     ]
    }
   ],
   "source": [
    "# This is how you comment a code in Python!\n",
    "\n",
    "# Let's start with the famous code.\n",
    "print('Hello World!')"
   ]
  },
  {
   "cell_type": "code",
   "execution_count": 2,
   "metadata": {
    "ExecuteTime": {
     "end_time": "2020-05-24T15:07:50.833432Z",
     "start_time": "2020-05-24T15:07:50.811264Z"
    },
    "scrolled": false
   },
   "outputs": [
    {
     "name": "stdout",
     "output_type": "stream",
     "text": [
      "The Zen of Python, by Tim Peters\n",
      "\n",
      "Beautiful is better than ugly.\n",
      "Explicit is better than implicit.\n",
      "Simple is better than complex.\n",
      "Complex is better than complicated.\n",
      "Flat is better than nested.\n",
      "Sparse is better than dense.\n",
      "Readability counts.\n",
      "Special cases aren't special enough to break the rules.\n",
      "Although practicality beats purity.\n",
      "Errors should never pass silently.\n",
      "Unless explicitly silenced.\n",
      "In the face of ambiguity, refuse the temptation to guess.\n",
      "There should be one-- and preferably only one --obvious way to do it.\n",
      "Although that way may not be obvious at first unless you're Dutch.\n",
      "Now is better than never.\n",
      "Although never is often better than *right* now.\n",
      "If the implementation is hard to explain, it's a bad idea.\n",
      "If the implementation is easy to explain, it may be a good idea.\n",
      "Namespaces are one honking great idea -- let's do more of those!\n"
     ]
    }
   ],
   "source": [
    "# a collection of 20 software principles that influences the design of Python Programming Language, of which 19 were written down\n",
    "import this"
   ]
  },
  {
   "cell_type": "markdown",
   "metadata": {},
   "source": [
    "In order to get an understanding of these aphorisms, take a look at this [link](https://artifex.org/~hblanks/talks/2011/pep20_by_example.html)."
   ]
  },
  {
   "cell_type": "markdown",
   "metadata": {},
   "source": [
    "# Numerical and Boolean Operations <a name = \"num_bool\"></a>"
   ]
  },
  {
   "cell_type": "code",
   "execution_count": 3,
   "metadata": {
    "ExecuteTime": {
     "end_time": "2020-05-24T15:07:52.690869Z",
     "start_time": "2020-05-24T15:07:52.685585Z"
    }
   },
   "outputs": [
    {
     "name": "stdout",
     "output_type": "stream",
     "text": [
      "6.25\n",
      "6\n",
      "1\n",
      "9\n",
      "python3\n"
     ]
    }
   ],
   "source": [
    "## some basic mathematical operations , I am not showing. You do it. But see this.\n",
    "\n",
    "print(25/4)\n",
    "print(25//4)\n",
    "print(25%4) # modulo operator\n",
    "\n",
    "x = 3\n",
    "x *= 3 # in-place operator\n",
    "print(x)\n",
    "\n",
    "y = \"python\"\n",
    "y += \"3\"\n",
    "print(y)"
   ]
  },
  {
   "cell_type": "markdown",
   "metadata": {},
   "source": [
    "In Python 3, `/` is called __floating point division__ and `//` is __floor division__. **But In Python 2.7, it will return the base integer (6 in this case) in both the divisions**.\n",
    "\n",
    "Let's look at some **Boolean operations**."
   ]
  },
  {
   "cell_type": "code",
   "execution_count": 4,
   "metadata": {
    "ExecuteTime": {
     "end_time": "2020-05-24T15:07:53.855179Z",
     "start_time": "2020-05-24T15:07:53.837898Z"
    }
   },
   "outputs": [
    {
     "name": "stdout",
     "output_type": "stream",
     "text": [
      "False\n",
      "True\n",
      "True\n",
      "False\n",
      "False\n",
      "True\n",
      "True\n"
     ]
    },
    {
     "name": "stderr",
     "output_type": "stream",
     "text": [
      "<>:6: SyntaxWarning: \"is not\" with a literal. Did you mean \"!=\"?\n",
      "<>:6: SyntaxWarning: \"is not\" with a literal. Did you mean \"!=\"?\n",
      "/tmp/ipykernel_592/347508906.py:6: SyntaxWarning: \"is not\" with a literal. Did you mean \"!=\"?\n",
      "  print(9 is not \"nine\")\n"
     ]
    }
   ],
   "source": [
    "print(2 == 3)\n",
    "print(6 != 7)\n",
    "print(1 == True)\n",
    "print(2 == True)\n",
    "print(3 == False)\n",
    "print(9 is not \"nine\")\n",
    "print(5 > 3)"
   ]
  },
  {
   "cell_type": "code",
   "execution_count": 5,
   "metadata": {
    "ExecuteTime": {
     "end_time": "2020-05-24T15:07:54.609183Z",
     "start_time": "2020-05-24T15:07:54.592005Z"
    }
   },
   "outputs": [
    {
     "name": "stdout",
     "output_type": "stream",
     "text": [
      "Now these.\n",
      "---------\n",
      "True\n",
      "False\n",
      "False\n"
     ]
    }
   ],
   "source": [
    "print(\"Now these.\\n---------\")\n",
    "print(6 == 6.0)\n",
    "print((3 * 0.1) == 0.3)\n",
    "print((3 * 0.1) == (3/10))"
   ]
  },
  {
   "cell_type": "markdown",
   "metadata": {},
   "source": [
    "How is this possible?"
   ]
  },
  {
   "cell_type": "code",
   "execution_count": 6,
   "metadata": {
    "ExecuteTime": {
     "end_time": "2020-05-24T15:07:55.256321Z",
     "start_time": "2020-05-24T15:07:55.236675Z"
    },
    "scrolled": false
   },
   "outputs": [
    {
     "name": "stdout",
     "output_type": "stream",
     "text": [
      "Well....!\n",
      "---------\n",
      "0.30000000000000004\n",
      "0.3\n",
      "0.6000000000000001\n",
      "0.4\n",
      "0.4\n",
      "0.6000000000000001\n",
      "0.6\n",
      "1.7999999999999998\n",
      "0.8\n",
      "0.15000000000000002\n",
      "0.07500000000000001\n"
     ]
    }
   ],
   "source": [
    "print(\"Well....!\\n---------\")\n",
    "print(3 * 0.1)\n",
    "print(3/10)\n",
    "print(3 * 0.2)\n",
    "print(4 * 0.1)\n",
    "print(4/10)\n",
    "print(6 * 0.1)\n",
    "print(6/10)\n",
    "print(6 * 0.3)\n",
    "print(8 * 0.1)\n",
    "print(1.5 * 0.1)\n",
    "print(0.75 * 0.1)"
   ]
  },
  {
   "cell_type": "markdown",
   "metadata": {},
   "source": [
    "__But why is this happening?__\n",
    "\n",
    "Floating point numbers are represented in computer hardware in **base 2**, but in theory, we have been practising it in **base 10**. *Now, decimal fractions cannot be represented exactly as binary fractions.* As a result, the decimal floating-point numbers are only **approximated** to the binary floating-point numbers.\n",
    "\n",
    "No matter how many base 2 digits you are willing to use, the decimal value 0.1 cannot be represented **exactly** as a base 2 fraction.\n",
    "\n",
    "Many users are not aware of the approximation because of the way values are displayed. If Python were to print the _true decimal value of the binary approximation stored for 0.1_, it would display:\n",
    "```\n",
    ">>> 0.1\n",
    "0.1000000000000000055511151231257827021181583404541015625\n",
    "```\n",
    "But we don't follow so many decimals. So Python keeps the number of digits manageable by displaying a rounded value instead.\n",
    "```\n",
    ">>> 0.1\n",
    "0.1\n",
    "```\n",
    "\n",
    "Hence, even though printed result looks like the exact value of 1/10, the *actual stored value is the __nearest representable binary fraction__*.\n",
    "\n",
    "__NOTE__ : This is the *very nature of binary floating-point* and **NOT a bug in Python**. You’ll see the same kind of thing in all languages that support your hardware’s floating-point arithmetic."
   ]
  },
  {
   "cell_type": "markdown",
   "metadata": {},
   "source": [
    "The following table lists all of Python's operators, from __highest precedence to lowest__.\n",
    "\n",
    "| Operator | Description |\n",
    "| :---:| :---: |\n",
    "| ** | Exponentiation (raise to the power) |\n",
    "| ~, +, - | Complement, unary plus and minus |\n",
    "| * , /, %, // | Multiply, floating point division, modulo and floor division |\n",
    "| +,- | Addition and subtraction |\n",
    "| >>, << | Right and left bitwise shift |\n",
    "| & | Bitwise AND |\n",
    "| ^ | Bitwise XOR |\n",
    "| in, not in, is, is not, <, <=, >, >= | Comparison operators, equality operators, membership and identity operators |\n",
    "| not | Boolean NOT |\n",
    "| and | Boolean AND |\n",
    "| or | Boolean OR |\n",
    "| =, %=, /=, //=, +=, -=, ```*=``` | Assignment operators |\n",
    "\n",
    "Also, `|` => Bitwise OR\n",
    "\n",
    "__BONUS__ : If you ever came across with large numbers, most of the times, it might be hard to read. In that situation, we can use `_` and equally separate them \"visually\" - just like we use `,` while doing on a paper."
   ]
  },
  {
   "cell_type": "code",
   "execution_count": 7,
   "metadata": {
    "ExecuteTime": {
     "end_time": "2020-05-24T15:07:57.586408Z",
     "start_time": "2020-05-24T15:07:57.583028Z"
    }
   },
   "outputs": [],
   "source": [
    "num1 = 100_00_00\n",
    "num2 = 1_00_99\n",
    "\n",
    "res = num1 + num2"
   ]
  },
  {
   "cell_type": "markdown",
   "metadata": {},
   "source": [
    "Now, in order to print the result, we need to ensure that the result also has a comma for visual ease. This can be done using __format__ which I will explain later in this notebook.\n",
    "\n",
    "__NOTE__ : This won't change the datatype from `int` to `str`. It is just a display."
   ]
  },
  {
   "cell_type": "code",
   "execution_count": 8,
   "metadata": {
    "ExecuteTime": {
     "end_time": "2020-05-24T15:07:59.380767Z",
     "start_time": "2020-05-24T15:07:59.376850Z"
    }
   },
   "outputs": [
    {
     "name": "stdout",
     "output_type": "stream",
     "text": [
      "1,010,099\n"
     ]
    }
   ],
   "source": [
    "print(f'{res:,}')"
   ]
  },
  {
   "cell_type": "markdown",
   "metadata": {},
   "source": [
    "# Variables and Objects\n",
    "\n",
    "__Everything in Python is an Object!__ Objects can be:\n",
    "* __Mutable__: value can be changed. [list, set, dictionaries]\n",
    "* __Immutable__: value is unchangeable. [number, string, frozenset, tuple]\n",
    "\n",
    "Object's mutability is defined by its __type__. __They Are Never Explicitly Destroyed!__ Allocation and deletion is done by the interpreter.\n",
    "\n",
    "Now, those of you who have some experience with __OOP__, you know about `class` and how is object related with it. So each and every python object has some built-in methods ready with them. We will get into the details later but for now, a small hack to find out those methods."
   ]
  },
  {
   "cell_type": "code",
   "execution_count": 9,
   "metadata": {
    "ExecuteTime": {
     "end_time": "2020-05-24T15:08:00.910025Z",
     "start_time": "2020-05-24T15:08:00.895975Z"
    },
    "scrolled": true
   },
   "outputs": [
    {
     "data": {
      "text/plain": [
       "['__abs__',\n",
       " '__add__',\n",
       " '__and__',\n",
       " '__bool__',\n",
       " '__ceil__',\n",
       " '__class__',\n",
       " '__delattr__',\n",
       " '__dir__',\n",
       " '__divmod__',\n",
       " '__doc__',\n",
       " '__eq__',\n",
       " '__float__',\n",
       " '__floor__',\n",
       " '__floordiv__',\n",
       " '__format__',\n",
       " '__ge__',\n",
       " '__getattribute__',\n",
       " '__getnewargs__',\n",
       " '__gt__',\n",
       " '__hash__',\n",
       " '__index__',\n",
       " '__init__',\n",
       " '__init_subclass__',\n",
       " '__int__',\n",
       " '__invert__',\n",
       " '__le__',\n",
       " '__lshift__',\n",
       " '__lt__',\n",
       " '__mod__',\n",
       " '__mul__',\n",
       " '__ne__',\n",
       " '__neg__',\n",
       " '__new__',\n",
       " '__or__',\n",
       " '__pos__',\n",
       " '__pow__',\n",
       " '__radd__',\n",
       " '__rand__',\n",
       " '__rdivmod__',\n",
       " '__reduce__',\n",
       " '__reduce_ex__',\n",
       " '__repr__',\n",
       " '__rfloordiv__',\n",
       " '__rlshift__',\n",
       " '__rmod__',\n",
       " '__rmul__',\n",
       " '__ror__',\n",
       " '__round__',\n",
       " '__rpow__',\n",
       " '__rrshift__',\n",
       " '__rshift__',\n",
       " '__rsub__',\n",
       " '__rtruediv__',\n",
       " '__rxor__',\n",
       " '__setattr__',\n",
       " '__sizeof__',\n",
       " '__str__',\n",
       " '__sub__',\n",
       " '__subclasshook__',\n",
       " '__truediv__',\n",
       " '__trunc__',\n",
       " '__xor__',\n",
       " 'as_integer_ratio',\n",
       " 'bit_length',\n",
       " 'conjugate',\n",
       " 'denominator',\n",
       " 'from_bytes',\n",
       " 'imag',\n",
       " 'numerator',\n",
       " 'real',\n",
       " 'to_bytes']"
      ]
     },
     "execution_count": 9,
     "metadata": {},
     "output_type": "execute_result"
    }
   ],
   "source": [
    "int_var = 3\n",
    "dir(int_var)"
   ]
  },
  {
   "cell_type": "markdown",
   "metadata": {},
   "source": [
    "Few things about variables:\n",
    "\n",
    "* Variables do not have a defined type at compile time.\n",
    "* Variables can reference any type of object!\n",
    "* Variable type can change in run-time.\n",
    "\n",
    "The most commonly used methods of constructing a multi-word variable name are as follows:\n",
    "\n",
    "* **Camel Case**: Second and subsequent words are capitalized, to make word boundaries easier to see.\n",
    "    + Example: `numberOfCollegeGraduates`\n",
    "* **Pascal Case**: Identical to Camel Case, except the first word is also capitalized.\n",
    "    + Example: `NumberOfCollegeGraduates`\n",
    "* **Snake Case**: Words are separated by underscores.\n",
    "    + Example: `number_of_college_graduates`\n",
    "    \n",
    "__NOTE__ : There is no such thing as __constants__ in Python. However, it can be created. But in order to explain it, we need to understand `class` first, which we have covered in __`Python Tutorials Intermediate - Part 2`__."
   ]
  },
  {
   "cell_type": "code",
   "execution_count": 10,
   "metadata": {
    "ExecuteTime": {
     "end_time": "2020-05-24T15:08:03.029930Z",
     "start_time": "2020-05-24T15:08:03.017340Z"
    }
   },
   "outputs": [
    {
     "ename": "SyntaxError",
     "evalue": "invalid decimal literal (2875109401.py, line 5)",
     "output_type": "error",
     "traceback": [
      "\u001b[0;36m  File \u001b[0;32m\"/tmp/ipykernel_592/2875109401.py\"\u001b[0;36m, line \u001b[0;32m5\u001b[0m\n\u001b[0;31m    1234_get_on_the_dance_floor = \"really?\"\u001b[0m\n\u001b[0m        ^\u001b[0m\n\u001b[0;31mSyntaxError\u001b[0m\u001b[0;31m:\u001b[0m invalid decimal literal\n"
     ]
    }
   ],
   "source": [
    "# way we can assign variables\n",
    "\n",
    "my_variable = \"is my variable. None of your variable!\"\n",
    "\n",
    "1234_get_on_the_dance_floor = \"really?\""
   ]
  },
  {
   "cell_type": "markdown",
   "metadata": {},
   "source": [
    "Yeah, you CAN'T start a variable name with an integer!"
   ]
  },
  {
   "cell_type": "markdown",
   "metadata": {
    "ExecuteTime": {
     "end_time": "2018-10-08T15:35:46.397704Z",
     "start_time": "2018-10-08T15:35:46.392236Z"
    }
   },
   "source": [
    "# Data Type and Type Conversion"
   ]
  },
  {
   "cell_type": "code",
   "execution_count": 11,
   "metadata": {
    "ExecuteTime": {
     "end_time": "2020-05-24T15:08:05.461522Z",
     "start_time": "2020-05-24T15:08:05.454147Z"
    }
   },
   "outputs": [
    {
     "name": "stdout",
     "output_type": "stream",
     "text": [
      "<class 'str'>\n",
      "<class 'bool'>\n",
      "<class 'float'>\n",
      "<class 'complex'>\n"
     ]
    }
   ],
   "source": [
    "# data types\n",
    "\n",
    "print(type(\"hello\"))\n",
    "\n",
    "print(type(True))\n",
    "\n",
    "print(type(999.666))\n",
    "\n",
    "print(type((-1+0j)))\n",
    "\n",
    "# and also list, tuple, set, dictionary, date, enumerate"
   ]
  },
  {
   "cell_type": "markdown",
   "metadata": {},
   "source": [
    "Note that every one of them is giving off `class` in their data type. As mentioned, we will discuss this in another notebook."
   ]
  },
  {
   "cell_type": "code",
   "execution_count": 12,
   "metadata": {
    "ExecuteTime": {
     "end_time": "2020-05-24T15:08:06.482500Z",
     "start_time": "2020-05-24T15:08:06.477615Z"
    }
   },
   "outputs": [
    {
     "name": "stdout",
     "output_type": "stream",
     "text": [
      "6.0\n",
      "We are using Python 3\n",
      "9\n"
     ]
    }
   ],
   "source": [
    "# type conversion\n",
    "\n",
    "print(float(6))\n",
    "print(\"We are using Python \" + str(3))\n",
    "print(int(\"3\") + int(\"6\"))"
   ]
  },
  {
   "cell_type": "markdown",
   "metadata": {},
   "source": [
    "# Importing Python Modules and standard libraries\n",
    "\n",
    "There are 2 major ways to import standard and open-source external libraries to your programming environment:"
   ]
  },
  {
   "cell_type": "code",
   "execution_count": 13,
   "metadata": {
    "ExecuteTime": {
     "end_time": "2020-05-24T15:09:21.773474Z",
     "start_time": "2020-05-24T15:09:21.764891Z"
    }
   },
   "outputs": [
    {
     "name": "stdout",
     "output_type": "stream",
     "text": [
      "0.8509035245341184\n",
      "0.8509035245341184\n",
      "=========================\n",
      "0.8509035245341184\n",
      "0.8509035245341184\n"
     ]
    }
   ],
   "source": [
    "# 1.1. By directly import\n",
    "import math\n",
    "print(math.sin(45))\n",
    "\n",
    "# 1.2. Using alias\n",
    "import math as m # <- m is the alias\n",
    "print(m.sin(45))\n",
    "print(\"=\"*25)\n",
    "\n",
    "#############################################\n",
    "\n",
    "# 2.1 By importing everything\n",
    "from math import *\n",
    "print(sin(45))\n",
    "\n",
    "# 2.2 By specifically importing its functions\n",
    "from math import sin, cos, sqrt\n",
    "print(sin(45))"
   ]
  },
  {
   "cell_type": "markdown",
   "metadata": {},
   "source": [
    "__So, which one is the best way?__\n",
    "\n",
    "> _1st Approach_\n",
    "```\n",
    "import math\n",
    "import math as m\n",
    "```\n",
    "\n",
    "This __brings the name__ `math` into your script. Technically, it binds the name `math` to the object - that is, the __`math`__ module.\n",
    "\n",
    "It __does NOT give you direct access__ to any of the method names inside `math` itself (such as `sin`, `cos`, `sqrt` for example). To access those you __need to prefix__ them with `math` as shown above.\n",
    "\n",
    "> _2nd Approach_\n",
    "```\n",
    "from math import *\n",
    "from math import sin, cos, sqrt\n",
    "```\n",
    "\n",
    "This __does NOT bring the name__ `math` into your script, instead it either __brings all the method names__ present inside __`math`__ (when using `*`) or specific names such as `sin`, `cos`, `sqrt`. Now you can access those names __without a prefix__ as shown above.\n",
    "\n",
    "__CONCLUSION?__\n",
    "\n",
    "Clearly, the __2nd Approach is NOT recommended__, because it makes it harder for us to find the source of the method name while debugging. This will increase the chance for the user to overwrite these method names as variables. For example:\n",
    "\n",
    "```python\n",
    "from math import *\n",
    "# some code ....\n",
    "# some more code ...\n",
    "cos = [a for a in exp]  # <- blunder! now the cos method has been overwritten with this silly list comprehension. \n",
    "# So down the code, if you call cos, you can't perform the actual cos operation\n",
    "```"
   ]
  },
  {
   "cell_type": "markdown",
   "metadata": {},
   "source": [
    "__Some of the default modules in Python__\n",
    "\n",
    "![default_modules](Photos/default_modules.png)"
   ]
  },
  {
   "cell_type": "markdown",
   "metadata": {},
   "source": [
    "# Python Built-in Functions and keywords <a name = \"builtins\"></a>\n",
    "\n",
    "__Built-in functions__ are core functions, provided by the Python Interpreter. These functions are __implemented in C__ and hence are capable of using and manipulating Python objects at memory level, with increased performance.\n",
    "\n",
    "__Keywords__ are basically reserved words. It can't be used as variable's names."
   ]
  },
  {
   "cell_type": "code",
   "execution_count": 14,
   "metadata": {
    "ExecuteTime": {
     "end_time": "2020-05-24T15:09:25.019079Z",
     "start_time": "2020-05-24T15:09:24.926148Z"
    },
    "hide_input": false,
    "scrolled": false
   },
   "outputs": [
    {
     "name": "stdout",
     "output_type": "stream",
     "text": [
      "| ArithmeticError       | AssertionError         | AttributeError       | BaseException             | BlockingIOError        |\n",
      "| BrokenPipeError       | BufferError            | BytesWarning         | ChildProcessError         | ConnectionAbortedError |\n",
      "| ConnectionError       | ConnectionRefusedError | ConnectionResetError | DeprecationWarning        | EOFError               |\n",
      "| Ellipsis              | EnvironmentError       | Exception            | False                     | FileExistsError        |\n",
      "| FileNotFoundError     | FloatingPointError     | FutureWarning        | GeneratorExit             | IOError                |\n",
      "| ImportError           | ImportWarning          | IndentationError     | IndexError                | InterruptedError       |\n",
      "| IsADirectoryError     | KeyError               | KeyboardInterrupt    | LookupError               | MemoryError            |\n",
      "| ModuleNotFoundError   | NameError              | None                 | NotADirectoryError        | NotImplemented         |\n",
      "| NotImplementedError   | OSError                | OverflowError        | PendingDeprecationWarning | PermissionError        |\n",
      "| ProcessLookupError    | RecursionError         | ReferenceError       | ResourceWarning           | RuntimeError           |\n",
      "| RuntimeWarning        | StopAsyncIteration     | StopIteration        | SyntaxError               | SyntaxWarning          |\n",
      "| SystemError           | SystemExit             | TabError             | TimeoutError              | True                   |\n",
      "| TypeError             | UnboundLocalError      | UnicodeDecodeError   | UnicodeEncodeError        | UnicodeError           |\n",
      "| UnicodeTranslateError | UnicodeWarning         | UserWarning          | ValueError                | Warning                |\n",
      "| ZeroDivisionError     | __IPYTHON__            | __build_class__      | __debug__                 | __doc__                |\n",
      "| __import__            | __loader__             | __name__             | __package__               | __spec__               |\n",
      "| abs                   | all                    | any                  | ascii                     | bin                    |\n",
      "| bool                  | breakpoint             | bytearray            | bytes                     | callable               |\n",
      "| chr                   | classmethod            | compile              | complex                   | copyright              |\n",
      "| credits               | delattr                | dict                 | dir                       | display                |\n",
      "| divmod                | enumerate              | eval                 | exec                      | execfile               |\n",
      "| filter                | float                  | format               | frozenset                 | get_ipython            |\n",
      "| getattr               | globals                | hasattr              | hash                      | help                   |\n",
      "| hex                   | id                     | input                | int                       | isinstance             |\n",
      "| issubclass            | iter                   | len                  | license                   | list                   |\n",
      "| locals                | map                    | max                  | memoryview                | min                    |\n",
      "| next                  | object                 | oct                  | open                      | ord                    |\n",
      "| pow                   | print                  | property             | range                     | repr                   |\n",
      "| reversed              | round                  | runfile              | set                       | setattr                |\n",
      "| slice                 | sorted                 | staticmethod         | str                       | sum                    |\n",
      "| super                 | tuple                  | type                 | vars                      | zip                    |\n"
     ]
    }
   ],
   "source": [
    "# getting the list of built-in functions\n",
    "import numpy as np\n",
    "from tabulate import tabulate\n",
    "\n",
    "builtin_functions_list = dir(__builtins__)\n",
    "builtin_functions_data = np.array(builtin_functions_list)\n",
    "shape = ((len(builtin_functions_list)//5),5)\n",
    "print(tabulate(builtin_functions_data.reshape(shape), tablefmt='orgtbl'))"
   ]
  },
  {
   "cell_type": "code",
   "execution_count": 15,
   "metadata": {
    "ExecuteTime": {
     "end_time": "2020-05-24T15:09:26.425954Z",
     "start_time": "2020-05-24T15:09:26.420168Z"
    },
    "hide_input": false,
    "scrolled": true
   },
   "outputs": [
    {
     "name": "stdout",
     "output_type": "stream",
     "text": [
      "| False    | None    | True  | and   | as     |\n",
      "| assert   | async   | await | break | class  |\n",
      "| continue | def     | del   | elif  | else   |\n",
      "| except   | finally | for   | from  | global |\n",
      "| if       | import  | in    | is    | lambda |\n",
      "| nonlocal | not     | or    | pass  | raise  |\n",
      "| return   | try     | while | with  | yield  |\n"
     ]
    }
   ],
   "source": [
    "# getting the list of built-in keywords\n",
    "import keyword\n",
    "\n",
    "keywords_list = keyword.kwlist\n",
    "keywords_data = np.array(keywords_list)\n",
    "shape = ((len(keywords_list)//5),5)\n",
    "print(tabulate(keywords_data.reshape(shape), tablefmt='orgtbl'))"
   ]
  },
  {
   "cell_type": "markdown",
   "metadata": {},
   "source": [
    "# String operations and formatting <a name = \"string_ops\"></a>"
   ]
  },
  {
   "cell_type": "code",
   "execution_count": 16,
   "metadata": {
    "ExecuteTime": {
     "end_time": "2020-05-24T15:09:28.776862Z",
     "start_time": "2020-05-24T15:09:28.761524Z"
    }
   },
   "outputs": [
    {
     "name": "stdout",
     "output_type": "stream",
     "text": [
      "This is concatenation of string\n",
      "333\n"
     ]
    },
    {
     "ename": "TypeError",
     "evalue": "can't multiply sequence by non-int of type 'float'",
     "output_type": "error",
     "traceback": [
      "\u001b[0;31m---------------------------------------------------------------------------\u001b[0m",
      "\u001b[0;31mTypeError\u001b[0m                                 Traceback (most recent call last)",
      "\u001b[0;32m/tmp/ipykernel_592/2585751734.py\u001b[0m in \u001b[0;36m<cell line: 8>\u001b[0;34m()\u001b[0m\n\u001b[1;32m      6\u001b[0m \u001b[0mprint\u001b[0m\u001b[0;34m(\u001b[0m\u001b[0;36m3\u001b[0m \u001b[0;34m*\u001b[0m \u001b[0;34m\"3\"\u001b[0m\u001b[0;34m)\u001b[0m\u001b[0;34m\u001b[0m\u001b[0;34m\u001b[0m\u001b[0m\n\u001b[1;32m      7\u001b[0m \u001b[0;34m\u001b[0m\u001b[0m\n\u001b[0;32m----> 8\u001b[0;31m \u001b[0mprint\u001b[0m\u001b[0;34m(\u001b[0m\u001b[0;34m\"python\"\u001b[0m \u001b[0;34m*\u001b[0m \u001b[0;36m3.7\u001b[0m\u001b[0;34m)\u001b[0m\u001b[0;34m\u001b[0m\u001b[0;34m\u001b[0m\u001b[0m\n\u001b[0m",
      "\u001b[0;31mTypeError\u001b[0m: can't multiply sequence by non-int of type 'float'"
     ]
    }
   ],
   "source": [
    "## Concatenation\n",
    "\n",
    "str_var_1 = \"concatenation\"\n",
    "print(\"This is \" + str_var_1 + \" of string\")\n",
    "\n",
    "print(3 * \"3\")\n",
    "\n",
    "print(\"python\" * 3.7)"
   ]
  },
  {
   "cell_type": "markdown",
   "metadata": {},
   "source": [
    "If you want to obtain the list of characters in a string, then we can do it using `list`. There is another way which I will explain the User-Defined Function section."
   ]
  },
  {
   "cell_type": "code",
   "execution_count": 17,
   "metadata": {
    "ExecuteTime": {
     "end_time": "2020-05-24T15:09:33.817738Z",
     "start_time": "2020-05-24T15:09:33.814110Z"
    }
   },
   "outputs": [
    {
     "name": "stdout",
     "output_type": "stream",
     "text": [
      "['t', 'a', 'm', 'o', 'g', 'h', 'n', 'a']\n"
     ]
    }
   ],
   "source": [
    "my_name = 'tamoghna'\n",
    "print(list(my_name))"
   ]
  },
  {
   "cell_type": "markdown",
   "metadata": {},
   "source": [
    "__String formatting__ provides a powerful way of embedding non-strings with strings."
   ]
  },
  {
   "cell_type": "code",
   "execution_count": 18,
   "metadata": {
    "ExecuteTime": {
     "end_time": "2020-05-24T15:10:09.792247Z",
     "start_time": "2020-05-24T15:10:09.786538Z"
    }
   },
   "outputs": [
    {
     "name": "stdout",
     "output_type": "stream",
     "text": [
      "We are using Python version 3.6.x\n",
      "We could have also used Python 2.7\n",
      "abra cadabra \n"
     ]
    }
   ],
   "source": [
    "# string formatting\n",
    "\n",
    "py_ver = \"We are using Python version {}.{}.x\".format(3,6)\n",
    "print(py_ver)\n",
    "\n",
    "other_version = 2.7\n",
    "print(f\"We could have also used Python {other_version}\") #another way of performing string formatting\n",
    "\n",
    "print(\"{0}{1}{0}\".format(\"abra \",\"cad\"))"
   ]
  },
  {
   "cell_type": "markdown",
   "metadata": {
    "ExecuteTime": {
     "end_time": "2018-10-08T19:36:04.234044Z",
     "start_time": "2018-10-08T19:36:04.230242Z"
    }
   },
   "source": [
    "# Useful Pythonic Functions <a name = \"pythonic_func\"></a>"
   ]
  },
  {
   "cell_type": "code",
   "execution_count": 19,
   "metadata": {
    "ExecuteTime": {
     "end_time": "2020-05-24T15:10:11.556109Z",
     "start_time": "2020-05-24T15:10:11.549104Z"
    }
   },
   "outputs": [
    {
     "name": "stdout",
     "output_type": "stream",
     "text": [
      "NASA | Google | Netflix | Yahoo\n",
      "['NASA', 'Google', 'Netflix', 'Yahoo']\n",
      "['N', 'S', '-Google-Netflix-Yahoo']\n",
      "Python 3.6\n",
      "True\n",
      "PYTHON\n"
     ]
    }
   ],
   "source": [
    "# strings\n",
    "\n",
    "# converting list to string with a common separator\n",
    "print(\" | \".join([\"NASA\",\"Google\",\"Netflix\",\"Yahoo\"]))\n",
    "\n",
    "# converting string to list\n",
    "print(\"NASA-Google-Netflix-Yahoo\".split(\"-\"))\n",
    "print(\"NASA-Google-Netflix-Yahoo\".split(\"A\"))\n",
    "\n",
    "# replacing a string content\n",
    "print(\"Python 2.7\".replace(\"2.7\",\"3.6\"))\n",
    "\n",
    "# checking if the string value passed matches with the first/last string value present in a statement\n",
    "print(\"There is more to it than meets the eye\".startswith(\"There\")) # also endswith is there\n",
    "\n",
    "# converting to upper case\n",
    "print(\"python\".upper())"
   ]
  },
  {
   "cell_type": "code",
   "execution_count": 20,
   "metadata": {
    "ExecuteTime": {
     "end_time": "2020-05-24T15:10:13.601546Z",
     "start_time": "2020-05-24T15:10:13.596515Z"
    }
   },
   "outputs": [
    {
     "name": "stdout",
     "output_type": "stream",
     "text": [
      "98\n",
      "9\n",
      "20\n"
     ]
    }
   ],
   "source": [
    "# numeric\n",
    "\n",
    "print(max(10,64,86,13,98))\n",
    "\n",
    "print(abs(-9))\n",
    "\n",
    "print(sum([2,4,6,8]))"
   ]
  },
  {
   "cell_type": "markdown",
   "metadata": {},
   "source": [
    "# User Input Function <a name = \"user_in\"></a>\n",
    "\n",
    "There is no `raw_input` function in Python 3 as available in Python 2. __By default, it expects string input__."
   ]
  },
  {
   "cell_type": "code",
   "execution_count": 21,
   "metadata": {
    "ExecuteTime": {
     "end_time": "2020-05-24T15:10:18.054614Z",
     "start_time": "2020-05-24T15:10:15.356702Z"
    }
   },
   "outputs": [
    {
     "name": "stdout",
     "output_type": "stream",
     "text": [
      "<class 'int'>\n",
      "Employee having ID No: 12345 is late for office today.\n"
     ]
    }
   ],
   "source": [
    "# user input\n",
    "\n",
    "data_input = int(input(\"Enter your ID: \"))\n",
    "print(type(data_input))\n",
    "print(\"Employee having ID No: {} is late for office today.\".format(data_input))"
   ]
  },
  {
   "cell_type": "markdown",
   "metadata": {},
   "source": [
    "In the next example, we have hardcoded the number of variables which will be storing the user input values."
   ]
  },
  {
   "cell_type": "code",
   "execution_count": 22,
   "metadata": {
    "ExecuteTime": {
     "end_time": "2020-05-24T15:10:37.827592Z",
     "start_time": "2020-05-24T15:10:19.591019Z"
    }
   },
   "outputs": [
    {
     "name": "stdout",
     "output_type": "stream",
     "text": [
      "martha\n",
      "wayne\n"
     ]
    }
   ],
   "source": [
    "# multiple inputs in a single entry\n",
    "\n",
    "var_1, var_2 = input(\"Enter your name: \").split(\"-\")\n",
    "print(var_1)\n",
    "print(var_2)"
   ]
  },
  {
   "cell_type": "markdown",
   "metadata": {},
   "source": [
    "However, this is not flexible. Instead, we can store it in a list variable and access the first and last value of it."
   ]
  },
  {
   "cell_type": "code",
   "execution_count": 23,
   "metadata": {
    "ExecuteTime": {
     "end_time": "2020-05-24T15:10:48.533739Z",
     "start_time": "2020-05-24T15:10:39.622449Z"
    }
   },
   "outputs": [
    {
     "name": "stdout",
     "output_type": "stream",
     "text": [
      "bruce\n",
      "wayne\n"
     ]
    }
   ],
   "source": [
    "# another way of performing the same thing mentioned above\n",
    "name_var = input(\"Enter your name: \").split(\" \")\n",
    "print(name_var[0])\n",
    "print(name_var[-1])"
   ]
  },
  {
   "cell_type": "markdown",
   "metadata": {},
   "source": [
    "__BONUS__ : What if you want to ask the user to enter some _password_ ? You will always want the password being entered to be not visible while entering. This can be done using built-in module `getpass`."
   ]
  },
  {
   "cell_type": "code",
   "execution_count": 24,
   "metadata": {
    "ExecuteTime": {
     "end_time": "2020-05-24T15:10:58.630967Z",
     "start_time": "2020-05-24T15:10:50.031229Z"
    }
   },
   "outputs": [
    {
     "name": "stdout",
     "output_type": "stream",
     "text": [
      "LOGGED IN SUCCESSFULLY!\n"
     ]
    }
   ],
   "source": [
    "from getpass import getpass\n",
    "\n",
    "usrnm = input(\"Enter your name: \")\n",
    "pswrd = getpass(\"Password: \")\n",
    "\n",
    "print(\"LOGGED IN SUCCESSFULLY!\")"
   ]
  },
  {
   "cell_type": "markdown",
   "metadata": {},
   "source": [
    "# User-Defined Function\n",
    "\n",
    "__Before going ahead, what is the difference between a function and a method?__\n",
    "\n",
    "| Method        | Function      |\n",
    "|:---:|:---:|\n",
    "| Method is a block of code that is called by its name, but is associated to an object (dependent) | Function is a piece of code that is called by its name but independent |\n",
    "| Method is implicitly passed for the object for which it was called | Functions can have parameters, so arguments can be passed to those paramters but explicitely |\n",
    "\n",
    "Create your own functions using __`def`__ keyword.\n",
    "\n",
    "UDF can either take or don't take parameters. The **parameters** are the variables declared in a function definition, and **arguments** are the values placed to the parameters when the function is called.\n",
    "\n",
    "The name of the UDF should be __lowercase__.\n",
    "\n",
    "__NOTE__ : You must define functions before they are called, in the same way you declare a variable before using them."
   ]
  },
  {
   "cell_type": "code",
   "execution_count": 25,
   "metadata": {
    "ExecuteTime": {
     "end_time": "2020-05-24T15:11:00.771955Z",
     "start_time": "2020-05-24T15:11:00.758927Z"
    }
   },
   "outputs": [
    {
     "name": "stdout",
     "output_type": "stream",
     "text": [
      "Calling UDF 1!\n",
      "RequiredArg:  17.1\n",
      "_________________________\n",
      "\n",
      "Calling UDF 2!\n",
      "OptionalArg:  5\n",
      "OptionalArg:  9\n",
      "_________________________\n",
      "\n",
      "Calling UDF 3!\n",
      "RequiredArg:  Python\n",
      "OptionalArg:  3.6\n",
      "Remaining Non-keyworded args:  (2, 7, 5, 1)\n",
      "Remaining keyworded args:  {'MSU_Python_Session': 1, 'kwargs_1': 'good stuffs', 'kwargs_2': 2.7, 'kwargs_3': True}\n"
     ]
    }
   ],
   "source": [
    "def udf_1(rqrdArg):\n",
    "    return(3*rqrdArg)\n",
    "\n",
    "def udf_2(optnlArg = 5):\n",
    "    print(\"OptionalArg: \", optnlArg)\n",
    "    \n",
    "def udf_3(rqrdArg, optnlArg=None, *args, **kwargs): # *args = extra unnamed argument, **kwargs = extra named arguments\n",
    "    print(\"RequiredArg: \", rqrdArg)\n",
    "    print(\"OptionalArg: \", optnlArg)\n",
    "    print(\"Remaining Non-keyworded args: \", args)\n",
    "    print(\"Remaining keyworded args: \", kwargs)\n",
    "\n",
    "print(\"Calling UDF 1!\")\n",
    "print(\"RequiredArg: \", udf_1(5.7))\n",
    "\n",
    "print('_'*25)\n",
    "print(\"\\nCalling UDF 2!\")\n",
    "udf_2()\n",
    "udf_2(9)\n",
    "\n",
    "print('_'*25)\n",
    "print(\"\\nCalling UDF 3!\")\n",
    "udf_3(\"Python\",\"3.6\",2,7,5,1,MSU_Python_Session=1, kwargs_1=\"good stuffs\", kwargs_2=2.7, kwargs_3=True)"
   ]
  },
  {
   "cell_type": "code",
   "execution_count": 26,
   "metadata": {
    "ExecuteTime": {
     "end_time": "2020-05-24T15:11:03.365719Z",
     "start_time": "2020-05-24T15:11:03.351191Z"
    }
   },
   "outputs": [
    {
     "name": "stdout",
     "output_type": "stream",
     "text": [
      "120\n"
     ]
    }
   ],
   "source": [
    "def UDF_factorial(x):\n",
    "    \"\"\"\n",
    "    This is a recursive function performing factorial of a number\n",
    "    \n",
    "    input:\n",
    "        x: the number whose factorial is calculated\n",
    "    return: the factorial value\n",
    "    \"\"\"\n",
    "    if x == 1:\n",
    "        return 1\n",
    "    else:\n",
    "        return x * UDF_factorial(x-1)\n",
    "    \n",
    "print(UDF_factorial(5))"
   ]
  },
  {
   "cell_type": "markdown",
   "metadata": {},
   "source": [
    "__How to understand what lies beneath a function/method?__\n",
    "\n",
    "* Use `function_name.__name__` to get the name of the function as a string\n",
    "* Add `?` before the function name, it gives the description (__docstring__) of the function, if any.\n",
    "* Add `??` before the function name, it gives the __source code__."
   ]
  },
  {
   "cell_type": "code",
   "execution_count": 27,
   "metadata": {
    "ExecuteTime": {
     "end_time": "2020-05-17T13:09:29.864071Z",
     "start_time": "2020-05-17T13:09:29.559Z"
    }
   },
   "outputs": [
    {
     "name": "stdout",
     "output_type": "stream",
     "text": [
      "\u001b[0;31mSignature:\u001b[0m \u001b[0mUDF_factorial\u001b[0m\u001b[0;34m(\u001b[0m\u001b[0mx\u001b[0m\u001b[0;34m)\u001b[0m\u001b[0;34m\u001b[0m\u001b[0;34m\u001b[0m\u001b[0m\n",
      "\u001b[0;31mDocstring:\u001b[0m\n",
      "This is a recursive function performing factorial of a number\n",
      "\n",
      "input:\n",
      "    x: the number whose factorial is calculated\n",
      "return: the factorial value\n",
      "\u001b[0;31mFile:\u001b[0m      /tmp/ipykernel_592/1742212432.py\n",
      "\u001b[0;31mType:\u001b[0m      function\n"
     ]
    }
   ],
   "source": [
    "?UDF_factorial"
   ]
  },
  {
   "cell_type": "markdown",
   "metadata": {},
   "source": [
    "__What does `*args` and `**kwargs` mean?__\n",
    "\n",
    "Here, `*` is called __unpacking operator__.\n",
    "\n",
    "* __`*args`__ : It allows variable-length tuple to pass as argument\n",
    "* __`**kwargs`__ : It allows keyworded, variable-length dictionary to pass as argument\n",
    "\n",
    "Note that `args` or `kwargs` is just a name. You can choose any name that you prefer. Now, you understand that `*` unpack the values from iterable objects in Python.\n",
    "\n",
    "These are used when \n",
    "\n",
    "* not all the arguments are used always while calling a function\n",
    "* same functionality have to be used but there can be varying number of input"
   ]
  },
  {
   "cell_type": "code",
   "execution_count": 28,
   "metadata": {
    "ExecuteTime": {
     "end_time": "2020-05-24T15:11:06.947445Z",
     "start_time": "2020-05-24T15:11:06.929426Z"
    }
   },
   "outputs": [
    {
     "name": "stdout",
     "output_type": "stream",
     "text": [
      "27\n"
     ]
    },
    {
     "ename": "TypeError",
     "evalue": "multiply() takes 2 positional arguments but 3 were given",
     "output_type": "error",
     "traceback": [
      "\u001b[0;31m---------------------------------------------------------------------------\u001b[0m",
      "\u001b[0;31mTypeError\u001b[0m                                 Traceback (most recent call last)",
      "\u001b[0;32m/tmp/ipykernel_592/1539871433.py\u001b[0m in \u001b[0;36m<cell line: 5>\u001b[0;34m()\u001b[0m\n\u001b[1;32m      3\u001b[0m \u001b[0;34m\u001b[0m\u001b[0m\n\u001b[1;32m      4\u001b[0m \u001b[0mmultiply\u001b[0m\u001b[0;34m(\u001b[0m\u001b[0;36m3\u001b[0m\u001b[0;34m,\u001b[0m\u001b[0;36m9\u001b[0m\u001b[0;34m)\u001b[0m\u001b[0;34m\u001b[0m\u001b[0;34m\u001b[0m\u001b[0m\n\u001b[0;32m----> 5\u001b[0;31m \u001b[0mmultiply\u001b[0m\u001b[0;34m(\u001b[0m\u001b[0;36m3\u001b[0m\u001b[0;34m,\u001b[0m\u001b[0;36m6\u001b[0m\u001b[0;34m,\u001b[0m\u001b[0;36m9\u001b[0m\u001b[0;34m)\u001b[0m\u001b[0;34m\u001b[0m\u001b[0;34m\u001b[0m\u001b[0m\n\u001b[0m",
      "\u001b[0;31mTypeError\u001b[0m: multiply() takes 2 positional arguments but 3 were given"
     ]
    }
   ],
   "source": [
    "def multiply(x,y):\n",
    "    print(x*y)\n",
    "    \n",
    "multiply(3,9)\n",
    "multiply(3,6,9)"
   ]
  },
  {
   "cell_type": "markdown",
   "metadata": {},
   "source": [
    "But now, using `*args`, we will be able to pass as many number of arguments as we want."
   ]
  },
  {
   "cell_type": "code",
   "execution_count": 29,
   "metadata": {
    "ExecuteTime": {
     "end_time": "2020-05-24T15:11:08.501629Z",
     "start_time": "2020-05-24T15:11:08.490902Z"
    }
   },
   "outputs": [
    {
     "name": "stdout",
     "output_type": "stream",
     "text": [
      "20\n",
      "90\n",
      "24\n",
      "900\n"
     ]
    }
   ],
   "source": [
    "# resolving the above issue with *args\n",
    "\n",
    "def multiply(*args):\n",
    "    x = 1\n",
    "    for num in args:\n",
    "        x *= num\n",
    "    print(x)\n",
    "\n",
    "multiply(4, 5)\n",
    "multiply(10, 9)\n",
    "multiply(2, 3, 4)\n",
    "multiply(3, 5, 10, 6)"
   ]
  },
  {
   "cell_type": "markdown",
   "metadata": {},
   "source": [
    "Let's see a simple example of `**kwargs`."
   ]
  },
  {
   "cell_type": "code",
   "execution_count": 30,
   "metadata": {
    "ExecuteTime": {
     "end_time": "2020-05-24T15:11:09.780255Z",
     "start_time": "2020-05-24T15:11:09.773465Z"
    }
   },
   "outputs": [
    {
     "name": "stdout",
     "output_type": "stream",
     "text": [
      "('abcde', ' Python is easy to learn')\n"
     ]
    }
   ],
   "source": [
    "def concatenate(**words):\n",
    "    result = \"\"\n",
    "    keys = \"\"\n",
    "    # obtaining the values\n",
    "    for arg in words.values():\n",
    "        result += ' {}'.format(arg)\n",
    "    \n",
    "    # directly obtaining the keys\n",
    "    for k in words:\n",
    "        keys += k\n",
    "    \n",
    "    return keys, result\n",
    "\n",
    "print(concatenate(a=\"Python\", b=\"is\", c=\"easy\", d=\"to\", e=\"learn\"))"
   ]
  },
  {
   "cell_type": "markdown",
   "metadata": {},
   "source": [
    "When ordering arguments within a function or function call, arguments need to occur in a particular order:\n",
    "\n",
    "1. Standard arguments\n",
    "2. __`*args`__\n",
    "3. __`**kwargs`__"
   ]
  },
  {
   "cell_type": "markdown",
   "metadata": {},
   "source": [
    "When you use the `*` operator to unpack a list and pass arguments to a function, _it is exactly the same thing as passing every single argument alone_. This means that you can __use multiple unpacking operators to get values from several lists__ and pass them all to a single function."
   ]
  },
  {
   "cell_type": "code",
   "execution_count": 31,
   "metadata": {
    "ExecuteTime": {
     "end_time": "2020-05-24T15:11:11.916645Z",
     "start_time": "2020-05-24T15:11:11.908186Z"
    }
   },
   "outputs": [
    {
     "name": "stdout",
     "output_type": "stream",
     "text": [
      "5040\n"
     ]
    }
   ],
   "source": [
    "def my_mul(*inp):\n",
    "    result = 1\n",
    "    for x in inp:\n",
    "        result *= x\n",
    "    return result\n",
    "\n",
    "inp_1 = [1, 2]\n",
    "inp_2 = (3, 4, 5)\n",
    "inp_3 = [6, 7]\n",
    "\n",
    "print(my_mul(*inp_1, *inp_2, *inp_3))"
   ]
  },
  {
   "cell_type": "markdown",
   "metadata": {},
   "source": [
    "__BONUS__ : `*` operator works on any iterable object. It can also be used to unpack a string:"
   ]
  },
  {
   "cell_type": "code",
   "execution_count": 32,
   "metadata": {
    "ExecuteTime": {
     "end_time": "2020-05-24T15:11:13.435929Z",
     "start_time": "2020-05-24T15:11:13.428283Z"
    }
   },
   "outputs": [
    {
     "name": "stdout",
     "output_type": "stream",
     "text": [
      "['t', 'a', 'm', 'o', 'g', 'h', 'n', 'a', '_', 's', 'a', 'h', 'a']\n",
      "['t', 'a', 'm', 'o', 'g', 'h', 'n', 'a', '_', 's', 'a', 'h', 'a']\n"
     ]
    }
   ],
   "source": [
    "my_name = [*\"tamoghna_saha\"]\n",
    "print(my_name)\n",
    "\n",
    "# an alternative way\n",
    "*my_name_again, = \"tamoghna_saha\"\n",
    "print(my_name_again)"
   ]
  },
  {
   "cell_type": "markdown",
   "metadata": {},
   "source": [
    "As you can see, both of the above codes does the same thing. The comma after the `my_name_again` does the trick. When you use the `*` with variable, Python requires that your resulting variable is either a list or a tuple. __With the trailing comma, you have actually defined a tuple__ with just one named variable `my_name_again`. Although, the __output format is list__.\n",
    "\n",
    "We'll explore more about __tuple__ and __list__ in the next notebook."
   ]
  },
  {
   "cell_type": "markdown",
   "metadata": {},
   "source": [
    "# Scope of a variable <a name=\"scope\"></a>\n",
    "\n",
    "Not all variables are accessible from all parts of our program, and not all variables exist for the same amount of time.\n",
    "\n",
    "Basically, part of a program where a variable is accessible is its __scope__ and the duration for which the variable exists its __lifetime__.\n",
    "\n",
    "There are two types of variable scope:\n",
    "* __Global__: It is defined in the main body of a file, will be visible throughout the file, and also inside any file which imports that file.\n",
    "* __Local__: it is  defined inside a function, limiting its availability inside that function. It is accessible from the point at which it is defined until the end of the function, and exists for as long as the function is executing.\n",
    "\n",
    "In Python 3, a third type of variable scope has been defined - __nonlocal__. It allows to assign variables in an __outer, but non-global__, scope."
   ]
  },
  {
   "cell_type": "code",
   "execution_count": 33,
   "metadata": {
    "ExecuteTime": {
     "end_time": "2020-05-24T15:11:16.065670Z",
     "start_time": "2020-05-24T15:11:16.060537Z"
    }
   },
   "outputs": [
    {
     "name": "stdout",
     "output_type": "stream",
     "text": [
      "x inside : global\n",
      "x outside: global\n"
     ]
    }
   ],
   "source": [
    "# global and local example 1\n",
    "\n",
    "x = \"global\"\n",
    "\n",
    "def foo():\n",
    "    print(\"x inside :\", x)\n",
    "\n",
    "foo()\n",
    "print(\"x outside:\", x)"
   ]
  },
  {
   "cell_type": "code",
   "execution_count": 34,
   "metadata": {
    "ExecuteTime": {
     "end_time": "2020-05-24T15:11:17.292484Z",
     "start_time": "2020-05-24T15:11:17.286951Z"
    },
    "scrolled": true
   },
   "outputs": [
    {
     "name": "stdout",
     "output_type": "stream",
     "text": [
      "`func2` => B\n",
      "`func1` => A\n"
     ]
    }
   ],
   "source": [
    "# global and local example 2\n",
    "\n",
    "def func1():\n",
    "    msg = \"A\"\n",
    "    def func2():\n",
    "        msg = \"B\"\n",
    "        print('`{}` => {}'.format(func2.__name__, msg))\n",
    "    func2()\n",
    "    print('`{}` => {}'.format(func1.__name__, msg))\n",
    "    \n",
    "func1()"
   ]
  },
  {
   "cell_type": "markdown",
   "metadata": {},
   "source": [
    "The _msg_ variable is declared in the __func1()__ function and assigned the value _\"A\"_. Then, in the __func2()__ function, the value _\"B\"_ is assigned to variable having same name _msg_. \n",
    "\n",
    "When we call the function __func1()__, _msg_ gets _\"A\"_, then it calls the function __func2()__ and again the _msg_ variable gets assigned with the value _\"B\"_. So you must be thinking that the _msg_ variable got overwritten, but we can see in the output that Python retains the old value of _\"A\"_ in the __func1()__ function.\n",
    "\n",
    "We see this behavior because Python hasn’t actually assigned new value _\"B\"_ to the existing _msg_ variable, but has created a new variable called __msg in the local scope of the inside function (a.k.a. `func2`), that shadows the name of the variable in the outer scope (a.k.a. `func1`)__.\n",
    "\n",
    "Preventing that behavior is where the __nonlocal__ 'keyword' comes in. `nonlocal` binds one or more variables to the outer scope. If the immediate outer scope does not have the same variable name, it will resolve to the name in the next outer scope, considering it is same. _If none of the outer scopes have the same name present, the binding fails._ \n",
    "\n",
    "__This is what makes `nonlocal` less powerful than `global` but more powerful than `local`.__"
   ]
  },
  {
   "cell_type": "code",
   "execution_count": 35,
   "metadata": {
    "ExecuteTime": {
     "end_time": "2020-05-24T15:11:18.732624Z",
     "start_time": "2020-05-24T15:11:18.726297Z"
    }
   },
   "outputs": [
    {
     "name": "stdout",
     "output_type": "stream",
     "text": [
      "`func3` => C\n",
      "`func2` => C\n",
      "`func1` => A\n"
     ]
    }
   ],
   "source": [
    "# nonlocal example 1\n",
    "\n",
    "def func1():\n",
    "    msg = \"A\"\n",
    "    \n",
    "    def func2():\n",
    "        msg = \"B\"\n",
    "        \n",
    "        def func3():\n",
    "            nonlocal msg\n",
    "            msg = \"C\"\n",
    "            print('`{}` => {}'.format(func3.__name__, msg))\n",
    "        func3()\n",
    "        print('`{}` => {}'.format(func2.__name__, msg))\n",
    "    \n",
    "    func2()\n",
    "    print('`{}` => {}'.format(func1.__name__, msg))\n",
    "    \n",
    "func1()"
   ]
  },
  {
   "cell_type": "markdown",
   "metadata": {},
   "source": [
    "Now, by declaring __nonlocal__ _msg_ in the __func3()__ function, Python knows that when it sees an assignment to msg, it should assign that value to the variable from the __immediate__ outer scope __instead of declaring a new variable that shadows its name__.\n",
    "\n",
    "The usage of nonlocal is very similar to that of global, except that the former is used for __variables in immediate outer function scopes__."
   ]
  },
  {
   "cell_type": "code",
   "execution_count": 36,
   "metadata": {
    "ExecuteTime": {
     "end_time": "2020-05-24T15:11:19.807626Z",
     "start_time": "2020-05-24T15:11:19.799766Z"
    }
   },
   "outputs": [
    {
     "name": "stdout",
     "output_type": "stream",
     "text": [
      "`func4` => D\n",
      "`func3` => C\n",
      "`func2` => C, B\n",
      "`func1` => C\n",
      "`__main__` => AA\n"
     ]
    }
   ],
   "source": [
    "# nonlocal example 2\n",
    "\n",
    "msg = 'AA' # <- this is a global variable\n",
    "\n",
    "def func1():\n",
    "    msg = \"A\" # local scoped to func1\n",
    "    \n",
    "    def func2():\n",
    "        # not defining any msg variable in func2\n",
    "        msg2 = \"B\"\n",
    "\n",
    "        def func3():\n",
    "            nonlocal msg\n",
    "            msg = \"C\" # nonlocal reaching it's scope till func1 but not the global variable\n",
    "            \n",
    "            def func4():\n",
    "                msg = \"D\" # local variable\n",
    "                print('`{}` => {}'.format(func4.__name__, msg))\n",
    "                \n",
    "            func4()\n",
    "            print('`{}` => {}'.format(func3.__name__, msg))\n",
    "        func3()\n",
    "        print('`{}` => {}, {}'.format(func2.__name__, msg, msg2))\n",
    "    \n",
    "    func2()\n",
    "    print('`{}` => {}'.format(func1.__name__, msg))\n",
    "    \n",
    "func1()\n",
    "print('`{}` => {}'.format(__name__, msg))"
   ]
  },
  {
   "cell_type": "markdown",
   "metadata": {},
   "source": [
    "# Additional Read <a name = \"additional_read\"></a>\n",
    "\n",
    "* [Floating Point Issue](https://docs.python.org/3/tutorial/floatingpoint.html)\n",
    "* [PEP0008 - Style Guide of Python](https://www.python.org/dev/peps/pep-0008/)\n",
    "* [The Hitchhker's Guide to Python - Writing Style](https://docs.python-guide.org/writing/style/)"
   ]
  }
 ],
 "metadata": {
  "_draft": {
   "nbviewer_url": "https://gist.github.com/b6070e2aeaed3915b1b08fe28174b15c"
  },
  "gist": {
   "data": {
    "description": "Python Notebook | Beginner.ipynb",
    "public": true
   },
   "id": "b6070e2aeaed3915b1b08fe28174b15c"
  },
  "kernelspec": {
   "display_name": "Python 3.8.10 ('python-tutorial-4D03WsXq-py3.8')",
   "language": "python",
   "name": "python3"
  },
  "language_info": {
   "codemirror_mode": {
    "name": "ipython",
    "version": 3
   },
   "file_extension": ".py",
   "mimetype": "text/x-python",
   "name": "python",
   "nbconvert_exporter": "python",
   "pygments_lexer": "ipython3",
   "version": "3.8.10"
  },
  "toc": {
   "base_numbering": 1,
   "nav_menu": {},
   "number_sections": true,
   "sideBar": true,
   "skip_h1_title": false,
   "title_cell": "Table of Contents",
   "title_sidebar": "Contents",
   "toc_cell": false,
   "toc_position": {
    "height": "calc(100% - 180px)",
    "left": "10px",
    "top": "150px",
    "width": "273.975px"
   },
   "toc_section_display": true,
   "toc_window_display": true
  },
  "vscode": {
   "interpreter": {
    "hash": "497f31686c425ab76e35b5c0a7b89db21257e09c70ef1eaec306596745afbef6"
   }
  }
 },
 "nbformat": 4,
 "nbformat_minor": 2
}
