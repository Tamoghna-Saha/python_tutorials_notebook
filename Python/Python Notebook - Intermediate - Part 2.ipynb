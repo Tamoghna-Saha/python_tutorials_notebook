{
 "cells": [
  {
   "cell_type": "markdown",
   "metadata": {},
   "source": [
    "<div style=\"display:block\">\n",
    "    <div style=\"width: 100%; display: inline-block\">\n",
    "        <h5  style=\"color:maroon; text-align: center; font-size:25px;\">Python Tutorials - Intermediate - Part 2</h5>\n",
    "        <div style=\"width: 90%; text-align: center; display: inline-block;\"><strong>Author: </strong>TAMOGHNA SAHA\n",
    "        </div>\n",
    "    </div>\n",
    "</div>\n",
    "\n",
    "<img src=\"Photos/python-intermediate.png\" width=\"1080\">\n",
    "\n",
    "<div>\n",
    "    <div style=\"width: 100%; text-align: right; display: inline-block;\">\n",
    "        <i>Modified: July 13th, 2020</i>\n",
    "    </div>\n",
    "</div>"
   ]
  },
  {
   "cell_type": "markdown",
   "metadata": {},
   "source": [
    "This is the part 2 of Python Intermediate of my Python Tutorial series. In this notebook, I have covered:\n",
    "1. List Slices and Comprehension\n",
    "2. Lambda\n",
    "3. Map, Filter & Reduce\n",
    "4. Decorator\n",
    "5. Class"
   ]
  },
  {
   "cell_type": "markdown",
   "metadata": {},
   "source": [
    "## List Slices\n",
    "\n",
    "__List slices__ provides an advanced way of retrieving values from a list. Basic list slicing involves indexing a list with __two colon-separated integers__. These three arguments are lower limit, upper limit and step. This returns a new list containing all the values in the old list between the indices specified. By default, lower limit is at index 0, upper limit is at the last value and step is +1.\n",
    "\n",
    "You can also take a step backwards. When __negative values__ are used for the first and second values in a slice, they count __from the end of list__.\n",
    "\n",
    "The indexing of the iterable item starts from 0 if we take it from left and -1 if we take it from the right.\n",
    "\n",
    "__NOTE__: Slicing can also be done on tuple."
   ]
  },
  {
   "cell_type": "code",
   "execution_count": 1,
   "metadata": {},
   "outputs": [
    {
     "name": "stdout",
     "output_type": "stream",
     "text": [
      "[0, 1, 4, 9, 16, 25, 36, 49, 64, 81]\n",
      "[0, 4, 16, 36, 64]\n",
      "[4, 16, 36]\n",
      "[36, 49, 64, 81]\n",
      "[16, 25, 36, 49, 64, 81]\n",
      "[1, 4, 9, 16, 25, 36, 49]\n",
      "[25, 36, 49]\n",
      "[49, 25, 9]\n",
      "[81, 64, 49, 36, 25, 16, 9, 4, 1, 0]\n"
     ]
    }
   ],
   "source": [
    "# list slices\n",
    "squares = [0, 1, 4, 9, 16, 25, 36, 49, 64, 81]\n",
    "print(squares[:])\n",
    "print(squares[::2])\n",
    "print(squares[2:8:2])\n",
    "print(squares[6:])\n",
    "print(squares[4:14])\n",
    "print(squares[1:-2])\n",
    "print(squares[-5:-2])\n",
    "print(squares[7:1:-2])\n",
    "print(squares[::-1])"
   ]
  },
  {
   "cell_type": "markdown",
   "metadata": {},
   "source": [
    "## List Comprehension\n",
    "\n",
    "List comprehension is a useful way of quickly creating lists using simplified version of for loop statement. A list comprehension __can also contain an if statement__ to enforce a condition on values in the list.\n",
    "\n",
    "__NOTE__: Trying to create a list, by any means, in a very extensive range will result in a __MemoryError__.\n",
    "\n",
    "```python\n",
    "var = [2*i for i in range(10**100)]\n",
    "```\n",
    "\n",
    "### DON’T EVEN TRY IT!"
   ]
  },
  {
   "cell_type": "code",
   "execution_count": 2,
   "metadata": {},
   "outputs": [
    {
     "name": "stdout",
     "output_type": "stream",
     "text": [
      "[0, 4, 16, 36, 64]\n"
     ]
    }
   ],
   "source": [
    "# getting even numbers from a range\n",
    "evens=[i**2 for i in range(10) if i**2 % 2 == 0]\n",
    "print(evens)"
   ]
  },
  {
   "cell_type": "code",
   "execution_count": 3,
   "metadata": {},
   "outputs": [
    {
     "name": "stdout",
     "output_type": "stream",
     "text": [
      "[1, 3, 5, 7]\n",
      "[2, 4, 6, 8]\n"
     ]
    }
   ],
   "source": [
    "# modify element of list by index value\n",
    "num = [1,2,3,4,5,6,7,8]\n",
    "list_of_index = [i for i in num if num.index(i)%2 == 0]\n",
    "print(list_of_index)\n",
    "even_num = [num[i] for i in list_of_index]\n",
    "print(even_num)"
   ]
  },
  {
   "cell_type": "markdown",
   "metadata": {},
   "source": [
    "## Lamda\n",
    "\n",
    "In Python, __anonymous function__ means a function __without a name__, whereas we use `def` keyword to create normal functions. The `lambda` function is used for creating small, one-time and anonymous function objects in Python. The lambda operator can have __any number of arguments__, but it can have __only one expression__. The lambda functions can be assigned to variables, and used like normal functions.\n",
    "\n",
    "Use lambda functions when an anonymous function is required for a short period of time."
   ]
  },
  {
   "cell_type": "code",
   "execution_count": 4,
   "metadata": {},
   "outputs": [
    {
     "name": "stdout",
     "output_type": "stream",
     "text": [
      "The result for named function: 0\n",
      "The result for anonymous function: 0\n"
     ]
    }
   ],
   "source": [
    "#named function\n",
    "def polynomial(x):\n",
    "    '''\n",
    "    Function to perform a polynomial calculation having a single variable x\n",
    "    '''\n",
    "    return x**2 + 5*x + 4\n",
    "    \n",
    "print(\"The result for named function: {}\".format(polynomial(-4)))\n",
    "\n",
    "#lambda\n",
    "poly = lambda x: x**2 + 5*x + 4\n",
    "print(\"The result for anonymous function: {}\".format(poly(-4)))"
   ]
  },
  {
   "cell_type": "markdown",
   "metadata": {},
   "source": [
    "## Map, Filter & Reduce\n",
    "\n",
    "The built-in functions __map__, __filter__ and __reduce__ are very useful higher-order functions that operate on iterable.\n",
    "\n",
    "The function __map__ takes a function and an iterable as arguments, and returns a new iterable with the function applied to each argument.\n",
    "\n",
    "The function __filter__ filters an iterable by removing items that don’t match a __predicate (a function that returns ONLY Boolean True)__.\n",
    "\n",
    "The function __reduce__ applies a rolling computation to sequential pairs of values in a iterable i.e., wanted to compute the product of a list items, sum of tuple items.\n",
    "\n",
    "__NOTE__: Both in map and filter, the result has to be explicitly converted to a list or tuple if you want to print it. Python 2 returns a list by default, but this was changed in Python 3 which returns map or filter object, hence the need for the list or tuple function."
   ]
  },
  {
   "cell_type": "code",
   "execution_count": 5,
   "metadata": {},
   "outputs": [
    {
     "name": "stdout",
     "output_type": "stream",
     "text": [
      "[16, 27, 38, 49, 60]\n",
      "(22, 44)\n",
      "19326120\n"
     ]
    }
   ],
   "source": [
    "def add_five(x):\n",
    "    return x + 5\n",
    "    \n",
    "num_var = [11, 22, 33, 44, 55]\n",
    "map_result = list(map(add_five, num_var)) # map\n",
    "print(map_result)\n",
    "filter_result = tuple(filter(lambda x: x%2==0, num_var)) # filter\n",
    "print(filter_result)\n",
    "\n",
    "from functools import reduce\n",
    "reduce_result = reduce((lambda x, y: x*y), num_var) # reduce\n",
    "print(reduce_result)"
   ]
  },
  {
   "cell_type": "markdown",
   "metadata": {},
   "source": [
    "This example will help you understand better the main difference between map and filter."
   ]
  },
  {
   "cell_type": "code",
   "execution_count": 6,
   "metadata": {},
   "outputs": [
    {
     "name": "stdout",
     "output_type": "stream",
     "text": [
      "[0, 0, 3, 4, 5]\n",
      "[3, 4, 5]\n"
     ]
    }
   ],
   "source": [
    "mylist = [1,2,3,4,5]\n",
    "print(list(map(lambda x: x if x>2 else 0, mylist)))\n",
    "print(list(filter(lambda x: x if x>2 else 0, mylist)))"
   ]
  },
  {
   "cell_type": "markdown",
   "metadata": {},
   "source": [
    "## Decorator\n",
    "\n",
    "__Decorator__ are functions which modifies the functionality of another function. Let’s go one step at a time to understand decorator. In Python, function is a __first class object__ which can be\n",
    "* dynamically created, destroyed\n",
    "* stored in a variable\n",
    "* passed to a function as a parameter\n",
    "* returned as a value from a function\n",
    "\n",
    "We have already seen the first point in the beginner’s article. Let’s validate each of these remaining 3 point."
   ]
  },
  {
   "cell_type": "code",
   "execution_count": 7,
   "metadata": {},
   "outputs": [
    {
     "name": "stdout",
     "output_type": "stream",
     "text": [
      "Let's go, PYKACHU\n",
      "====================\n",
      "'char'mander, I choose you!\n",
      "====================\n",
      "In the battle, pykachu won against 'char'mander\n"
     ]
    }
   ],
   "source": [
    "## functions can be assigned to a variable\n",
    "def my_pymon(text): \n",
    "    return \"Let's go, {}\".format(text.upper())\n",
    "    \n",
    "i_choose_you = my_pymon\n",
    "print(i_choose_you('pykachu'))\n",
    "print(\"=\"*20)\n",
    "\n",
    "## functions can be passed as argument to another function\n",
    "def your_pymon(text):\n",
    "    return f\"{text}\"\n",
    "\n",
    "def trainer_select(func):\n",
    "    print(func(\"'char'mander, I choose you!\"))\n",
    "    \n",
    "trainer_select(your_pymon)\n",
    "print(\"=\"*20)\n",
    "\n",
    "## function returned as a value from another function\n",
    "def battle_began_with(poke1):\n",
    "    def who_won(poke2):\n",
    "        return f\"In the battle, {poke2} won against {poke1}\"\n",
    "    return who_won\n",
    "\n",
    "battle = battle_began_with(\"'char'mander\")(\"pykachu\")\n",
    "print(battle)"
   ]
  },
  {
   "cell_type": "markdown",
   "metadata": {},
   "source": [
    "__NOTE__: When you put the pair of parentheses after the function name in main of code, only then the function gets executed. If you don’t put parentheses after it, then it can be passed around and can be assigned to other variables without executing it."
   ]
  },
  {
   "cell_type": "code",
   "execution_count": 8,
   "metadata": {},
   "outputs": [
    {
     "name": "stdout",
     "output_type": "stream",
     "text": [
      "I am the function which needs some decoration!\n",
      "None\n",
      "==================================================\n",
      "I am doing some boring work before executing a_func()\n",
      "I am the function getting called!\n",
      "I am doing some boring work after executing a_func()\n",
      "None\n"
     ]
    }
   ],
   "source": [
    "def my_decor(a_func, args):\n",
    "    def wrapper_func():\n",
    "        print(\"I am doing some boring work before executing a_func()\")\n",
    "        a_func(args)\n",
    "        print(\"I am doing some boring work after executing a_func()\")\n",
    "    return wrapper_func\n",
    "\n",
    "def a_function_requiring_decor(txt):\n",
    "    print(txt)\n",
    "\n",
    "txt = \"I am the function which needs some decoration!\"\n",
    "print(a_function_requiring_decor(txt))\n",
    "print(\"=\"*50)\n",
    "\n",
    "txt = \"I am the function getting called!\"\n",
    "a_function_requiring_decor = my_decor(a_function_requiring_decor, txt) #the so-called decorator is happening here\n",
    "print(a_function_requiring_decor())"
   ]
  },
  {
   "cell_type": "markdown",
   "metadata": {},
   "source": [
    "The variable `a_function_requiring_decor` is pointing to the `wrapper_func` inner function. We are returning `wrapper_func` as a function when we call `my_decor(a_function_requiring_decor, txt)`. \n",
    "\n",
    "So, decorator \"wraps\" a function (a.k.a. `a_func` in this case) and modifies its behavior (a.k.a. by making it `wrapper_func`).\n",
    "\n",
    "Think of it like you have to give a birthday gift __(X-box! - Mr. Beast, is that you?)__ and wrap it using a custom wrapper using origami that opens the actual gift with paper crackers coming out while the birthday boy unpacks it. __(Definitely, that's Mr. Beast)__.\n",
    "\n",
    "Another way to write these decorators is using `@` symbol."
   ]
  },
  {
   "cell_type": "code",
   "execution_count": 9,
   "metadata": {},
   "outputs": [
    {
     "name": "stdout",
     "output_type": "stream",
     "text": [
      "INTERVIEWER: Take the marker and write something on the board.\n",
      "ME: SOMETHING\n",
      "INTERVIEWER: You're hired!\n"
     ]
    }
   ],
   "source": [
    "def my_decorator(func):\n",
    "    def wrapper():\n",
    "        print(\"INTERVIEWER: Take the marker and write something on the board.\")\n",
    "        func()\n",
    "        print(\"INTERVIEWER: You're hired!\")\n",
    "    return wrapper\n",
    "    \n",
    "@my_decorator\n",
    "def tricky():\n",
    "    print(\"ME: SOMETHING\")\n",
    "    \n",
    "tricky()"
   ]
  },
  {
   "cell_type": "markdown",
   "metadata": {},
   "source": [
    "## Class\n",
    "\n",
    "Python is an object-oriented programming (OOP) language and objects are created using __class__ which is actually the focal point of OOP. The class describes an object’s blueprint, description or metadata. Multiple object can be instantiated using the _same class_.\n",
    "\n",
    "Classes are created using the keyword `class` and an indented block, which contains class methods.\n",
    "\n",
    "Let’s take a look at an example."
   ]
  },
  {
   "cell_type": "code",
   "execution_count": 10,
   "metadata": {},
   "outputs": [
    {
     "name": "stdout",
     "output_type": "stream",
     "text": [
      "Arcanine\n",
      "Growl!\n"
     ]
    }
   ],
   "source": [
    "\n",
    "class Pet:\n",
    "    def __init__(self, genre, name, owner):\n",
    "        self.genre = genre \n",
    "        self.name = name\n",
    "        self.owner = owner\n",
    "        \n",
    "    def voice(self): #another method added to the class Pet\n",
    "        print(\"Growl!\")\n",
    "        \n",
    "pokemon = Pet(\"dog\",\"Arcanine\",\"Tim\")\n",
    "print(pokemon.name)\n",
    "pokemon.voice()"
   ]
  },
  {
   "cell_type": "markdown",
   "metadata": {},
   "source": [
    "The `__init__` method is the most important method in a class which is called when an instance (object) of the class is created. __All methods must have `self` as their first parameter__, although you do not need to pass it explicitly when you call the method.\n",
    "\n",
    "Within the method definition, `self` refers to the object itself calling the method. From the above example, we see that"
   ]
  },
  {
   "cell_type": "code",
   "execution_count": 11,
   "metadata": {},
   "outputs": [
    {
     "name": "stdout",
     "output_type": "stream",
     "text": [
      "Arcanine\n"
     ]
    }
   ],
   "source": [
    "# pokemn becomes equivalent to `self`\n",
    "pokemon = Pet(\"dog\",\"Arcanine\",\"Tim\")\n",
    "print(pokemon.name)"
   ]
  },
  {
   "cell_type": "markdown",
   "metadata": {},
   "source": [
    "* When we create the pokemon object from the class Pet, we are passing genre, name and owner as “dog”,”Arcanine”,”Tim” and the object (`pokemon`) will take the place of `self`.\n",
    "* The attributes are accessed using the `.` operator.\n",
    "* So _pokemon_ is the object, _\"Arcanine\"_ is the value of the `name` attribute of this object.\n",
    "\n",
    "Hence, we can access the attributes in a class using this way: `object.attributes`.\n",
    "\n",
    "Classes can have other methods defined to add functionality to them. These methods are accessed using the same dot syntax as attributes.\n",
    "\n",
    "__NOTE__: All methods __must have `self`__ as their first parameter.\n",
    "\n",
    "Trying to access an attribute of an instance that isn’t defined causes an AttributeError."
   ]
  }
 ],
 "metadata": {
  "kernelspec": {
   "display_name": "Python 3.8.10 ('python-tutorial-4D03WsXq-py3.8')",
   "language": "python",
   "name": "python3"
  },
  "language_info": {
   "codemirror_mode": {
    "name": "ipython",
    "version": 3
   },
   "file_extension": ".py",
   "mimetype": "text/x-python",
   "name": "python",
   "nbconvert_exporter": "python",
   "pygments_lexer": "ipython3",
   "version": "3.8.10"
  },
  "orig_nbformat": 4,
  "vscode": {
   "interpreter": {
    "hash": "497f31686c425ab76e35b5c0a7b89db21257e09c70ef1eaec306596745afbef6"
   }
  }
 },
 "nbformat": 4,
 "nbformat_minor": 2
}
