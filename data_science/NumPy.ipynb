{
 "cells": [
  {
   "cell_type": "markdown",
   "metadata": {},
   "source": [
    "<h1 style=\"font-size: 20pt\">Python Notebook | Data Science | NumPy</h1><br/>\n",
    "\n",
    "<b> Author: </b> Tamoghna Saha<br/> \n",
    "<b> Created: </b> December 2018<br/>\n",
    "<b> Updated: </b> October 2022<br/>\n",
    "\n",
    "![Python](../img/Python-programming.jpg)"
   ]
  },
  {
   "cell_type": "markdown",
   "metadata": {},
   "source": [
    "# Table of Contents:\n",
    "\n",
    "NumPy\n",
    "* ```ndarray``` object & manipulation\n",
    "* Array creation & operations\n",
    "* Indexing, slicing & advanced indexing\n",
    "* Arithmetic, Mathematical & Statistical operations\n",
    "* Iteration over array\n",
    "* Broadcasting\n",
    "* I/O operations"
   ]
  },
  {
   "cell_type": "markdown",
   "metadata": {},
   "source": [
    "# NumPy\n",
    "\n",
    "NumPy (a.k.a `Num`erical `Py`thon) is an open source Python library that aids in mathematical, scientific, engineering, and data science programming. It has been built to work with the N-dimensional array, linear algebra, random number, Fourier transform, etc.\n",
    "\n",
    "NumPy is an incredible library to perform mathematical and statistical operations because it is fast and memory efficient.\n",
    "\n",
    "## ```ndarray``` object & manipulations\n",
    "\n",
    "The most important object defined in NumPy is an N-dimensional array type called __ndarray__. It describes the collection of items of the same type. Items in the collection can be accessed using a zero-based index. Each element in ndarray is an object of data-type object (called __dtype__).\n",
    "\n",
    "The ndarray object consists of __contiguous one-dimensional__ segment of computer memory, combined with an indexing scheme that maps each item to a location in the memory block. The memory block holds the elements in a __row-major order (C style)__ or a __column-major order (FORTRAN or MatLab style)__.\n",
    "\n",
    "The basic ndarray is created using an array function in NumPy as follows:\n",
    "\n",
    "```python\n",
    "numpy.array(object, dtype = None, copy = True, order = None, subok = False, ndmin = 0)\n",
    "```\n",
    "\n",
    "`NOTE`: In NumPy, axis = 0 is cols and axis = 1 is rows.\n",
    "\n",
    "Let's visualize how these ndarray is represented:\n",
    "![ndarray](../img/numpy_array_viz.png)"
   ]
  },
  {
   "cell_type": "code",
   "execution_count": 1,
   "metadata": {},
   "outputs": [
    {
     "name": "stdout",
     "output_type": "stream",
     "text": [
      "[1 2 3]\n",
      "[[1. 2.]\n",
      " [3. 4.]]\n",
      "[[1 2 3 4 5]]\n"
     ]
    }
   ],
   "source": [
    "import numpy as np\n",
    "\n",
    "var_1 = np.array([1, 2, 3])\n",
    "var_2 = np.array([[1, 2], [3, 4]], dtype=float)\n",
    "var_3 = np.array([1, 2, 3, 4, 5], ndmin = 2)\n",
    "print(var_1)\n",
    "print(var_2)\n",
    "print(var_3)"
   ]
  },
  {
   "cell_type": "code",
   "execution_count": 2,
   "metadata": {},
   "outputs": [
    {
     "name": "stdout",
     "output_type": "stream",
     "text": [
      "Shape: (2, 3)\n",
      "\n",
      "=========================\n",
      "\n",
      "[[1 2]\n",
      " [3 4]\n",
      " [5 6]]\n",
      "\n",
      "=========================\n",
      "\n",
      "1\n",
      "8\n",
      "\n",
      "=========================\n",
      "\n",
      "[[1 4]\n",
      " [2 5]\n",
      " [3 6]]\n"
     ]
    }
   ],
   "source": [
    "## ndarray manipulations\n",
    "var_1 = np.array([[1,2,3],[4,5,6]])\n",
    "var_1_shape = var_1.shape\n",
    "print(\"Shape: {}\".format(var_1_shape))\n",
    "\n",
    "# reshaping\n",
    "var_2 = var_1.reshape(3,2)\n",
    "print('\\n'+\"=\"*25+'\\n')\n",
    "print(var_2)\n",
    "\n",
    "# itemsize\n",
    "var_3 = np.array([1,2,3,4,5], dtype = np.int8)\n",
    "var_4 = np.array([1,2,3,4,5], dtype = np.float64)\n",
    "print('\\n'+\"=\"*25+'\\n')\n",
    "print(var_3.itemsize)\n",
    "print(var_4.itemsize)\n",
    "\n",
    "# transpose\n",
    "var_5 = var_1.T\n",
    "print('\\n'+\"=\"*25+'\\n')\n",
    "print(var_5)"
   ]
  },
  {
   "cell_type": "markdown",
   "metadata": {},
   "source": [
    "Some other ndarray manipulation operations are:\n",
    "* `flatten` - Returns a copy of the array collapsed into one dimension\n",
    "* `swapaxes` - Interchanges the two axes of an array\n",
    "* `expand_dims` - Expands the shape of an array\n",
    "* `concatenate` - Joins a sequence of arrays along an existing axis\n",
    "* `hstack` / `vstack` - Stacks arrays in sequence horizontally (column wise) / vertically (row wise)\n",
    "* `hsplit` / `vsplit` - Splits arrays into multiple sub-arrays horizontally / vertically\n",
    "* `resize`, `append`, `insert`, `delete`, `unique`\n",
    "\n",
    "The difference between `reshape` and `resize` is that reshape will change the dimension of the array __provided the dimension remains same__, but in resize, even if the dimension shape differs, it will change the dimension and update with __element repeatation__.\n",
    "\n",
    "## Array creation & operations\n",
    "\n",
    "A new ndarray object can be constructed by any of the following array creation routines:"
   ]
  },
  {
   "cell_type": "code",
   "execution_count": 3,
   "metadata": {},
   "outputs": [
    {
     "name": "stdout",
     "output_type": "stream",
     "text": [
      "[[0. 0. 0.]\n",
      " [0. 0. 0.]]\n",
      "\n",
      "=========================\n",
      "\n",
      "[[1.+0.j 1.+0.j 1.+0.j]\n",
      " [1.+0.j 1.+0.j 1.+0.j]]\n"
     ]
    }
   ],
   "source": [
    "var_1 = np.zeros([2,3], dtype = float)\n",
    "var_2 = np.ones([2,3], dtype = complex)\n",
    "\n",
    "print(var_1)\n",
    "print('\\n'+\"=\"*25+'\\n')\n",
    "print(var_2)"
   ]
  },
  {
   "cell_type": "markdown",
   "metadata": {},
   "source": [
    "`ndarray` can be created from numerical ranges and there are various ways to do it:\n",
    "* `numpy.arange(start, stop, step, dtype)` - Similar to Python in-built function of `range`\n",
    "* `numpy.linspace(start, stop, num, endpoint, retstep, dtype)` - Unlike arange, it generates evenly spaced numbers between the interval, where num = 50 by default\n",
    "* `numpy.logspace(start, stop, num, endpoint, base, dtype)` - It generates evenly spaced numbers in log scale, where base = 10 by default\n",
    "\n",
    "It can also be created using existing iterable data as well using `numpy.asarray(a, dtype, order)`."
   ]
  },
  {
   "cell_type": "code",
   "execution_count": 4,
   "metadata": {},
   "outputs": [
    {
     "name": "stdout",
     "output_type": "stream",
     "text": [
      "arange\n",
      "\n",
      "[ 9. 12. 15. 18. 21. 24. 27.]\n",
      "[ 0  1  2  3  4  5  6  7  8  9 10 11 12 13 14 15 16 17]\n",
      "[[[ 0  1  2]\n",
      "  [ 3  4  5]]\n",
      "\n",
      " [[ 6  7  8]\n",
      "  [ 9 10 11]]\n",
      "\n",
      " [[12 13 14]\n",
      "  [15 16 17]]]\n",
      "\n",
      "=========================\n",
      "\n"
     ]
    }
   ],
   "source": [
    "print(\"arange\\n\")\n",
    "var_1 = np.arange(9,30,3,dtype = float)\n",
    "var_2 = np.arange(18)\n",
    "var_2.ndim\n",
    "var_3 = var_2.reshape(3,2,3)\n",
    "print(var_1)\n",
    "print(var_2)\n",
    "print(var_3)\n",
    "print('\\n'+\"=\"*25+'\\n')"
   ]
  },
  {
   "cell_type": "code",
   "execution_count": 5,
   "metadata": {},
   "outputs": [
    {
     "name": "stdout",
     "output_type": "stream",
     "text": [
      "linspace\n",
      "\n",
      "[10. 20. 30. 40. 50.]\n",
      "[10. 14. 18. 22. 26.]\n",
      "(array([1.  , 1.75, 2.5 , 3.25, 4.  ]), 0.75)\n"
     ]
    }
   ],
   "source": [
    "print(\"linspace\\n\")\n",
    "var_1 = np.linspace(10,50,5)\n",
    "var_2 = np.linspace(10,30,5,endpoint=False)\n",
    "var_3 = np.linspace(1,4,5,retstep=True)\n",
    "print(var_1)\n",
    "print(var_2)\n",
    "print(var_3)"
   ]
  },
  {
   "cell_type": "code",
   "execution_count": 6,
   "metadata": {},
   "outputs": [
    {
     "name": "stdout",
     "output_type": "stream",
     "text": [
      "logspace\n",
      "\n",
      "[ 10.          12.91549665  16.68100537  21.5443469   27.82559402\n",
      "  35.93813664  46.41588834  59.94842503  77.42636827 100.        ]\n",
      "[   2.    4.    8.   16.   32.   64.  128.  256.  512. 1024.]\n",
      "\n",
      "=========================\n",
      "\n",
      "asarray\n",
      "\n",
      "[1 2 3 4]\n"
     ]
    }
   ],
   "source": [
    "print(\"logspace\\n\")\n",
    "var_1 = np.logspace(1.0, 2.0, 10)\n",
    "var_2 = np.logspace(1.0, 10.0, 10, base=2)\n",
    "print(var_1)\n",
    "print(var_2)\n",
    "print('\\n'+\"=\"*25+'\\n')\n",
    "\n",
    "print(\"asarray\\n\")\n",
    "obj_1 = [1,2,3,4]\n",
    "var_1 = np.asarray(obj_1)\n",
    "print(var_1)"
   ]
  },
  {
   "cell_type": "markdown",
   "metadata": {},
   "source": [
    "`ndarray` can also be created randomly using __random__ method in NumPy. For more details, check the [NumPy doc](https://docs.scipy.org/doc/numpy/reference/routines.random.html). Some examples are provided below:"
   ]
  },
  {
   "cell_type": "code",
   "execution_count": 7,
   "metadata": {},
   "outputs": [
    {
     "name": "stdout",
     "output_type": "stream",
     "text": [
      "\n",
      "Random Int\n",
      "[4 4 2 1 4]\n",
      "[1 4 4 4 1]\n",
      "\n",
      "Random Choice\n",
      "[2 0 1]\n"
     ]
    },
    {
     "name": "stderr",
     "output_type": "stream",
     "text": [
      "/tmp/ipykernel_3356/3624404004.py:3: DeprecationWarning: This function is deprecated. Please call randint(1, 5 + 1) instead\n",
      "  print(np.random.random_integers(1,5,5)) # 5 np.int type element array of random number from 1 to 5(inclusive)\n"
     ]
    }
   ],
   "source": [
    "print(\"\\nRandom Int\")\n",
    "print(np.random.randint(1,5,5)) # 5 element array of random number from 1 to 5(exclusive)\n",
    "print(np.random.random_integers(1,5,5)) # 5 np.int type element array of random number from 1 to 5(inclusive)\n",
    "\n",
    "print(\"\\nRandom Choice\")\n",
    "# 3 elements array\n",
    "# random choice from 0 to 4\n",
    "# no duplicate num using replace=False\n",
    "# probability of occurence of the elements, summed up to 1\n",
    "print(np.random.choice(5, 3, replace=False))"
   ]
  },
  {
   "cell_type": "code",
   "execution_count": 8,
   "metadata": {
    "scrolled": true
   },
   "outputs": [
    {
     "name": "stdout",
     "output_type": "stream",
     "text": [
      "['Chanandler Bong' 'Chanandler Bong' 'Chanandler Bong']\n"
     ]
    }
   ],
   "source": [
    "list_1 = ['Rosstefer', 'Chanandler Bong', 'Ken Adams', 'Regina Phalange', 'Big Fat Golly', 'Backpacking through Western Europe']\n",
    "print(np.random.choice(list_1, 3, p=[0.2, 0.4, 0.1, 0.15, 0.1, 0.05]))"
   ]
  },
  {
   "cell_type": "markdown",
   "metadata": {},
   "source": [
    "## Indexing, slicing & advanced indexing\n",
    "\n",
    "Contents of ```ndarray``` object can be accessed and modified by indexing or slicing, just like Python's in-built iterables. A __slice__ object is passed to the array to extract a part of array having __start, stop,__ and __step__ parameters. \n",
    "\n",
    "Slicing is applicable in multi-dimensional ndarray as well, but it becomes more complex than just a start and stop index. This can be achieved using __ellipsis__ which is denoted as ```...``` ."
   ]
  },
  {
   "cell_type": "code",
   "execution_count": 9,
   "metadata": {
    "scrolled": true
   },
   "outputs": [
    {
     "name": "stdout",
     "output_type": "stream",
     "text": [
      "[ 2  4  6  8 10 12 14 16]\n",
      "\n",
      "=========================\n",
      "\n",
      "[ 2  4  6  8 10 12 14 16]\n",
      "[ 8 10 12 14 16]\n"
     ]
    }
   ],
   "source": [
    "var_1 = np.arange(20) \n",
    "sliced = slice(2,17,2)\n",
    "print(var_1[sliced])\n",
    "print('\\n'+\"=\"*25+'\\n')\n",
    "\n",
    "var_2 = var_1[2:17:2]\n",
    "var_3 = var_2[3:]\n",
    "print(var_2)\n",
    "print(var_3)"
   ]
  },
  {
   "cell_type": "code",
   "execution_count": 10,
   "metadata": {
    "scrolled": true
   },
   "outputs": [
    {
     "name": "stdout",
     "output_type": "stream",
     "text": [
      "[[1 2 3]\n",
      " [3 4 5]\n",
      " [5 6 7]]\n",
      "\n",
      "Now we will slice the array from the index var_1[1:]\n",
      "\n",
      "[[3 4 5]\n",
      " [5 6 7]]\n"
     ]
    }
   ],
   "source": [
    "# multi-dimensional\n",
    "var_1 = np.array([[1,2,3],[3,4,5],[5,6,7]]) \n",
    "print(var_1)\n",
    "print('\\nNow we will slice the array from the index var_1[1:]\\n') \n",
    "print(var_1[1:]) # slice items starting from index"
   ]
  },
  {
   "cell_type": "code",
   "execution_count": 11,
   "metadata": {},
   "outputs": [
    {
     "name": "stdout",
     "output_type": "stream",
     "text": [
      "Our array is:\n",
      "[[1 2 3]\n",
      " [3 4 5]\n",
      " [4 5 6]]\n",
      "\n",
      "The items in the second column are:\n",
      "[2 4 5]\n"
     ]
    }
   ],
   "source": [
    "## Ellipsis\n",
    "var_1 = np.array([[1,2,3],[3,4,5],[4,5,6]])\n",
    "\n",
    "print('Our array is:')\n",
    "print(var_1)\n",
    "\n",
    "# this returns array of items in the second column \n",
    "print('\\nThe items in the second column are:')\n",
    "print(var_1[...,1])"
   ]
  },
  {
   "cell_type": "code",
   "execution_count": 12,
   "metadata": {},
   "outputs": [
    {
     "name": "stdout",
     "output_type": "stream",
     "text": [
      "\n",
      "The items in the second row are:\n",
      "[3 4 5]\n",
      "\n",
      "The items from column 2 are:\n",
      "[[2 3]\n",
      " [4 5]\n",
      " [5 6]]\n"
     ]
    }
   ],
   "source": [
    "# Now we will slice all items from the second row \n",
    "print('\\nThe items in the second row are:')\n",
    "print(var_1[1,...])\n",
    "\n",
    "# Now we will slice all items from column 1 onwards \n",
    "print('\\nThe items from column 2 are:')\n",
    "print(var_1[...,1:])"
   ]
  },
  {
   "cell_type": "code",
   "execution_count": 13,
   "metadata": {
    "scrolled": false
   },
   "outputs": [
    {
     "name": "stdout",
     "output_type": "stream",
     "text": [
      "Our array is:\n",
      "[[[[ 1  2]\n",
      "   [ 3  4]]\n",
      "\n",
      "  [[ 5  6]\n",
      "   [ 7  8]]]\n",
      "\n",
      "\n",
      " [[[ 9 10]\n",
      "   [11 12]]\n",
      "\n",
      "  [[13 14]\n",
      "   [15 16]]]]\n"
     ]
    }
   ],
   "source": [
    "var_1 = np.arange(1,17).reshape(2,2,2,2)\n",
    "print('Our array is:')\n",
    "print(var_1)"
   ]
  },
  {
   "cell_type": "code",
   "execution_count": 14,
   "metadata": {
    "scrolled": true
   },
   "outputs": [
    {
     "name": "stdout",
     "output_type": "stream",
     "text": [
      "\n",
      "Items from 1st row component of this 4D array\n",
      "[[[1 2]\n",
      "  [3 4]]\n",
      "\n",
      " [[5 6]\n",
      "  [7 8]]]\n",
      "\n",
      "Items from 1st row of the 2nd row component of this 4D array\n",
      "[[ 9 10]\n",
      " [11 12]]\n",
      "\n",
      "Items from 1st row of the 2nd row of the 2nd row component of this 4D array\n",
      "[13 14]\n"
     ]
    }
   ],
   "source": [
    "print(\"\\nItems from 1st row component of this 4D array\")\n",
    "print(var_1[0,...])\n",
    "\n",
    "print(\"\\nItems from 1st row of the 2nd row component of this 4D array\")\n",
    "print(var_1[1,0,...])\n",
    "\n",
    "print(\"\\nItems from 1st row of the 2nd row of the 2nd row component of this 4D array\")\n",
    "print(var_1[1,1,0,...])"
   ]
  },
  {
   "cell_type": "code",
   "execution_count": 15,
   "metadata": {},
   "outputs": [
    {
     "name": "stdout",
     "output_type": "stream",
     "text": [
      "\n",
      "Items from 1st col component of this 4D array\n",
      "[[[ 1  3]\n",
      "  [ 5  7]]\n",
      "\n",
      " [[ 9 11]\n",
      "  [13 15]]]\n",
      "\n",
      "Items from 2nd col of the 1st col component of this 4D array\n",
      "[[ 3  7]\n",
      " [11 15]]\n",
      "\n",
      "Items from 1st col of the 2nd col of the 1st col component of this 4D array\n",
      "[ 3 11]\n"
     ]
    }
   ],
   "source": [
    "print(\"\\nItems from 1st col component of this 4D array\")\n",
    "print(var_1[...,0])\n",
    "\n",
    "print(\"\\nItems from 2nd col of the 1st col component of this 4D array\")\n",
    "print(var_1[...,1,0])\n",
    "\n",
    "print(\"\\nItems from 1st col of the 2nd col of the 1st col component of this 4D array\")\n",
    "print(var_1[...,0,1,0])"
   ]
  },
  {
   "cell_type": "markdown",
   "metadata": {},
   "source": [
    "It is possible to make a selection from ndarray that is a non-tuple sequence, ndarray object of integer or boolean data type using __advanced indexing__. There are 2 types of it:\n",
    "* __Integer__: selecting any arbitrary item in an array based on its N-dimensional index\n",
    "* __Boolean__: resultant object is meant to be the result of Boolean operations"
   ]
  },
  {
   "cell_type": "code",
   "execution_count": 16,
   "metadata": {},
   "outputs": [
    {
     "name": "stdout",
     "output_type": "stream",
     "text": [
      "Our array is:\n",
      "[[ 0  1  2]\n",
      " [ 3  4  5]\n",
      " [ 6  7  8]\n",
      " [ 9 10 11]]\n",
      "\n",
      "After int indexing technique #1\n",
      "[ 3 11]\n"
     ]
    }
   ],
   "source": [
    "var_1 = np.array([[ 0,  1,  2],[ 3,  4,  5],[ 6,  7,  8],[ 9, 10, 11]])\n",
    "\n",
    "print('Our array is:')\n",
    "print(var_1)\n",
    "\n",
    "rows = [1,3]\n",
    "cols = [0,2]\n",
    "var_2 = var_1[rows,cols]\n",
    "print('\\nAfter int indexing technique #1')\n",
    "print(var_2)"
   ]
  },
  {
   "cell_type": "code",
   "execution_count": 17,
   "metadata": {},
   "outputs": [
    {
     "name": "stdout",
     "output_type": "stream",
     "text": [
      "\n",
      "After int indexing technique #2\n",
      "[[ 0  2]\n",
      " [ 9 11]]\n",
      "\n",
      "After int indexing technique #3\n",
      "[[ 3  4]\n",
      " [ 6  7]\n",
      " [ 9 10]]\n",
      "\n",
      "After int indexing technique #4\n",
      "[[0 1]\n",
      " [3 4]]\n"
     ]
    }
   ],
   "source": [
    "rows = [[0,0], [3,3]]\n",
    "cols = [[0,2], [0,2]]\n",
    "var_3 = var_1[rows,cols]\n",
    "print('\\nAfter int indexing technique #2')\n",
    "print(var_3)\n",
    "\n",
    "var_4 = var_1[1:, [0,1]]\n",
    "print('\\nAfter int indexing technique #3')\n",
    "print(var_4)\n",
    "\n",
    "var_5 = var_1[[0,1], :-1]\n",
    "print('\\nAfter int indexing technique #4')\n",
    "print(var_5)"
   ]
  },
  {
   "cell_type": "code",
   "execution_count": 18,
   "metadata": {},
   "outputs": [
    {
     "name": "stdout",
     "output_type": "stream",
     "text": [
      "\n",
      "After boolean indexing technique #1\n",
      "[ 7  8  9 10 11]\n",
      "\n",
      "After boolean indexing technique #2\n",
      "[]\n"
     ]
    }
   ],
   "source": [
    "var_6 = var_1[var_1 > 6]\n",
    "print('\\nAfter boolean indexing technique #1')\n",
    "print(var_6)\n",
    "\n",
    "var_7 = var_1[np.iscomplex(var_1)]\n",
    "print('\\nAfter boolean indexing technique #2')\n",
    "print(var_7)"
   ]
  },
  {
   "cell_type": "markdown",
   "metadata": {},
   "source": [
    "## Arithmetic, Mathematical & Statistical Operations\n",
    "\n",
    "Apart from the usual arithmetic operations, NumPy can perform `dot`, `reciprocal`, `power`, `mod`, `matmul`, etc. Mathematical operation includes trigonometric functions, rounding off figure. "
   ]
  },
  {
   "cell_type": "code",
   "execution_count": 19,
   "metadata": {},
   "outputs": [
    {
     "name": "stdout",
     "output_type": "stream",
     "text": [
      "\n",
      "After reciprocal\n",
      "[ 4.         0.7518797  0.08             inf -0.1      ]\n",
      "\n",
      "After dot product\n",
      "45\n",
      "\n",
      "After power with 2\n",
      "[ 4  9 25]\n",
      "\n",
      "After power with var_3\n",
      "[1024  243   25]\n"
     ]
    },
    {
     "name": "stderr",
     "output_type": "stream",
     "text": [
      "/tmp/ipykernel_3356/372072844.py:4: RuntimeWarning: divide by zero encountered in reciprocal\n",
      "  print(np.reciprocal(var_1))\n"
     ]
    }
   ],
   "source": [
    "# arithmetic\n",
    "var_1 = np.array([0.25, 1.33, 12.5, 0, -10])\n",
    "print('\\nAfter reciprocal')\n",
    "print(np.reciprocal(var_1))\n",
    "\n",
    "var_2 = np.array([2,3,5])\n",
    "var_3 = np.array([10,5,2])\n",
    "print('\\nAfter dot product')\n",
    "print(np.dot(var_2, var_3))\n",
    "\n",
    "print('\\nAfter power with 2')\n",
    "print(np.power(var_2, 2))\n",
    "print('\\nAfter power with var_3')\n",
    "print(np.power(var_2, var_3))"
   ]
  },
  {
   "cell_type": "code",
   "execution_count": 20,
   "metadata": {},
   "outputs": [
    {
     "name": "stdout",
     "output_type": "stream",
     "text": [
      "\n",
      "After mod\n",
      "[2 3 2]\n",
      "\n",
      "After matrix multiplication\n",
      "[[19 22]\n",
      " [43 50]]\n"
     ]
    }
   ],
   "source": [
    "var_4 = np.array([10,18,26])\n",
    "var_5 = np.array([4,5,6])\n",
    "print('\\nAfter mod')\n",
    "print(np.mod(var_4, var_5))\n",
    "\n",
    "var_6 = np.array([[1,2],[3,4]])\n",
    "var_7 = np.array([[5,6],[7,8]])\n",
    "print('\\nAfter matrix multiplication')\n",
    "print(np.matmul(var_6, var_7))  # 1*5+2*7 = 19; 1*6+2*8 = 22"
   ]
  },
  {
   "cell_type": "code",
   "execution_count": 21,
   "metadata": {},
   "outputs": [
    {
     "name": "stdout",
     "output_type": "stream",
     "text": [
      "Sine of different angles:\n",
      "[0.         0.5        0.70710678 0.8660254  1.        ]\n",
      "\n",
      "Cosine values for angles in array:\n",
      "[1.00000000e+00 8.66025404e-01 7.07106781e-01 5.00000000e-01\n",
      " 6.12323400e-17]\n"
     ]
    }
   ],
   "source": [
    "# mathematical\n",
    "var_1 = np.array([0,30,45,60,90]) \n",
    "\n",
    "print('Sine of different angles:')\n",
    "print(np.sin(var_1 * np.pi/180))\n",
    "\n",
    "print('\\nCosine values for angles in array:')\n",
    "print(np.cos(var_1 * np.pi/180))"
   ]
  },
  {
   "cell_type": "code",
   "execution_count": 22,
   "metadata": {},
   "outputs": [
    {
     "name": "stdout",
     "output_type": "stream",
     "text": [
      "Original array:\n",
      "[ 1.    -5.55  12.302 -0.567 25.532]\n",
      "\n",
      "After rounding:\n",
      "[ 1. -6. 12. -1. 26.]\n",
      "[ 1.  -5.6 12.3 -0.6 25.5]\n",
      "\n",
      "Floor\n",
      "[ 1. -6. 12. -1. 25.]\n",
      "\n",
      "Ceil\n",
      "[ 1. -5. 13. -0. 26.]\n"
     ]
    }
   ],
   "source": [
    "var_2 = np.array([1.0, -5.55, 12.302, -0.567, 25.532]) \n",
    "\n",
    "print('Original array:')\n",
    "print(var_2) \n",
    "\n",
    "print('\\nAfter rounding:')\n",
    "print(np.around(var_2))\n",
    "print(np.around(var_2, decimals = 1))\n",
    "\n",
    "print('\\nFloor')\n",
    "print(np.floor(var_2))\n",
    "\n",
    "print('\\nCeil')\n",
    "print(np.ceil(var_2))"
   ]
  },
  {
   "cell_type": "code",
   "execution_count": 23,
   "metadata": {},
   "outputs": [
    {
     "name": "stdout",
     "output_type": "stream",
     "text": [
      "Original array:\n",
      "[[[ 1  2]\n",
      "  [ 3  4]\n",
      "  [ 5  6]\n",
      "  [ 7  8]]\n",
      "\n",
      " [[ 9 10]\n",
      "  [11 12]\n",
      "  [13 14]\n",
      "  [15 16]]]\n",
      "\n",
      "Applying amin across rows\n",
      "[[ 1  2]\n",
      " [ 9 10]]\n",
      "\n",
      "Applying amax across cols\n",
      "[[ 9 10]\n",
      " [11 12]\n",
      " [13 14]\n",
      " [15 16]]\n"
     ]
    }
   ],
   "source": [
    "# statistical\n",
    "var_1 = np.arange(1,17).reshape(2,4,2)\n",
    "print('Original array:')\n",
    "print(var_1)\n",
    "\n",
    "print('\\nApplying amin across rows')\n",
    "print(np.amin(var_1, 1))\n",
    "\n",
    "print('\\nApplying amax across cols')\n",
    "print(np.amax(var_1, 0))"
   ]
  },
  {
   "cell_type": "markdown",
   "metadata": {},
   "source": [
    "Likewise, there are some other statistical functions, such as:\n",
    "* `numpy.ptp` - returns the range (maximum-minimum) of values along an axis\n",
    "* `numpy.mean` - the sum of elements along an axis divided by the number of elements\n",
    "* `numpy.average` - the weighted average of elements in an array according to their respective weight given in another array\n",
    "* `numpy.median` - value separating the higher half of a data sample from the lower half"
   ]
  },
  {
   "cell_type": "markdown",
   "metadata": {},
   "source": [
    "## Iteration over arrays\n",
    "\n",
    "NumPy package contains an iterator object `numpy.nditer`. It is an efficient multidimensional iterator object to iterate over an array. It is possible to force nditer object to use a specific order by explicitly mentioning it.\n",
    "\n",
    "We can __modify the elements__ of nditer object using the optional parameter called `op_flags`. Its default value is read-only, but can be set to read-write or write-only mode."
   ]
  },
  {
   "cell_type": "code",
   "execution_count": 24,
   "metadata": {},
   "outputs": [
    {
     "name": "stdout",
     "output_type": "stream",
     "text": [
      "Original array is:\n",
      "[[ 0  5 10 15]\n",
      " [20 25 30 35]\n",
      " [40 45 50 55]]\n",
      "\n",
      "Sorted in C-style order:\n",
      "0\n",
      "5\n",
      "10\n",
      "15\n",
      "20\n",
      "25\n",
      "30\n",
      "35\n",
      "40\n",
      "45\n",
      "50\n",
      "55\n",
      "\n",
      "Sorted in F-style order:\n",
      "0\n",
      "20\n",
      "40\n",
      "5\n",
      "25\n",
      "45\n",
      "10\n",
      "30\n",
      "50\n",
      "15\n",
      "35\n",
      "55\n"
     ]
    }
   ],
   "source": [
    "var_1 = np.arange(0,60,5).reshape(3,4) \n",
    "\n",
    "print('Original array is:')\n",
    "print(var_1)\n",
    "\n",
    "print('\\nSorted in C-style order:')\n",
    "for x in np.nditer(var_1, order = 'C'):\n",
    "    print(x) \n",
    "\n",
    "print('\\nSorted in F-style order:')\n",
    "for x in np.nditer(var_1, order = 'F'): \n",
    "    print(x)"
   ]
  },
  {
   "cell_type": "markdown",
   "metadata": {},
   "source": [
    "## Broadcasting\n",
    "\n",
    "It refers to the ability of NumPy to treat __arrays of different shapes__ during arithmetic operations. The smaller array is __broadcast__ to the size of the larger array so that they have compatible shapes.\n",
    "\n",
    "![broadcasting](../img/broadcasting_numpy.jpg)\n",
    "\n",
    "If two arrays are broadcastable, a combined __nditer__ object is able to iterate upon them concurrently."
   ]
  },
  {
   "cell_type": "code",
   "execution_count": 25,
   "metadata": {},
   "outputs": [
    {
     "name": "stdout",
     "output_type": "stream",
     "text": [
      "[[ 0  4  8 12 16]\n",
      " [20 24 28 32 36]]\n",
      "\n",
      "Addition using broadcasting\n",
      "[[ 0  6 12 18 24]\n",
      " [20 26 32 38 44]]\n",
      "\n",
      "Broadcasting Iteration\n",
      "0:0\n",
      "4:2\n",
      "8:4\n",
      "12:6\n",
      "16:8\n",
      "20:0\n",
      "24:2\n",
      "28:4\n",
      "32:6\n",
      "36:8\n"
     ]
    }
   ],
   "source": [
    "var_1 = np.arange(0,40,4).reshape(2,5)\n",
    "print(var_1)\n",
    "\n",
    "var_2 = np.array([0,2,4,6,8])\n",
    "\n",
    "print('\\nAddition using broadcasting')\n",
    "print(var_1 + var_2)\n",
    "\n",
    "print('\\nBroadcasting Iteration')\n",
    "for x,y in np.nditer([var_1,var_2]):\n",
    "    print(\"{}:{}\".format(x,y))"
   ]
  },
  {
   "cell_type": "markdown",
   "metadata": {},
   "source": [
    "## I/O operations\n",
    "\n",
    "The ndarray objects can be saved to and loaded from the disk files. The I/O functions available are:\n",
    "* `load()` and `save()` functions handle NumPy binary files with __npy__ extension. The .npy file stores data, shape, dtype and other information required to reconstruct the `ndarray` in a disk file such that the array is correctly retrieved even if the file is on another machine with different architecture. It accepts an additional Boolean parameter `allow_pickles`. A pickle in Python is used to serialize or de-serialize objects before saving to or reading from a disk file.\n",
    "* `loadtxt()` and `savetxt()` functions handle normal text files. It accepts additional optional parameters such as header, footer, and delimiter."
   ]
  },
  {
   "cell_type": "code",
   "execution_count": 27,
   "metadata": {},
   "outputs": [
    {
     "name": "stdout",
     "output_type": "stream",
     "text": [
      "[[ 0  5 10 15]\n",
      " [20 25 30 35]\n",
      " [40 45 50 55]]\n",
      "\n",
      "Saving file as npy...\n",
      "\n",
      "Loading the file...\n",
      "\n",
      "The numpy array read after loading the file...\n",
      "[[ 0  5 10 15]\n",
      " [20 25 30 35]\n",
      " [40 45 50 55]]\n"
     ]
    }
   ],
   "source": [
    "var_1 = np.arange(0,60,5).reshape(3,4)\n",
    "print(var_1)\n",
    "\n",
    "print(\"\\nSaving file as npy...\")\n",
    "np.save('../data/numpy_sample.npy', var_1)\n",
    "\n",
    "print(\"\\nLoading the file...\")\n",
    "npy_read = np.load('../data/numpy_sample.npy')\n",
    "print(\"\\nThe numpy array read after loading the file...\")\n",
    "print(npy_read)"
   ]
  },
  {
   "cell_type": "code",
   "execution_count": null,
   "metadata": {},
   "outputs": [],
   "source": []
  }
 ],
 "metadata": {
  "kernelspec": {
   "display_name": "Python 3.8.10 ('mage-ai-eyxkUSiI-py3.8')",
   "language": "python",
   "name": "python3"
  },
  "language_info": {
   "codemirror_mode": {
    "name": "ipython",
    "version": 3
   },
   "file_extension": ".py",
   "mimetype": "text/x-python",
   "name": "python",
   "nbconvert_exporter": "python",
   "pygments_lexer": "ipython3",
   "version": "3.8.10"
  },
  "vscode": {
   "interpreter": {
    "hash": "d9467a405d9d0aec2a5598a121902f87e7b199b502f39a056e9811a194d82c5f"
   }
  }
 },
 "nbformat": 4,
 "nbformat_minor": 2
}
