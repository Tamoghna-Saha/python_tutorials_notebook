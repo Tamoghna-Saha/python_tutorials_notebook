{
 "cells": [
  {
   "cell_type": "markdown",
   "metadata": {
    "ExecuteTime": {
     "end_time": "2018-09-28T08:02:18.878107Z",
     "start_time": "2018-09-28T08:02:18.870340Z"
    },
    "hideCode": false,
    "hidePrompt": false
   },
   "source": [
    "<h1 style=\"font-size: 20pt\">Python Notebook | Advanced | Pandas</h1><br/>\n",
    "\n",
    "<b> Author: </b> Tamoghna Saha<br/> \n",
    "<b> Created: </b> Novemeber 2018<br/>\n",
    "\n",
    "![Python](../img/Python-programming.jpg)"
   ]
  },
  {
   "cell_type": "markdown",
   "metadata": {
    "ExecuteTime": {
     "end_time": "2018-09-28T08:06:11.311415Z",
     "start_time": "2018-09-28T08:06:11.304204Z"
    }
   },
   "source": [
    "# Table of Content:\n",
    "\n",
    "* Pandas\n",
    "    + Importing Data\n",
    "    + Creating Test Object\n",
    "    + Viewing Data\n",
    "    + Data Cleaning\n",
    "    + Selection\n",
    "    + Filter, Sort & Group by\n",
    "    + Iteration\n",
    "    + Join, Merging\n",
    "    + Statistics\n",
    "    + Visualization\n",
    "    + Exporting Data"
   ]
  },
  {
   "cell_type": "markdown",
   "metadata": {},
   "source": [
    "# Pandas\n",
    "\n",
    "Pandas is an open source data analysis library for providing easy-to-use data structures and data analysis tools.\n",
    "\n",
    "__DataFrame__ is a mXn vector where\n",
    "* m is the number of rows\n",
    "* n is the number of columns\n",
    "\n",
    "__Series__ is a mX1 vector. Hence, each column in DataFrame is known as a pandas series.\n",
    "\n",
    "__NOTE__ \n",
    "* df - A pandas DataFrame object\n",
    "* s - A pandas Series object\n",
    "\n",
    "## Importing Data"
   ]
  },
  {
   "cell_type": "code",
   "execution_count": 1,
   "metadata": {
    "ExecuteTime": {
     "end_time": "2019-02-06T06:52:36.948490Z",
     "start_time": "2019-02-06T06:52:34.092066Z"
    }
   },
   "outputs": [
    {
     "data": {
      "text/html": [
       "<div>\n",
       "<style scoped>\n",
       "    .dataframe tbody tr th:only-of-type {\n",
       "        vertical-align: middle;\n",
       "    }\n",
       "\n",
       "    .dataframe tbody tr th {\n",
       "        vertical-align: top;\n",
       "    }\n",
       "\n",
       "    .dataframe thead th {\n",
       "        text-align: right;\n",
       "    }\n",
       "</style>\n",
       "<table border=\"1\" class=\"dataframe\">\n",
       "  <thead>\n",
       "    <tr style=\"text-align: right;\">\n",
       "      <th></th>\n",
       "      <th>App</th>\n",
       "      <th>Category</th>\n",
       "      <th>Rating</th>\n",
       "      <th>Reviews</th>\n",
       "      <th>Size</th>\n",
       "      <th>Installs</th>\n",
       "      <th>Type</th>\n",
       "      <th>Price</th>\n",
       "      <th>Content Rating</th>\n",
       "      <th>Genres</th>\n",
       "      <th>Last Updated</th>\n",
       "      <th>Current Ver</th>\n",
       "      <th>Android Ver</th>\n",
       "    </tr>\n",
       "  </thead>\n",
       "  <tbody>\n",
       "    <tr>\n",
       "      <th>0</th>\n",
       "      <td>Photo Editor &amp; Candy Camera &amp; Grid &amp; ScrapBook</td>\n",
       "      <td>ART_AND_DESIGN</td>\n",
       "      <td>4.1</td>\n",
       "      <td>159</td>\n",
       "      <td>19M</td>\n",
       "      <td>10,000+</td>\n",
       "      <td>Free</td>\n",
       "      <td>0</td>\n",
       "      <td>Everyone</td>\n",
       "      <td>Art &amp; Design</td>\n",
       "      <td>January 7, 2018</td>\n",
       "      <td>1.0.0</td>\n",
       "      <td>4.0.3 and up</td>\n",
       "    </tr>\n",
       "    <tr>\n",
       "      <th>1</th>\n",
       "      <td>Coloring book moana</td>\n",
       "      <td>ART_AND_DESIGN</td>\n",
       "      <td>3.9</td>\n",
       "      <td>967</td>\n",
       "      <td>14M</td>\n",
       "      <td>500,000+</td>\n",
       "      <td>Free</td>\n",
       "      <td>0</td>\n",
       "      <td>Everyone</td>\n",
       "      <td>Art &amp; Design;Pretend Play</td>\n",
       "      <td>January 15, 2018</td>\n",
       "      <td>2.0.0</td>\n",
       "      <td>4.0.3 and up</td>\n",
       "    </tr>\n",
       "    <tr>\n",
       "      <th>2</th>\n",
       "      <td>U Launcher Lite – FREE Live Cool Themes, Hide ...</td>\n",
       "      <td>ART_AND_DESIGN</td>\n",
       "      <td>4.7</td>\n",
       "      <td>87510</td>\n",
       "      <td>8.7M</td>\n",
       "      <td>5,000,000+</td>\n",
       "      <td>Free</td>\n",
       "      <td>0</td>\n",
       "      <td>Everyone</td>\n",
       "      <td>Art &amp; Design</td>\n",
       "      <td>August 1, 2018</td>\n",
       "      <td>1.2.4</td>\n",
       "      <td>4.0.3 and up</td>\n",
       "    </tr>\n",
       "    <tr>\n",
       "      <th>3</th>\n",
       "      <td>Sketch - Draw &amp; Paint</td>\n",
       "      <td>ART_AND_DESIGN</td>\n",
       "      <td>4.5</td>\n",
       "      <td>215644</td>\n",
       "      <td>25M</td>\n",
       "      <td>50,000,000+</td>\n",
       "      <td>Free</td>\n",
       "      <td>0</td>\n",
       "      <td>Teen</td>\n",
       "      <td>Art &amp; Design</td>\n",
       "      <td>June 8, 2018</td>\n",
       "      <td>Varies with device</td>\n",
       "      <td>4.2 and up</td>\n",
       "    </tr>\n",
       "    <tr>\n",
       "      <th>4</th>\n",
       "      <td>Pixel Draw - Number Art Coloring Book</td>\n",
       "      <td>ART_AND_DESIGN</td>\n",
       "      <td>4.3</td>\n",
       "      <td>967</td>\n",
       "      <td>2.8M</td>\n",
       "      <td>100,000+</td>\n",
       "      <td>Free</td>\n",
       "      <td>0</td>\n",
       "      <td>Everyone</td>\n",
       "      <td>Art &amp; Design;Creativity</td>\n",
       "      <td>June 20, 2018</td>\n",
       "      <td>1.1</td>\n",
       "      <td>4.4 and up</td>\n",
       "    </tr>\n",
       "  </tbody>\n",
       "</table>\n",
       "</div>"
      ],
      "text/plain": [
       "                                                 App        Category  Rating  \\\n",
       "0     Photo Editor & Candy Camera & Grid & ScrapBook  ART_AND_DESIGN     4.1   \n",
       "1                                Coloring book moana  ART_AND_DESIGN     3.9   \n",
       "2  U Launcher Lite – FREE Live Cool Themes, Hide ...  ART_AND_DESIGN     4.7   \n",
       "3                              Sketch - Draw & Paint  ART_AND_DESIGN     4.5   \n",
       "4              Pixel Draw - Number Art Coloring Book  ART_AND_DESIGN     4.3   \n",
       "\n",
       "  Reviews  Size     Installs  Type Price Content Rating  \\\n",
       "0     159   19M      10,000+  Free     0       Everyone   \n",
       "1     967   14M     500,000+  Free     0       Everyone   \n",
       "2   87510  8.7M   5,000,000+  Free     0       Everyone   \n",
       "3  215644   25M  50,000,000+  Free     0           Teen   \n",
       "4     967  2.8M     100,000+  Free     0       Everyone   \n",
       "\n",
       "                      Genres      Last Updated         Current Ver  \\\n",
       "0               Art & Design   January 7, 2018               1.0.0   \n",
       "1  Art & Design;Pretend Play  January 15, 2018               2.0.0   \n",
       "2               Art & Design    August 1, 2018               1.2.4   \n",
       "3               Art & Design      June 8, 2018  Varies with device   \n",
       "4    Art & Design;Creativity     June 20, 2018                 1.1   \n",
       "\n",
       "    Android Ver  \n",
       "0  4.0.3 and up  \n",
       "1  4.0.3 and up  \n",
       "2  4.0.3 and up  \n",
       "3    4.2 and up  \n",
       "4    4.4 and up  "
      ]
     },
     "execution_count": 1,
     "metadata": {},
     "output_type": "execute_result"
    }
   ],
   "source": [
    "import pandas as pd\n",
    "import numpy as np\n",
    "\n",
    "df = pd.read_csv('../data/googleplaystore.csv') #read from csv\n",
    "df[:5]"
   ]
  },
  {
   "cell_type": "markdown",
   "metadata": {},
   "source": [
    "Other ways of importing data depending on the file type.\n",
    "\n",
    "* __pd.read_table(filename)__ - From a delimited text file (like TSV)\n",
    "* __pd.read_excel(filename)__ - From an Excel file \n",
    "* __pd.read_sql(query, connection_object)__ - Reads from a SQL table/database\n",
    "* __pd.read_json(json_string)__ - Reads from a JSON file and extracts tables to a list of dataframes\n",
    "\n",
    "## Create Test Objects\n",
    "* __pd.DataFrame(dict)__ - From a dict, keys for columns names, values for data as lists\n",
    "* __pd.DataFrame(np.random.rand(20,5))__ - 5 columns and 20 rows of random floats\n",
    "* __pd.Series(my_list)__ - Creates a series from an iterable my_list"
   ]
  },
  {
   "cell_type": "code",
   "execution_count": 2,
   "metadata": {
    "ExecuteTime": {
     "end_time": "2019-02-06T06:54:57.182455Z",
     "start_time": "2019-02-06T06:54:57.166849Z"
    },
    "scrolled": true
   },
   "outputs": [
    {
     "data": {
      "text/html": [
       "<div>\n",
       "<style scoped>\n",
       "    .dataframe tbody tr th:only-of-type {\n",
       "        vertical-align: middle;\n",
       "    }\n",
       "\n",
       "    .dataframe tbody tr th {\n",
       "        vertical-align: top;\n",
       "    }\n",
       "\n",
       "    .dataframe thead th {\n",
       "        text-align: right;\n",
       "    }\n",
       "</style>\n",
       "<table border=\"1\" class=\"dataframe\">\n",
       "  <thead>\n",
       "    <tr style=\"text-align: right;\">\n",
       "      <th></th>\n",
       "      <th>City</th>\n",
       "      <th>State</th>\n",
       "    </tr>\n",
       "  </thead>\n",
       "  <tbody>\n",
       "    <tr>\n",
       "      <th>0</th>\n",
       "      <td>Kolkata</td>\n",
       "      <td>West Bengal</td>\n",
       "    </tr>\n",
       "    <tr>\n",
       "      <th>1</th>\n",
       "      <td>Bangalore</td>\n",
       "      <td>Karnataka</td>\n",
       "    </tr>\n",
       "  </tbody>\n",
       "</table>\n",
       "</div>"
      ],
      "text/plain": [
       "        City        State\n",
       "0    Kolkata  West Bengal\n",
       "1  Bangalore    Karnataka"
      ]
     },
     "execution_count": 2,
     "metadata": {},
     "output_type": "execute_result"
    }
   ],
   "source": [
    "df_dict = pd.DataFrame(columns=['City','State'], data = [['Kolkata','West Bengal'], ['Bangalore','Karnataka']])\n",
    "df_dict"
   ]
  },
  {
   "cell_type": "markdown",
   "metadata": {},
   "source": [
    "## Viewing Data\n",
    "\n",
    "* __df.head(n)__ - First n rows of the DataFrame [__replace head with tail__, you know what you will get]\n",
    "* __df.shape__ - Number of rows and columns \n",
    "* __df.info()__ - Index, Datatype and Memory \n",
    "* __df.describe()__ - Summary statistics for numerical columns\n",
    "* __df.apply(pd.Series.value_counts)__ - Unique values and counts for all columns\n",
    "\n",
    "__s.value_counts(dropna=False)__ - Views unique values and counts"
   ]
  },
  {
   "cell_type": "code",
   "execution_count": 3,
   "metadata": {
    "ExecuteTime": {
     "end_time": "2019-02-06T06:56:44.795781Z",
     "start_time": "2019-02-06T06:56:44.722311Z"
    },
    "scrolled": false
   },
   "outputs": [
    {
     "name": "stdout",
     "output_type": "stream",
     "text": [
      "df shape\n",
      "\n",
      "(10841, 13)\n",
      "\n",
      "================\n",
      "df info\n",
      "\n",
      "<class 'pandas.core.frame.DataFrame'>\n",
      "RangeIndex: 10841 entries, 0 to 10840\n",
      "Data columns (total 13 columns):\n",
      "App               10841 non-null object\n",
      "Category          10841 non-null object\n",
      "Rating            9367 non-null float64\n",
      "Reviews           10841 non-null object\n",
      "Size              10841 non-null object\n",
      "Installs          10841 non-null object\n",
      "Type              10840 non-null object\n",
      "Price             10841 non-null object\n",
      "Content Rating    10840 non-null object\n",
      "Genres            10841 non-null object\n",
      "Last Updated      10841 non-null object\n",
      "Current Ver       10833 non-null object\n",
      "Android Ver       10838 non-null object\n",
      "dtypes: float64(1), object(12)\n",
      "memory usage: 1.1+ MB\n"
     ]
    }
   ],
   "source": [
    "print(\"df shape\\n\")\n",
    "print(df.shape)\n",
    "print(\"\\n================\")\n",
    "print(\"df info\\n\")\n",
    "df.info()"
   ]
  },
  {
   "cell_type": "markdown",
   "metadata": {},
   "source": [
    "## Selection\n",
    "\n",
    "* __df[col]__ or __df.col__- Returns column with label col as Series\n",
    "* __df[[col1, col2]]__ - Returns Columns as a new DataFrame\n",
    "* __s.iloc[0]__ - Selection by position/Integer-based indexing\n",
    "* __s.loc[0]__ - Selection by index/label-based indexing\n",
    "* __df.loc[:, :]__ and __df.iloc[:, :]__ - First argument represents the number of rows and the second for columns\n",
    "* __df.ix[0:a, 0:b]__ - Arguments notation is same as above but returns a rows and (b-1) columns __[deprecated in Python 3]__\n",
    "\n",
    "```\n",
    "# Single selections using iloc and DataFrame\n",
    "# Rows:\n",
    "df.iloc[0] # first row of data frame\n",
    "df.iloc[1] # second row of data frame\n",
    "df.iloc[-1] # last row of data frame\n",
    "# Columns:\n",
    "df.iloc[:,0] # first column of data frame\n",
    "df.iloc[:,1] # second column of data frame\n",
    "df.iloc[:,-1] # last column of data frame\n",
    "```"
   ]
  },
  {
   "cell_type": "code",
   "execution_count": 4,
   "metadata": {
    "ExecuteTime": {
     "end_time": "2019-02-06T07:04:19.115983Z",
     "start_time": "2019-02-06T07:04:19.094290Z"
    }
   },
   "outputs": [
    {
     "data": {
      "text/html": [
       "<div>\n",
       "<style scoped>\n",
       "    .dataframe tbody tr th:only-of-type {\n",
       "        vertical-align: middle;\n",
       "    }\n",
       "\n",
       "    .dataframe tbody tr th {\n",
       "        vertical-align: top;\n",
       "    }\n",
       "\n",
       "    .dataframe thead th {\n",
       "        text-align: right;\n",
       "    }\n",
       "</style>\n",
       "<table border=\"1\" class=\"dataframe\">\n",
       "  <thead>\n",
       "    <tr style=\"text-align: right;\">\n",
       "      <th></th>\n",
       "      <th>App</th>\n",
       "      <th>Category</th>\n",
       "    </tr>\n",
       "  </thead>\n",
       "  <tbody>\n",
       "    <tr>\n",
       "      <th>0</th>\n",
       "      <td>Photo Editor &amp; Candy Camera &amp; Grid &amp; ScrapBook</td>\n",
       "      <td>ART_AND_DESIGN</td>\n",
       "    </tr>\n",
       "    <tr>\n",
       "      <th>1</th>\n",
       "      <td>Coloring book moana</td>\n",
       "      <td>ART_AND_DESIGN</td>\n",
       "    </tr>\n",
       "    <tr>\n",
       "      <th>2</th>\n",
       "      <td>U Launcher Lite – FREE Live Cool Themes, Hide ...</td>\n",
       "      <td>ART_AND_DESIGN</td>\n",
       "    </tr>\n",
       "    <tr>\n",
       "      <th>3</th>\n",
       "      <td>Sketch - Draw &amp; Paint</td>\n",
       "      <td>ART_AND_DESIGN</td>\n",
       "    </tr>\n",
       "  </tbody>\n",
       "</table>\n",
       "</div>"
      ],
      "text/plain": [
       "                                                 App        Category\n",
       "0     Photo Editor & Candy Camera & Grid & ScrapBook  ART_AND_DESIGN\n",
       "1                                Coloring book moana  ART_AND_DESIGN\n",
       "2  U Launcher Lite – FREE Live Cool Themes, Hide ...  ART_AND_DESIGN\n",
       "3                              Sketch - Draw & Paint  ART_AND_DESIGN"
      ]
     },
     "execution_count": 4,
     "metadata": {},
     "output_type": "execute_result"
    }
   ],
   "source": [
    "# rows 0 to 4; selective columns using iloc\n",
    "df.iloc[0:4,[0,1]]"
   ]
  },
  {
   "cell_type": "code",
   "execution_count": 5,
   "metadata": {
    "ExecuteTime": {
     "end_time": "2019-02-06T07:02:24.633705Z",
     "start_time": "2019-02-06T07:02:24.586058Z"
    }
   },
   "outputs": [
    {
     "data": {
      "text/html": [
       "<div>\n",
       "<style scoped>\n",
       "    .dataframe tbody tr th:only-of-type {\n",
       "        vertical-align: middle;\n",
       "    }\n",
       "\n",
       "    .dataframe tbody tr th {\n",
       "        vertical-align: top;\n",
       "    }\n",
       "\n",
       "    .dataframe thead th {\n",
       "        text-align: right;\n",
       "    }\n",
       "</style>\n",
       "<table border=\"1\" class=\"dataframe\">\n",
       "  <thead>\n",
       "    <tr style=\"text-align: right;\">\n",
       "      <th></th>\n",
       "      <th>App</th>\n",
       "      <th>Category</th>\n",
       "      <th>Rating</th>\n",
       "      <th>Reviews</th>\n",
       "      <th>Size</th>\n",
       "      <th>Installs</th>\n",
       "      <th>Type</th>\n",
       "      <th>Price</th>\n",
       "      <th>Content Rating</th>\n",
       "      <th>Genres</th>\n",
       "      <th>Last Updated</th>\n",
       "      <th>Current Ver</th>\n",
       "      <th>Android Ver</th>\n",
       "    </tr>\n",
       "  </thead>\n",
       "  <tbody>\n",
       "    <tr>\n",
       "      <th>0</th>\n",
       "      <td>Photo Editor &amp; Candy Camera &amp; Grid &amp; ScrapBook</td>\n",
       "      <td>ART_AND_DESIGN</td>\n",
       "      <td>4.1</td>\n",
       "      <td>159</td>\n",
       "      <td>19M</td>\n",
       "      <td>10,000+</td>\n",
       "      <td>Free</td>\n",
       "      <td>0</td>\n",
       "      <td>Everyone</td>\n",
       "      <td>Art &amp; Design</td>\n",
       "      <td>January 7, 2018</td>\n",
       "      <td>1.0.0</td>\n",
       "      <td>4.0.3 and up</td>\n",
       "    </tr>\n",
       "    <tr>\n",
       "      <th>1</th>\n",
       "      <td>Coloring book moana</td>\n",
       "      <td>ART_AND_DESIGN</td>\n",
       "      <td>3.9</td>\n",
       "      <td>967</td>\n",
       "      <td>14M</td>\n",
       "      <td>500,000+</td>\n",
       "      <td>Free</td>\n",
       "      <td>0</td>\n",
       "      <td>Everyone</td>\n",
       "      <td>Art &amp; Design;Pretend Play</td>\n",
       "      <td>January 15, 2018</td>\n",
       "      <td>2.0.0</td>\n",
       "      <td>4.0.3 and up</td>\n",
       "    </tr>\n",
       "    <tr>\n",
       "      <th>2</th>\n",
       "      <td>U Launcher Lite – FREE Live Cool Themes, Hide ...</td>\n",
       "      <td>ART_AND_DESIGN</td>\n",
       "      <td>4.7</td>\n",
       "      <td>87510</td>\n",
       "      <td>8.7M</td>\n",
       "      <td>5,000,000+</td>\n",
       "      <td>Free</td>\n",
       "      <td>0</td>\n",
       "      <td>Everyone</td>\n",
       "      <td>Art &amp; Design</td>\n",
       "      <td>August 1, 2018</td>\n",
       "      <td>1.2.4</td>\n",
       "      <td>4.0.3 and up</td>\n",
       "    </tr>\n",
       "    <tr>\n",
       "      <th>3</th>\n",
       "      <td>Sketch - Draw &amp; Paint</td>\n",
       "      <td>ART_AND_DESIGN</td>\n",
       "      <td>4.5</td>\n",
       "      <td>215644</td>\n",
       "      <td>25M</td>\n",
       "      <td>50,000,000+</td>\n",
       "      <td>Free</td>\n",
       "      <td>0</td>\n",
       "      <td>Teen</td>\n",
       "      <td>Art &amp; Design</td>\n",
       "      <td>June 8, 2018</td>\n",
       "      <td>Varies with device</td>\n",
       "      <td>4.2 and up</td>\n",
       "    </tr>\n",
       "    <tr>\n",
       "      <th>4</th>\n",
       "      <td>Pixel Draw - Number Art Coloring Book</td>\n",
       "      <td>ART_AND_DESIGN</td>\n",
       "      <td>4.3</td>\n",
       "      <td>967</td>\n",
       "      <td>2.8M</td>\n",
       "      <td>100,000+</td>\n",
       "      <td>Free</td>\n",
       "      <td>0</td>\n",
       "      <td>Everyone</td>\n",
       "      <td>Art &amp; Design;Creativity</td>\n",
       "      <td>June 20, 2018</td>\n",
       "      <td>1.1</td>\n",
       "      <td>4.4 and up</td>\n",
       "    </tr>\n",
       "  </tbody>\n",
       "</table>\n",
       "</div>"
      ],
      "text/plain": [
       "                                                 App        Category  Rating  \\\n",
       "0     Photo Editor & Candy Camera & Grid & ScrapBook  ART_AND_DESIGN     4.1   \n",
       "1                                Coloring book moana  ART_AND_DESIGN     3.9   \n",
       "2  U Launcher Lite – FREE Live Cool Themes, Hide ...  ART_AND_DESIGN     4.7   \n",
       "3                              Sketch - Draw & Paint  ART_AND_DESIGN     4.5   \n",
       "4              Pixel Draw - Number Art Coloring Book  ART_AND_DESIGN     4.3   \n",
       "\n",
       "  Reviews  Size     Installs  Type Price Content Rating  \\\n",
       "0     159   19M      10,000+  Free     0       Everyone   \n",
       "1     967   14M     500,000+  Free     0       Everyone   \n",
       "2   87510  8.7M   5,000,000+  Free     0       Everyone   \n",
       "3  215644   25M  50,000,000+  Free     0           Teen   \n",
       "4     967  2.8M     100,000+  Free     0       Everyone   \n",
       "\n",
       "                      Genres      Last Updated         Current Ver  \\\n",
       "0               Art & Design   January 7, 2018               1.0.0   \n",
       "1  Art & Design;Pretend Play  January 15, 2018               2.0.0   \n",
       "2               Art & Design    August 1, 2018               1.2.4   \n",
       "3               Art & Design      June 8, 2018  Varies with device   \n",
       "4    Art & Design;Creativity     June 20, 2018                 1.1   \n",
       "\n",
       "    Android Ver  \n",
       "0  4.0.3 and up  \n",
       "1  4.0.3 and up  \n",
       "2  4.0.3 and up  \n",
       "3    4.2 and up  \n",
       "4    4.4 and up  "
      ]
     },
     "execution_count": 5,
     "metadata": {},
     "output_type": "execute_result"
    }
   ],
   "source": [
    "# rows 0 to 4; all columns\n",
    "df.loc[0:4,:] # : for columns is optional here since we are asking for all columns"
   ]
  },
  {
   "cell_type": "code",
   "execution_count": 6,
   "metadata": {
    "ExecuteTime": {
     "end_time": "2019-02-06T07:03:10.792390Z",
     "start_time": "2019-02-06T07:03:10.744252Z"
    }
   },
   "outputs": [
    {
     "data": {
      "text/html": [
       "<div>\n",
       "<style scoped>\n",
       "    .dataframe tbody tr th:only-of-type {\n",
       "        vertical-align: middle;\n",
       "    }\n",
       "\n",
       "    .dataframe tbody tr th {\n",
       "        vertical-align: top;\n",
       "    }\n",
       "\n",
       "    .dataframe thead th {\n",
       "        text-align: right;\n",
       "    }\n",
       "</style>\n",
       "<table border=\"1\" class=\"dataframe\">\n",
       "  <thead>\n",
       "    <tr style=\"text-align: right;\">\n",
       "      <th></th>\n",
       "      <th>App</th>\n",
       "      <th>Category</th>\n",
       "    </tr>\n",
       "  </thead>\n",
       "  <tbody>\n",
       "    <tr>\n",
       "      <th>0</th>\n",
       "      <td>Photo Editor &amp; Candy Camera &amp; Grid &amp; ScrapBook</td>\n",
       "      <td>ART_AND_DESIGN</td>\n",
       "    </tr>\n",
       "    <tr>\n",
       "      <th>1</th>\n",
       "      <td>Coloring book moana</td>\n",
       "      <td>ART_AND_DESIGN</td>\n",
       "    </tr>\n",
       "    <tr>\n",
       "      <th>2</th>\n",
       "      <td>U Launcher Lite – FREE Live Cool Themes, Hide ...</td>\n",
       "      <td>ART_AND_DESIGN</td>\n",
       "    </tr>\n",
       "    <tr>\n",
       "      <th>3</th>\n",
       "      <td>Sketch - Draw &amp; Paint</td>\n",
       "      <td>ART_AND_DESIGN</td>\n",
       "    </tr>\n",
       "    <tr>\n",
       "      <th>4</th>\n",
       "      <td>Pixel Draw - Number Art Coloring Book</td>\n",
       "      <td>ART_AND_DESIGN</td>\n",
       "    </tr>\n",
       "  </tbody>\n",
       "</table>\n",
       "</div>"
      ],
      "text/plain": [
       "                                                 App        Category\n",
       "0     Photo Editor & Candy Camera & Grid & ScrapBook  ART_AND_DESIGN\n",
       "1                                Coloring book moana  ART_AND_DESIGN\n",
       "2  U Launcher Lite – FREE Live Cool Themes, Hide ...  ART_AND_DESIGN\n",
       "3                              Sketch - Draw & Paint  ART_AND_DESIGN\n",
       "4              Pixel Draw - Number Art Coloring Book  ART_AND_DESIGN"
      ]
     },
     "execution_count": 6,
     "metadata": {},
     "output_type": "execute_result"
    }
   ],
   "source": [
    "# rows 0 to 4; selective columns\n",
    "df.loc[0:4,['App','Category']]"
   ]
  },
  {
   "cell_type": "markdown",
   "metadata": {
    "ExecuteTime": {
     "end_time": "2018-11-25T09:02:34.612314Z",
     "start_time": "2018-11-25T09:02:34.606891Z"
    }
   },
   "source": [
    "__NOTE__: \n",
    "* In __loc__, we are mentioning the column names for selection, while in __iloc__ we are specifying the column number\n",
    "* In __loc__, rows are getting printed including the upper bound, while in __iloc__, it is excluding it\n",
    "\n",
    "Also __NOTE__ the following:\n",
    "1. For creating a new DataFrame using column names\n",
    "```\n",
    "df[[col1, col2]]\n",
    "```\n",
    "is same as\n",
    "```\n",
    "df.loc[:,[col1, col2]]\n",
    "```\n",
    "2. For printing the first 5 rows of the DataFrame\n",
    "```\n",
    "df[0:n]\n",
    "```\n",
    "is same as\n",
    "```\n",
    "df.iloc[0:n, :]\n",
    "```"
   ]
  },
  {
   "cell_type": "markdown",
   "metadata": {},
   "source": [
    "## Data Cleaning\n",
    "\n",
    "\n",
    "* __df.drop([col1, col2, col3], inplace = True, axis=1)__ - Remove set of column(s)\n",
    "* __df.columns = ['a','b','c']__ - Renames columns\n",
    "* __df.isnull()__ - Checks for null Values, Returns Boolean DataFrame\n",
    "* __df.isnull().any()__ - Returns boolean value for each column, gives True if any null value detected corresponding to that column\n",
    "* __df.dropna()__ - Drops all rows that contain null values\n",
    "* __df.dropna(axis=1)__ - Drops all columns that contain null values\n",
    "* __df.fillna(x)__ - Replaces all null values with x\n",
    "* __s.replace(1,'one')__ - Replaces all values equal to 1 with 'one'\n",
    "* __s.replace([1,3], ['one','three'])__ - Replaces all 1 with 'one' and 3 with 'three'\n",
    "* __df.rename(columns = lambda x: x + '_1')__ - Mass renaming of columns\n",
    "* __df.rename(columns = {'old_name': 'new_name'})__ - Selective renaming\n",
    "* __df.rename(index = lambda x: x + 1)__ - Mass renaming of index\n",
    "* __df[new_col] = df.col1 + ', ' + df.col2__ - Add two columns to create a new column in the same DataFrame"
   ]
  },
  {
   "cell_type": "code",
   "execution_count": 7,
   "metadata": {
    "ExecuteTime": {
     "end_time": "2019-02-06T07:14:23.331687Z",
     "start_time": "2019-02-06T07:14:23.294077Z"
    }
   },
   "outputs": [
    {
     "data": {
      "text/html": [
       "<div>\n",
       "<style scoped>\n",
       "    .dataframe tbody tr th:only-of-type {\n",
       "        vertical-align: middle;\n",
       "    }\n",
       "\n",
       "    .dataframe tbody tr th {\n",
       "        vertical-align: top;\n",
       "    }\n",
       "\n",
       "    .dataframe thead th {\n",
       "        text-align: right;\n",
       "    }\n",
       "</style>\n",
       "<table border=\"1\" class=\"dataframe\">\n",
       "  <thead>\n",
       "    <tr style=\"text-align: right;\">\n",
       "      <th></th>\n",
       "      <th>App</th>\n",
       "      <th>Rating</th>\n",
       "      <th>Reviews</th>\n",
       "      <th>Size</th>\n",
       "      <th>Installs</th>\n",
       "      <th>Type</th>\n",
       "      <th>Price</th>\n",
       "      <th>Content Rating</th>\n",
       "      <th>Genres</th>\n",
       "      <th>Last Updated</th>\n",
       "      <th>Current Ver</th>\n",
       "      <th>Android Ver</th>\n",
       "    </tr>\n",
       "  </thead>\n",
       "  <tbody>\n",
       "    <tr>\n",
       "      <th>0</th>\n",
       "      <td>Photo Editor &amp; Candy Camera &amp; Grid &amp; ScrapBook</td>\n",
       "      <td>4.1</td>\n",
       "      <td>159</td>\n",
       "      <td>19M</td>\n",
       "      <td>10,000+</td>\n",
       "      <td>Free</td>\n",
       "      <td>0</td>\n",
       "      <td>Everyone</td>\n",
       "      <td>Art &amp; Design</td>\n",
       "      <td>January 7, 2018</td>\n",
       "      <td>1.0.0</td>\n",
       "      <td>4.0.3 and up</td>\n",
       "    </tr>\n",
       "    <tr>\n",
       "      <th>1</th>\n",
       "      <td>Coloring book moana</td>\n",
       "      <td>3.9</td>\n",
       "      <td>967</td>\n",
       "      <td>14M</td>\n",
       "      <td>500,000+</td>\n",
       "      <td>Free</td>\n",
       "      <td>0</td>\n",
       "      <td>Everyone</td>\n",
       "      <td>Art &amp; Design;Pretend Play</td>\n",
       "      <td>January 15, 2018</td>\n",
       "      <td>2.0.0</td>\n",
       "      <td>4.0.3 and up</td>\n",
       "    </tr>\n",
       "    <tr>\n",
       "      <th>2</th>\n",
       "      <td>U Launcher Lite – FREE Live Cool Themes, Hide ...</td>\n",
       "      <td>4.7</td>\n",
       "      <td>87510</td>\n",
       "      <td>8.7M</td>\n",
       "      <td>5,000,000+</td>\n",
       "      <td>Free</td>\n",
       "      <td>0</td>\n",
       "      <td>Everyone</td>\n",
       "      <td>Art &amp; Design</td>\n",
       "      <td>August 1, 2018</td>\n",
       "      <td>1.2.4</td>\n",
       "      <td>4.0.3 and up</td>\n",
       "    </tr>\n",
       "    <tr>\n",
       "      <th>3</th>\n",
       "      <td>Sketch - Draw &amp; Paint</td>\n",
       "      <td>4.5</td>\n",
       "      <td>215644</td>\n",
       "      <td>25M</td>\n",
       "      <td>50,000,000+</td>\n",
       "      <td>Free</td>\n",
       "      <td>0</td>\n",
       "      <td>Teen</td>\n",
       "      <td>Art &amp; Design</td>\n",
       "      <td>June 8, 2018</td>\n",
       "      <td>Varies with device</td>\n",
       "      <td>4.2 and up</td>\n",
       "    </tr>\n",
       "    <tr>\n",
       "      <th>4</th>\n",
       "      <td>Pixel Draw - Number Art Coloring Book</td>\n",
       "      <td>4.3</td>\n",
       "      <td>967</td>\n",
       "      <td>2.8M</td>\n",
       "      <td>100,000+</td>\n",
       "      <td>Free</td>\n",
       "      <td>0</td>\n",
       "      <td>Everyone</td>\n",
       "      <td>Art &amp; Design;Creativity</td>\n",
       "      <td>June 20, 2018</td>\n",
       "      <td>1.1</td>\n",
       "      <td>4.4 and up</td>\n",
       "    </tr>\n",
       "  </tbody>\n",
       "</table>\n",
       "</div>"
      ],
      "text/plain": [
       "                                                 App  Rating Reviews  Size  \\\n",
       "0     Photo Editor & Candy Camera & Grid & ScrapBook     4.1     159   19M   \n",
       "1                                Coloring book moana     3.9     967   14M   \n",
       "2  U Launcher Lite – FREE Live Cool Themes, Hide ...     4.7   87510  8.7M   \n",
       "3                              Sketch - Draw & Paint     4.5  215644   25M   \n",
       "4              Pixel Draw - Number Art Coloring Book     4.3     967  2.8M   \n",
       "\n",
       "      Installs  Type Price Content Rating                     Genres  \\\n",
       "0      10,000+  Free     0       Everyone               Art & Design   \n",
       "1     500,000+  Free     0       Everyone  Art & Design;Pretend Play   \n",
       "2   5,000,000+  Free     0       Everyone               Art & Design   \n",
       "3  50,000,000+  Free     0           Teen               Art & Design   \n",
       "4     100,000+  Free     0       Everyone    Art & Design;Creativity   \n",
       "\n",
       "       Last Updated         Current Ver   Android Ver  \n",
       "0   January 7, 2018               1.0.0  4.0.3 and up  \n",
       "1  January 15, 2018               2.0.0  4.0.3 and up  \n",
       "2    August 1, 2018               1.2.4  4.0.3 and up  \n",
       "3      June 8, 2018  Varies with device    4.2 and up  \n",
       "4     June 20, 2018                 1.1    4.4 and up  "
      ]
     },
     "execution_count": 7,
     "metadata": {},
     "output_type": "execute_result"
    }
   ],
   "source": [
    "df.drop(['Category'], inplace=True, axis = 1)\n",
    "df.head()"
   ]
  },
  {
   "cell_type": "code",
   "execution_count": 8,
   "metadata": {
    "ExecuteTime": {
     "end_time": "2019-02-06T07:14:58.205816Z",
     "start_time": "2019-02-06T07:14:58.183902Z"
    }
   },
   "outputs": [
    {
     "data": {
      "text/plain": [
       "App               False\n",
       "Rating             True\n",
       "Reviews           False\n",
       "Size              False\n",
       "Installs          False\n",
       "Type               True\n",
       "Price             False\n",
       "Content Rating     True\n",
       "Genres            False\n",
       "Last Updated      False\n",
       "Current Ver        True\n",
       "Android Ver        True\n",
       "dtype: bool"
      ]
     },
     "execution_count": 8,
     "metadata": {},
     "output_type": "execute_result"
    }
   ],
   "source": [
    "df_any_null = df.isnull().any()\n",
    "df_any_null"
   ]
  },
  {
   "cell_type": "code",
   "execution_count": 9,
   "metadata": {
    "ExecuteTime": {
     "end_time": "2019-02-06T07:15:59.455998Z",
     "start_time": "2019-02-06T07:15:59.359991Z"
    }
   },
   "outputs": [
    {
     "name": "stdout",
     "output_type": "stream",
     "text": [
      "(9360, 12)\n"
     ]
    },
    {
     "data": {
      "text/plain": [
       "App               False\n",
       "Rating            False\n",
       "Reviews           False\n",
       "Size              False\n",
       "Installs          False\n",
       "Type              False\n",
       "Price             False\n",
       "Content Rating    False\n",
       "Genres            False\n",
       "Last Updated      False\n",
       "Current Ver       False\n",
       "Android Ver       False\n",
       "dtype: bool"
      ]
     },
     "execution_count": 9,
     "metadata": {},
     "output_type": "execute_result"
    }
   ],
   "source": [
    "df.dropna(axis=0, inplace=True)\n",
    "df_check_null = df.isnull().any()\n",
    "print(df.shape)\n",
    "df_check_null"
   ]
  },
  {
   "cell_type": "code",
   "execution_count": 10,
   "metadata": {
    "ExecuteTime": {
     "end_time": "2019-02-06T07:18:35.369041Z",
     "start_time": "2019-02-06T07:18:35.320306Z"
    }
   },
   "outputs": [
    {
     "data": {
      "text/html": [
       "<div>\n",
       "<style scoped>\n",
       "    .dataframe tbody tr th:only-of-type {\n",
       "        vertical-align: middle;\n",
       "    }\n",
       "\n",
       "    .dataframe tbody tr th {\n",
       "        vertical-align: top;\n",
       "    }\n",
       "\n",
       "    .dataframe thead th {\n",
       "        text-align: right;\n",
       "    }\n",
       "</style>\n",
       "<table border=\"1\" class=\"dataframe\">\n",
       "  <thead>\n",
       "    <tr style=\"text-align: right;\">\n",
       "      <th></th>\n",
       "      <th>app</th>\n",
       "      <th>rating</th>\n",
       "      <th>reviews</th>\n",
       "      <th>size</th>\n",
       "      <th>installs</th>\n",
       "      <th>type</th>\n",
       "      <th>price</th>\n",
       "      <th>content_rating</th>\n",
       "      <th>genres</th>\n",
       "      <th>last_updated</th>\n",
       "      <th>current_ver</th>\n",
       "      <th>android_ver</th>\n",
       "    </tr>\n",
       "  </thead>\n",
       "  <tbody>\n",
       "    <tr>\n",
       "      <th>0</th>\n",
       "      <td>Photo Editor &amp; Candy Camera &amp; Grid &amp; ScrapBook</td>\n",
       "      <td>4.1</td>\n",
       "      <td>159</td>\n",
       "      <td>19M</td>\n",
       "      <td>10,000+</td>\n",
       "      <td>Free</td>\n",
       "      <td>0</td>\n",
       "      <td>Everyone</td>\n",
       "      <td>Art &amp; Design</td>\n",
       "      <td>January 7, 2018</td>\n",
       "      <td>1.0.0</td>\n",
       "      <td>4.0.3 and up</td>\n",
       "    </tr>\n",
       "    <tr>\n",
       "      <th>1</th>\n",
       "      <td>Coloring book moana</td>\n",
       "      <td>3.9</td>\n",
       "      <td>967</td>\n",
       "      <td>14M</td>\n",
       "      <td>500,000+</td>\n",
       "      <td>Free</td>\n",
       "      <td>0</td>\n",
       "      <td>Everyone</td>\n",
       "      <td>Art &amp; Design;Pretend Play</td>\n",
       "      <td>January 15, 2018</td>\n",
       "      <td>2.0.0</td>\n",
       "      <td>4.0.3 and up</td>\n",
       "    </tr>\n",
       "    <tr>\n",
       "      <th>2</th>\n",
       "      <td>U Launcher Lite – FREE Live Cool Themes, Hide ...</td>\n",
       "      <td>4.7</td>\n",
       "      <td>87510</td>\n",
       "      <td>8.7M</td>\n",
       "      <td>5,000,000+</td>\n",
       "      <td>Free</td>\n",
       "      <td>0</td>\n",
       "      <td>Everyone</td>\n",
       "      <td>Art &amp; Design</td>\n",
       "      <td>August 1, 2018</td>\n",
       "      <td>1.2.4</td>\n",
       "      <td>4.0.3 and up</td>\n",
       "    </tr>\n",
       "    <tr>\n",
       "      <th>3</th>\n",
       "      <td>Sketch - Draw &amp; Paint</td>\n",
       "      <td>4.5</td>\n",
       "      <td>215644</td>\n",
       "      <td>25M</td>\n",
       "      <td>50,000,000+</td>\n",
       "      <td>Free</td>\n",
       "      <td>0</td>\n",
       "      <td>Teen</td>\n",
       "      <td>Art &amp; Design</td>\n",
       "      <td>June 8, 2018</td>\n",
       "      <td>Varies with device</td>\n",
       "      <td>4.2 and up</td>\n",
       "    </tr>\n",
       "    <tr>\n",
       "      <th>4</th>\n",
       "      <td>Pixel Draw - Number Art Coloring Book</td>\n",
       "      <td>4.3</td>\n",
       "      <td>967</td>\n",
       "      <td>2.8M</td>\n",
       "      <td>100,000+</td>\n",
       "      <td>Free</td>\n",
       "      <td>0</td>\n",
       "      <td>Everyone</td>\n",
       "      <td>Art &amp; Design;Creativity</td>\n",
       "      <td>June 20, 2018</td>\n",
       "      <td>1.1</td>\n",
       "      <td>4.4 and up</td>\n",
       "    </tr>\n",
       "  </tbody>\n",
       "</table>\n",
       "</div>"
      ],
      "text/plain": [
       "                                                 app  rating reviews  size  \\\n",
       "0     Photo Editor & Candy Camera & Grid & ScrapBook     4.1     159   19M   \n",
       "1                                Coloring book moana     3.9     967   14M   \n",
       "2  U Launcher Lite – FREE Live Cool Themes, Hide ...     4.7   87510  8.7M   \n",
       "3                              Sketch - Draw & Paint     4.5  215644   25M   \n",
       "4              Pixel Draw - Number Art Coloring Book     4.3     967  2.8M   \n",
       "\n",
       "      installs  type price content_rating                     genres  \\\n",
       "0      10,000+  Free     0       Everyone               Art & Design   \n",
       "1     500,000+  Free     0       Everyone  Art & Design;Pretend Play   \n",
       "2   5,000,000+  Free     0       Everyone               Art & Design   \n",
       "3  50,000,000+  Free     0           Teen               Art & Design   \n",
       "4     100,000+  Free     0       Everyone    Art & Design;Creativity   \n",
       "\n",
       "       last_updated         current_ver   android_ver  \n",
       "0   January 7, 2018               1.0.0  4.0.3 and up  \n",
       "1  January 15, 2018               2.0.0  4.0.3 and up  \n",
       "2    August 1, 2018               1.2.4  4.0.3 and up  \n",
       "3      June 8, 2018  Varies with device    4.2 and up  \n",
       "4     June 20, 2018                 1.1    4.4 and up  "
      ]
     },
     "execution_count": 10,
     "metadata": {},
     "output_type": "execute_result"
    }
   ],
   "source": [
    "df_new_cols_name = df.rename(columns = lambda x: (x.lower()).replace(' ','_'))\n",
    "df_new_cols_name.head()"
   ]
  },
  {
   "cell_type": "markdown",
   "metadata": {},
   "source": [
    "## Filter, Sort & Group By\n",
    "* __df[df[col] > 0.5]__ - Rows where the values in col > 0.5\n",
    "* __df[(df[col] > 0.5) & (df[col] < 0.7)]__ - Rows where 0.7 > col > 0.5\n",
    "* __df.sort_values(col1)__ - Sorts values by col1 in ascending order\n",
    "* __df.sort_values(col2,ascending=False)__ - Sorts values by col2 in descending order\n",
    "* __df.sort_values([col1,col2],ascending=[True,False])__ - Sorts values by col1 in ascending order then col2 in descending order\n",
    "\n",
    "* __df.groupby(col)__ - Returns a groupby object for values from one column\n",
    "* __df.groupby([col1,col2])__ - Returns a groupby object values from multiple columns\n",
    "* __df.groupby(col1)[col2].mean()__ - (Aggregation) Returns the mean of the values in col2, grouped by the values in col1 \n",
    "* __df.pivot_table(index=col1,values=[col2,col3],aggfunc=mean)__ - Creates a pivot table that groups by col1 and calculates the mean of col2 and col3\n",
    "* __df.apply(np.mean)__ - Applies a function across each column\n",
    "* __df.apply(np.max, axis=1)__ - Applies a function across each row\n",
    "* __df.applymap(lambda arg(s): expression)__ - Apply the expression on each value of the DataFrame\n",
    "* __df[col].map(lambda arg(s): expression)__ - Apply the expression on each value of the column col"
   ]
  },
  {
   "cell_type": "code",
   "execution_count": 11,
   "metadata": {
    "ExecuteTime": {
     "end_time": "2019-02-06T07:23:39.570241Z",
     "start_time": "2019-02-06T07:23:39.527335Z"
    }
   },
   "outputs": [
    {
     "name": "stdout",
     "output_type": "stream",
     "text": [
      "(5702, 12)\n"
     ]
    },
    {
     "data": {
      "text/html": [
       "<div>\n",
       "<style scoped>\n",
       "    .dataframe tbody tr th:only-of-type {\n",
       "        vertical-align: middle;\n",
       "    }\n",
       "\n",
       "    .dataframe tbody tr th {\n",
       "        vertical-align: top;\n",
       "    }\n",
       "\n",
       "    .dataframe thead th {\n",
       "        text-align: right;\n",
       "    }\n",
       "</style>\n",
       "<table border=\"1\" class=\"dataframe\">\n",
       "  <thead>\n",
       "    <tr style=\"text-align: right;\">\n",
       "      <th></th>\n",
       "      <th>App</th>\n",
       "      <th>Rating</th>\n",
       "      <th>Reviews</th>\n",
       "      <th>Size</th>\n",
       "      <th>Installs</th>\n",
       "      <th>Type</th>\n",
       "      <th>Price</th>\n",
       "      <th>Content Rating</th>\n",
       "      <th>Genres</th>\n",
       "      <th>Last Updated</th>\n",
       "      <th>Current Ver</th>\n",
       "      <th>Android Ver</th>\n",
       "    </tr>\n",
       "  </thead>\n",
       "  <tbody>\n",
       "    <tr>\n",
       "      <th>0</th>\n",
       "      <td>Photo Editor &amp; Candy Camera &amp; Grid &amp; ScrapBook</td>\n",
       "      <td>4.1</td>\n",
       "      <td>159</td>\n",
       "      <td>19M</td>\n",
       "      <td>10,000+</td>\n",
       "      <td>Free</td>\n",
       "      <td>0</td>\n",
       "      <td>Everyone</td>\n",
       "      <td>Art &amp; Design</td>\n",
       "      <td>January 7, 2018</td>\n",
       "      <td>1.0.0</td>\n",
       "      <td>4.0.3 and up</td>\n",
       "    </tr>\n",
       "    <tr>\n",
       "      <th>3</th>\n",
       "      <td>Sketch - Draw &amp; Paint</td>\n",
       "      <td>4.5</td>\n",
       "      <td>215644</td>\n",
       "      <td>25M</td>\n",
       "      <td>50,000,000+</td>\n",
       "      <td>Free</td>\n",
       "      <td>0</td>\n",
       "      <td>Teen</td>\n",
       "      <td>Art &amp; Design</td>\n",
       "      <td>June 8, 2018</td>\n",
       "      <td>Varies with device</td>\n",
       "      <td>4.2 and up</td>\n",
       "    </tr>\n",
       "    <tr>\n",
       "      <th>4</th>\n",
       "      <td>Pixel Draw - Number Art Coloring Book</td>\n",
       "      <td>4.3</td>\n",
       "      <td>967</td>\n",
       "      <td>2.8M</td>\n",
       "      <td>100,000+</td>\n",
       "      <td>Free</td>\n",
       "      <td>0</td>\n",
       "      <td>Everyone</td>\n",
       "      <td>Art &amp; Design;Creativity</td>\n",
       "      <td>June 20, 2018</td>\n",
       "      <td>1.1</td>\n",
       "      <td>4.4 and up</td>\n",
       "    </tr>\n",
       "    <tr>\n",
       "      <th>5</th>\n",
       "      <td>Paper flowers instructions</td>\n",
       "      <td>4.4</td>\n",
       "      <td>167</td>\n",
       "      <td>5.6M</td>\n",
       "      <td>50,000+</td>\n",
       "      <td>Free</td>\n",
       "      <td>0</td>\n",
       "      <td>Everyone</td>\n",
       "      <td>Art &amp; Design</td>\n",
       "      <td>March 26, 2017</td>\n",
       "      <td>1.0</td>\n",
       "      <td>2.3 and up</td>\n",
       "    </tr>\n",
       "    <tr>\n",
       "      <th>7</th>\n",
       "      <td>Infinite Painter</td>\n",
       "      <td>4.1</td>\n",
       "      <td>36815</td>\n",
       "      <td>29M</td>\n",
       "      <td>1,000,000+</td>\n",
       "      <td>Free</td>\n",
       "      <td>0</td>\n",
       "      <td>Everyone</td>\n",
       "      <td>Art &amp; Design</td>\n",
       "      <td>June 14, 2018</td>\n",
       "      <td>6.1.61.1</td>\n",
       "      <td>4.2 and up</td>\n",
       "    </tr>\n",
       "  </tbody>\n",
       "</table>\n",
       "</div>"
      ],
      "text/plain": [
       "                                              App  Rating Reviews  Size  \\\n",
       "0  Photo Editor & Candy Camera & Grid & ScrapBook     4.1     159   19M   \n",
       "3                           Sketch - Draw & Paint     4.5  215644   25M   \n",
       "4           Pixel Draw - Number Art Coloring Book     4.3     967  2.8M   \n",
       "5                      Paper flowers instructions     4.4     167  5.6M   \n",
       "7                                Infinite Painter     4.1   36815   29M   \n",
       "\n",
       "      Installs  Type Price Content Rating                   Genres  \\\n",
       "0      10,000+  Free     0       Everyone             Art & Design   \n",
       "3  50,000,000+  Free     0           Teen             Art & Design   \n",
       "4     100,000+  Free     0       Everyone  Art & Design;Creativity   \n",
       "5      50,000+  Free     0       Everyone             Art & Design   \n",
       "7   1,000,000+  Free     0       Everyone             Art & Design   \n",
       "\n",
       "      Last Updated         Current Ver   Android Ver  \n",
       "0  January 7, 2018               1.0.0  4.0.3 and up  \n",
       "3     June 8, 2018  Varies with device    4.2 and up  \n",
       "4    June 20, 2018                 1.1    4.4 and up  \n",
       "5   March 26, 2017                 1.0    2.3 and up  \n",
       "7    June 14, 2018            6.1.61.1    4.2 and up  "
      ]
     },
     "execution_count": 11,
     "metadata": {},
     "output_type": "execute_result"
    }
   ],
   "source": [
    "df_high_rating = df[(df['Rating'] > 4) & (df['Rating'] < 4.7)]\n",
    "print(df_high_rating.shape)\n",
    "df_high_rating.head()"
   ]
  },
  {
   "cell_type": "code",
   "execution_count": 12,
   "metadata": {
    "ExecuteTime": {
     "end_time": "2019-02-06T07:24:49.706689Z",
     "start_time": "2019-02-06T07:24:49.692311Z"
    },
    "scrolled": true
   },
   "outputs": [
    {
     "name": "stdout",
     "output_type": "stream",
     "text": [
      "Genres\n",
      "Action                                   358\n",
      "Action;Action & Adventure                 17\n",
      "Adventure                                 73\n",
      "Adventure;Action & Adventure              13\n",
      "Adventure;Brain Games                      1\n",
      "Adventure;Education                        2\n",
      "Arcade                                   207\n",
      "Arcade;Action & Adventure                 15\n",
      "Arcade;Pretend Play                        1\n",
      "Art & Design                              55\n",
      "Art & Design;Creativity                    7\n",
      "Art & Design;Pretend Play                  2\n",
      "Auto & Vehicles                           73\n",
      "Beauty                                    42\n",
      "Board                                     41\n",
      "Board;Action & Adventure                   3\n",
      "Board;Brain Games                         15\n",
      "Board;Pretend Play                         1\n",
      "Books & Reference                        178\n",
      "Books & Reference;Education                2\n",
      "Business                                 303\n",
      "Card                                      45\n",
      "Card;Action & Adventure                    2\n",
      "Card;Brain Games                           1\n",
      "Casino                                    37\n",
      "Casual                                   185\n",
      "Casual;Action & Adventure                 21\n",
      "Casual;Brain Games                        13\n",
      "Casual;Creativity                          7\n",
      "Casual;Education                           3\n",
      "                                        ... \n",
      "Puzzle;Education                           1\n",
      "Racing                                    93\n",
      "Racing;Action & Adventure                 20\n",
      "Racing;Pretend Play                        1\n",
      "Role Playing                             106\n",
      "Role Playing;Action & Adventure            7\n",
      "Role Playing;Brain Games                   1\n",
      "Role Playing;Pretend Play                  5\n",
      "Shopping                                 238\n",
      "Simulation                               194\n",
      "Simulation;Action & Adventure             11\n",
      "Simulation;Education                       3\n",
      "Simulation;Pretend Play                    4\n",
      "Social                                   259\n",
      "Sports                                   333\n",
      "Sports;Action & Adventure                  4\n",
      "Strategy                                 103\n",
      "Strategy;Action & Adventure                2\n",
      "Strategy;Creativity                        1\n",
      "Strategy;Education                         1\n",
      "Tools                                    732\n",
      "Tools;Education                            1\n",
      "Travel & Local                           225\n",
      "Travel & Local;Action & Adventure          1\n",
      "Trivia                                    28\n",
      "Video Players & Editors                  158\n",
      "Video Players & Editors;Creativity         2\n",
      "Video Players & Editors;Music & Video      3\n",
      "Weather                                   75\n",
      "Word                                      28\n",
      "Length: 115, dtype: int64\n"
     ]
    }
   ],
   "source": [
    "print(df.groupby('Genres').size())"
   ]
  },
  {
   "cell_type": "code",
   "execution_count": 13,
   "metadata": {
    "ExecuteTime": {
     "end_time": "2019-02-06T07:26:12.909131Z",
     "start_time": "2019-02-06T07:26:12.870107Z"
    }
   },
   "outputs": [
    {
     "name": "stdout",
     "output_type": "stream",
     "text": [
      "Rating  Type\n",
      "4.1     Free     675\n",
      "        Paid      32\n",
      "4.2     Free     889\n",
      "        Paid      62\n",
      "4.3     Free    1025\n",
      "        Paid      51\n",
      "4.4     Free    1031\n",
      "        Paid      77\n",
      "4.5     Free     964\n",
      "        Paid      73\n",
      "4.6     Free     741\n",
      "        Paid      82\n",
      "dtype: int64\n"
     ]
    }
   ],
   "source": [
    "high_rating_g_by = df_high_rating.groupby(['Rating','Type']).size()\n",
    "print(high_rating_g_by)"
   ]
  },
  {
   "cell_type": "code",
   "execution_count": 14,
   "metadata": {
    "ExecuteTime": {
     "end_time": "2019-02-06T07:28:25.411038Z",
     "start_time": "2019-02-06T07:28:25.381777Z"
    },
    "scrolled": true
   },
   "outputs": [
    {
     "data": {
      "text/html": [
       "<div>\n",
       "<style scoped>\n",
       "    .dataframe tbody tr th:only-of-type {\n",
       "        vertical-align: middle;\n",
       "    }\n",
       "\n",
       "    .dataframe tbody tr th {\n",
       "        vertical-align: top;\n",
       "    }\n",
       "\n",
       "    .dataframe thead th {\n",
       "        text-align: right;\n",
       "    }\n",
       "</style>\n",
       "<table border=\"1\" class=\"dataframe\">\n",
       "  <thead>\n",
       "    <tr style=\"text-align: right;\">\n",
       "      <th></th>\n",
       "      <th>Rating</th>\n",
       "      <th>Type</th>\n",
       "      <th>count</th>\n",
       "    </tr>\n",
       "  </thead>\n",
       "  <tbody>\n",
       "    <tr>\n",
       "      <th>0</th>\n",
       "      <td>4.1</td>\n",
       "      <td>Free</td>\n",
       "      <td>675</td>\n",
       "    </tr>\n",
       "    <tr>\n",
       "      <th>1</th>\n",
       "      <td>4.1</td>\n",
       "      <td>Paid</td>\n",
       "      <td>32</td>\n",
       "    </tr>\n",
       "    <tr>\n",
       "      <th>2</th>\n",
       "      <td>4.2</td>\n",
       "      <td>Free</td>\n",
       "      <td>889</td>\n",
       "    </tr>\n",
       "    <tr>\n",
       "      <th>3</th>\n",
       "      <td>4.2</td>\n",
       "      <td>Paid</td>\n",
       "      <td>62</td>\n",
       "    </tr>\n",
       "    <tr>\n",
       "      <th>4</th>\n",
       "      <td>4.3</td>\n",
       "      <td>Free</td>\n",
       "      <td>1025</td>\n",
       "    </tr>\n",
       "    <tr>\n",
       "      <th>5</th>\n",
       "      <td>4.3</td>\n",
       "      <td>Paid</td>\n",
       "      <td>51</td>\n",
       "    </tr>\n",
       "    <tr>\n",
       "      <th>6</th>\n",
       "      <td>4.4</td>\n",
       "      <td>Free</td>\n",
       "      <td>1031</td>\n",
       "    </tr>\n",
       "    <tr>\n",
       "      <th>7</th>\n",
       "      <td>4.4</td>\n",
       "      <td>Paid</td>\n",
       "      <td>77</td>\n",
       "    </tr>\n",
       "    <tr>\n",
       "      <th>8</th>\n",
       "      <td>4.5</td>\n",
       "      <td>Free</td>\n",
       "      <td>964</td>\n",
       "    </tr>\n",
       "    <tr>\n",
       "      <th>9</th>\n",
       "      <td>4.5</td>\n",
       "      <td>Paid</td>\n",
       "      <td>73</td>\n",
       "    </tr>\n",
       "    <tr>\n",
       "      <th>10</th>\n",
       "      <td>4.6</td>\n",
       "      <td>Free</td>\n",
       "      <td>741</td>\n",
       "    </tr>\n",
       "    <tr>\n",
       "      <th>11</th>\n",
       "      <td>4.6</td>\n",
       "      <td>Paid</td>\n",
       "      <td>82</td>\n",
       "    </tr>\n",
       "  </tbody>\n",
       "</table>\n",
       "</div>"
      ],
      "text/plain": [
       "    Rating  Type  count\n",
       "0      4.1  Free    675\n",
       "1      4.1  Paid     32\n",
       "2      4.2  Free    889\n",
       "3      4.2  Paid     62\n",
       "4      4.3  Free   1025\n",
       "5      4.3  Paid     51\n",
       "6      4.4  Free   1031\n",
       "7      4.4  Paid     77\n",
       "8      4.5  Free    964\n",
       "9      4.5  Paid     73\n",
       "10     4.6  Free    741\n",
       "11     4.6  Paid     82"
      ]
     },
     "execution_count": 14,
     "metadata": {},
     "output_type": "execute_result"
    }
   ],
   "source": [
    "# store the grouped by table in a dataframe\n",
    "df_group_by = pd.DataFrame({'count': high_rating_g_by}).reset_index()\n",
    "df_group_by"
   ]
  },
  {
   "cell_type": "code",
   "execution_count": null,
   "metadata": {
    "ExecuteTime": {
     "end_time": "2018-12-27T07:23:03.541215Z",
     "start_time": "2018-12-27T07:23:03.487220Z"
    }
   },
   "outputs": [],
   "source": [
    "# iterating through groupby\n",
    "\n",
    "grouped = df_high_rating.groupby('Rating')\n",
    "\n",
    "for name,group in grouped:\n",
    "    if name >= 4.5: #only printing for rating 4.8 and 4.9\n",
    "        print(name)\n",
    "        print(group)\n",
    "        print(\"=\"*50)"
   ]
  },
  {
   "cell_type": "code",
   "execution_count": 15,
   "metadata": {
    "ExecuteTime": {
     "end_time": "2019-02-06T07:29:49.364145Z",
     "start_time": "2019-02-06T07:29:49.343734Z"
    },
    "scrolled": true
   },
   "outputs": [
    {
     "name": "stdout",
     "output_type": "stream",
     "text": [
      "Genres\n",
      "Action                                   4.285475\n",
      "Action;Action & Adventure                4.311765\n",
      "Adventure                                4.180822\n",
      "Adventure;Action & Adventure             4.423077\n",
      "Adventure;Brain Games                    4.600000\n",
      "Adventure;Education                      4.100000\n",
      "Arcade                                   4.304348\n",
      "Arcade;Action & Adventure                4.346667\n",
      "Arcade;Pretend Play                      4.500000\n",
      "Art & Design                             4.380000\n",
      "Art & Design;Creativity                  4.400000\n",
      "Art & Design;Pretend Play                3.900000\n",
      "Auto & Vehicles                          4.190411\n",
      "Beauty                                   4.278571\n",
      "Board                                    4.292683\n",
      "Board;Action & Adventure                 4.033333\n",
      "Board;Brain Games                        4.340000\n",
      "Board;Pretend Play                       4.800000\n",
      "Books & Reference                        4.346067\n",
      "Books & Reference;Education              4.200000\n",
      "Business                                 4.121452\n",
      "Card                                     4.086667\n",
      "Card;Action & Adventure                  4.300000\n",
      "Card;Brain Games                         4.400000\n",
      "Casino                                   4.286486\n",
      "Casual                                   4.150811\n",
      "Casual;Action & Adventure                4.266667\n",
      "Casual;Brain Games                       4.469231\n",
      "Casual;Creativity                        4.314286\n",
      "Casual;Education                         4.266667\n",
      "                                           ...   \n",
      "Puzzle;Education                         4.600000\n",
      "Racing                                   4.173118\n",
      "Racing;Action & Adventure                4.300000\n",
      "Racing;Pretend Play                      4.500000\n",
      "Role Playing                             4.275472\n",
      "Role Playing;Action & Adventure          4.342857\n",
      "Role Playing;Brain Games                 4.300000\n",
      "Role Playing;Pretend Play                4.020000\n",
      "Shopping                                 4.259664\n",
      "Simulation                               4.151546\n",
      "Simulation;Action & Adventure            4.418182\n",
      "Simulation;Education                     4.366667\n",
      "Simulation;Pretend Play                  4.350000\n",
      "Social                                   4.255598\n",
      "Sports                                   4.236637\n",
      "Sports;Action & Adventure                4.350000\n",
      "Strategy                                 4.245631\n",
      "Strategy;Action & Adventure              4.600000\n",
      "Strategy;Creativity                      4.400000\n",
      "Strategy;Education                       4.500000\n",
      "Tools                                    4.046585\n",
      "Tools;Education                          4.500000\n",
      "Travel & Local                           4.109333\n",
      "Travel & Local;Action & Adventure        4.100000\n",
      "Trivia                                   4.039286\n",
      "Video Players & Editors                  4.063924\n",
      "Video Players & Editors;Creativity       4.100000\n",
      "Video Players & Editors;Music & Video    4.000000\n",
      "Weather                                  4.244000\n",
      "Word                                     4.410714\n",
      "Name: Rating, Length: 115, dtype: float64\n"
     ]
    }
   ],
   "source": [
    "# aggregation\n",
    "\n",
    "grouped = df.groupby('Genres')\n",
    "print(grouped['Rating'].agg(np.mean))"
   ]
  },
  {
   "cell_type": "code",
   "execution_count": 16,
   "metadata": {
    "ExecuteTime": {
     "end_time": "2019-02-06T07:30:12.157077Z",
     "start_time": "2019-02-06T07:30:12.110662Z"
    },
    "scrolled": true
   },
   "outputs": [
    {
     "name": "stdout",
     "output_type": "stream",
     "text": [
      "                                          sum      mean       std\n",
      "Genres                                                           \n",
      "Action                                 1534.2  4.285475  0.291353\n",
      "Action;Action & Adventure                73.3  4.311765  0.172780\n",
      "Adventure                               305.2  4.180822  0.312542\n",
      "Adventure;Action & Adventure             57.5  4.423077  0.148064\n",
      "Adventure;Brain Games                     4.6  4.600000       NaN\n",
      "Adventure;Education                       8.2  4.100000  0.000000\n",
      "Arcade                                  891.0  4.304348  0.351323\n",
      "Arcade;Action & Adventure                65.2  4.346667  0.306749\n",
      "Arcade;Pretend Play                       4.5  4.500000       NaN\n",
      "Art & Design                            240.9  4.380000  0.321685\n",
      "Art & Design;Creativity                  30.8  4.400000  0.404145\n",
      "Art & Design;Pretend Play                 7.8  3.900000  0.000000\n",
      "Auto & Vehicles                         305.9  4.190411  0.543692\n",
      "Beauty                                  179.7  4.278571  0.362603\n",
      "Board                                   176.0  4.292683  0.417367\n",
      "Board;Action & Adventure                 12.1  4.033333  0.057735\n",
      "Board;Brain Games                        65.1  4.340000  0.297129\n",
      "Board;Pretend Play                        4.8  4.800000       NaN\n",
      "Books & Reference                       773.6  4.346067  0.429046\n",
      "Books & Reference;Education               8.4  4.200000  0.707107\n",
      "Business                               1248.8  4.121452  0.624422\n",
      "Card                                    183.9  4.086667  0.708263\n",
      "Card;Action & Adventure                   8.6  4.300000  0.000000\n",
      "Card;Brain Games                          4.4  4.400000       NaN\n",
      "Casino                                  158.6  4.286486  0.310163\n",
      "Casual                                  767.9  4.150811  0.442218\n",
      "Casual;Action & Adventure                89.6  4.266667  0.367877\n",
      "Casual;Brain Games                       58.1  4.469231  0.209701\n",
      "Casual;Creativity                        30.2  4.314286  0.291139\n",
      "Casual;Education                         12.8  4.266667  0.152753\n",
      "...                                       ...       ...       ...\n",
      "Puzzle;Education                          4.6  4.600000       NaN\n",
      "Racing                                  388.1  4.173118  0.327089\n",
      "Racing;Action & Adventure                86.0  4.300000  0.194666\n",
      "Racing;Pretend Play                       4.5  4.500000       NaN\n",
      "Role Playing                            453.2  4.275472  0.340815\n",
      "Role Playing;Action & Adventure          30.4  4.342857  0.229907\n",
      "Role Playing;Brain Games                  4.3  4.300000       NaN\n",
      "Role Playing;Pretend Play                20.1  4.020000  0.426615\n",
      "Shopping                               1013.8  4.259664  0.404577\n",
      "Simulation                              805.4  4.151546  0.401710\n",
      "Simulation;Action & Adventure            48.6  4.418182  0.252262\n",
      "Simulation;Education                     13.1  4.366667  0.152753\n",
      "Simulation;Pretend Play                  17.4  4.350000  0.331662\n",
      "Social                                 1102.2  4.255598  0.413809\n",
      "Sports                                 1410.8  4.236637  0.423600\n",
      "Sports;Action & Adventure                17.4  4.350000  0.191485\n",
      "Strategy                                437.3  4.245631  0.373583\n",
      "Strategy;Action & Adventure               9.2  4.600000  0.000000\n",
      "Strategy;Creativity                       4.4  4.400000       NaN\n",
      "Strategy;Education                        4.5  4.500000       NaN\n",
      "Tools                                  2962.1  4.046585  0.616731\n",
      "Tools;Education                           4.5  4.500000       NaN\n",
      "Travel & Local                          924.6  4.109333  0.505816\n",
      "Travel & Local;Action & Adventure         4.1  4.100000       NaN\n",
      "Trivia                                  113.1  4.039286  0.808904\n",
      "Video Players & Editors                 642.1  4.063924  0.554566\n",
      "Video Players & Editors;Creativity        8.2  4.100000  0.000000\n",
      "Video Players & Editors;Music & Video    12.0  4.000000  0.000000\n",
      "Weather                                 318.3  4.244000  0.331353\n",
      "Word                                    123.5  4.410714  0.325849\n",
      "\n",
      "[115 rows x 3 columns]\n"
     ]
    }
   ],
   "source": [
    "# applying multiple aggregation functions at once\n",
    "print(grouped['Rating'].agg([np.sum, np.mean, np.std]))"
   ]
  },
  {
   "cell_type": "markdown",
   "metadata": {},
   "source": [
    "# Iteration\n",
    "\n",
    "To iterate over the rows of the DataFrame, we can use the following functions:\n",
    "* __df.iteritems()__ − to iterate over the (key,value) pairs\n",
    "* __df.iterrows()__ − iterate over the rows as (index,series) pairs\n",
    "* __df.itertuples()__ − this method will return an iterator yielding a named tuple for each row in the DataFrame. The __first element__ of the tuple will be the __row’s corresponding index value__, while the remaining values are the row values."
   ]
  },
  {
   "cell_type": "code",
   "execution_count": null,
   "metadata": {
    "ExecuteTime": {
     "end_time": "2018-11-26T07:18:12.554864Z",
     "start_time": "2018-11-26T07:18:12.542144Z"
    }
   },
   "outputs": [],
   "source": [
    "iterated_df = pd.DataFrame(np.random.randn(4,3),columns=['col1','col2','col3'])\n",
    "for key,value in iterated_df.iteritems():\n",
    "    print(key)\n",
    "    print(value)"
   ]
  },
  {
   "cell_type": "code",
   "execution_count": null,
   "metadata": {
    "ExecuteTime": {
     "end_time": "2018-11-26T07:19:04.621983Z",
     "start_time": "2018-11-26T07:19:04.616408Z"
    }
   },
   "outputs": [],
   "source": [
    "for row in iterated_df.itertuples():\n",
    "    print(row)"
   ]
  },
  {
   "cell_type": "markdown",
   "metadata": {},
   "source": [
    "# Operations with text data\n",
    "\n",
    "String operations can be performed on Series in the format __s.str.op__ where __op__ can be:\n",
    "1.\t__swapcase__ - Swaps the case lower/upper.\n",
    "2.\t__lower() / upper()__ - Converts strings in the Series/Index to lower / upper case.\n",
    "3.\t__len()__ - Computes String length.\n",
    "4.\t__strip()__\t- Helps strip whitespace(including newline) from each string in the Series/index from both the sides.\n",
    "5.\t__split(' ')__ - Splits each string with the given pattern.\n",
    "6.\t__cat(sep=' ')__ - Concatenates the series/index elements with given separator.\n",
    "7.\t__get_dummies()__ - Returns the DataFrame with One-Hot Encoded values.\n",
    "8.\t__contains(pattern)__ - Returns Boolean True for each element if the substring contains in the element, else False.\n",
    "9.\t__replace(a,b)__ - Replaces the value a with the value b.\n",
    "10.\t__repeat(value)__ - Repeats each element with specified number of times.\n",
    "11.\t__count(pattern)__ - Returns count of appearance of pattern in each element.\n",
    "12.\t__startswith(pattern) / endswith(pattern)__ - Returns true if the element in the Series/Index starts / ends with the pattern.\n",
    "13.\t__find(pattern)__ - Returns the first position of the first occurrence of the pattern. Returns -1 if not found.\n",
    "14.\t__findall(pattern)__ - Returns a list of all occurrence of the pattern.\n",
    "15.\t__islower() / isupper() / isnumeric()__ - Checks whether all characters in each string in the Series/Index in lower / upper case / numeric or not. Returns Boolean."
   ]
  },
  {
   "cell_type": "code",
   "execution_count": 17,
   "metadata": {
    "ExecuteTime": {
     "end_time": "2019-02-06T07:31:58.628305Z",
     "start_time": "2019-02-06T07:31:58.620151Z"
    }
   },
   "outputs": [
    {
     "name": "stdout",
     "output_type": "stream",
     "text": [
      "0     True\n",
      "1     True\n",
      "2    False\n",
      "3    False\n",
      "dtype: bool\n"
     ]
    }
   ],
   "source": [
    "s = pd.Series(['Tom ', ' William Rick', 'John', 'Alber@t'])\n",
    "print(s.str.contains(' '))"
   ]
  },
  {
   "cell_type": "markdown",
   "metadata": {},
   "source": [
    "## Joining, Merging\n",
    "\n",
    "* __df1.append(df2)__ OR __pd.concat([df1, df2], axis=0)__ - Adds the rows in df1 to the end of df2 (columns should be identical)\n",
    "* __pd.concat([df1, df2], axis=1)__ - Adds the columns in df1 to the end of df2 (rows should be identical)\n",
    "* __pd.merge(left, right, how='inner', on=None, left_on=None, right_on=None, left_index=False, right_index=False, sort=True)__ - where\n",
    "    + left − A DataFrame object.\n",
    "    + right − Another DataFrame object.\n",
    "    + how − One of 'left', 'right', 'outer', 'inner'. Defaults to inner. Each method has been described below.\n",
    "    + on − Columns (names) to join on. __Must be found in both__ the left and right DataFrame objects.\n",
    "    + left_on − Columns from the left DataFrame to use as keys.\n",
    "    + right_on − Columns from the right DataFrame to use as keys.\n",
    "    + left_index − If True, use the index (row labels) from the left DataFrame as its join key(s). In case of a DataFrame with a MultiIndex (hierarchical), the number of levels must match the number of join keys from the right DataFrame.\n",
    "    + right_index − Same usage as left_index for the right DataFrame.\n",
    "    + sort − Sort the result DataFrame by the join keys in _lexicographical order_. Defaults to True, setting to False will improve the performance substantially in many cases.\n",
    "\n",
    "| Merge Method | SQL Equivalent\t| Description |\n",
    "|:-:|:-:|:-:|\n",
    "|left\t|LEFT OUTER JOIN\t|Use keys from left object\n",
    "|right\t|RIGHT OUTER JOIN\t|Use keys from right object\n",
    "|outer\t|FULL OUTER JOIN\t|Use union of keys\n",
    "|inner\t|INNER JOIN\t|Use intersection of keys"
   ]
  },
  {
   "cell_type": "code",
   "execution_count": 18,
   "metadata": {
    "ExecuteTime": {
     "end_time": "2019-02-06T07:33:58.354597Z",
     "start_time": "2019-02-06T07:33:58.345700Z"
    }
   },
   "outputs": [],
   "source": [
    "import pandas as pd\n",
    "left = pd.DataFrame({\n",
    "         'id':[1,2,3,4,5],\n",
    "         'Name': ['Alex', 'Amy', 'Allen', 'Alice', 'Ayan'],\n",
    "         'subject_id':['sub1','sub2','sub4','sub6','sub5']})\n",
    "\n",
    "right = pd.DataFrame(\n",
    "         {'id':[1,2,3,4,5],\n",
    "         'Name': ['Billy', 'Brian', 'Brock', 'Bryce', 'Betty'],\n",
    "         'subject_id':['sub2','sub4','sub3','sub6','sub5']})"
   ]
  },
  {
   "cell_type": "code",
   "execution_count": 19,
   "metadata": {
    "ExecuteTime": {
     "end_time": "2019-02-06T07:34:33.663070Z",
     "start_time": "2019-02-06T07:34:33.625508Z"
    },
    "scrolled": false
   },
   "outputs": [
    {
     "name": "stdout",
     "output_type": "stream",
     "text": [
      "MERGE by ROWS\n",
      "\n",
      "   id   Name subject_id\n",
      "0   1   Alex       sub1\n",
      "1   2    Amy       sub2\n",
      "2   3  Allen       sub4\n",
      "3   4  Alice       sub6\n",
      "4   5   Ayan       sub5\n",
      "5   1  Billy       sub2\n",
      "6   2  Brian       sub4\n",
      "7   3  Brock       sub3\n",
      "8   4  Bryce       sub6\n",
      "9   5  Betty       sub5\n",
      "==================================================\n",
      "   id   Name subject_id\n",
      "0   1   Alex       sub1\n",
      "1   2    Amy       sub2\n",
      "2   3  Allen       sub4\n",
      "3   4  Alice       sub6\n",
      "4   5   Ayan       sub5\n",
      "0   1  Billy       sub2\n",
      "1   2  Brian       sub4\n",
      "2   3  Brock       sub3\n",
      "3   4  Bryce       sub6\n",
      "4   5  Betty       sub5\n",
      "==================================================\n",
      "\n",
      "MERGE by COLUMNS\n",
      "\n",
      "   id   Name subject_id  id   Name subject_id\n",
      "0   1   Alex       sub1   1  Billy       sub2\n",
      "1   2    Amy       sub2   2  Brian       sub4\n",
      "2   3  Allen       sub4   3  Brock       sub3\n",
      "3   4  Alice       sub6   4  Bryce       sub6\n",
      "4   5   Ayan       sub5   5  Betty       sub5\n"
     ]
    }
   ],
   "source": [
    "print(\"MERGE by ROWS\"+'\\n')\n",
    "print(pd.concat([left,right],ignore_index=True))\n",
    "print('='*50)\n",
    "print(left.append(right))\n",
    "print('='*50)\n",
    "print('\\n'+\"MERGE by COLUMNS\"+'\\n')\n",
    "print(pd.concat([left,right],axis=1)) # merging by columns"
   ]
  },
  {
   "cell_type": "code",
   "execution_count": 20,
   "metadata": {
    "ExecuteTime": {
     "end_time": "2018-12-27T07:36:42.327351Z",
     "start_time": "2018-12-27T07:36:42.293949Z"
    }
   },
   "outputs": [
    {
     "name": "stdout",
     "output_type": "stream",
     "text": [
      "   id Name_x subject_id_x Name_y subject_id_y\n",
      "0   1   Alex         sub1  Billy         sub2\n",
      "1   2    Amy         sub2  Brian         sub4\n",
      "2   3  Allen         sub4  Brock         sub3\n",
      "3   4  Alice         sub6  Bryce         sub6\n",
      "4   5   Ayan         sub5  Betty         sub5\n",
      "==================================================\n",
      "   id Name_x subject_id Name_y\n",
      "0   4  Alice       sub6  Bryce\n",
      "1   5   Ayan       sub5  Betty\n"
     ]
    }
   ],
   "source": [
    "# merge two dataframes on a key\n",
    "print(pd.merge(left,right,on='id'))\n",
    "print('='*50)\n",
    "# merge two dataframes on multiple keys\n",
    "print(pd.merge(left,right,on=['id','subject_id']))"
   ]
  },
  {
   "cell_type": "code",
   "execution_count": 22,
   "metadata": {
    "ExecuteTime": {
     "end_time": "2018-11-26T07:28:27.577500Z",
     "start_time": "2018-11-26T07:28:27.559030Z"
    },
    "scrolled": true
   },
   "outputs": [
    {
     "name": "stdout",
     "output_type": "stream",
     "text": [
      "   id_x Name_x subject_id  id_y Name_y\n",
      "0     1   Alex       sub1   NaN    NaN\n",
      "1     2    Amy       sub2   1.0  Billy\n",
      "2     3  Allen       sub4   2.0  Brian\n",
      "3     4  Alice       sub6   4.0  Bryce\n",
      "4     5   Ayan       sub5   5.0  Betty\n"
     ]
    }
   ],
   "source": [
    "print(pd.merge(left, right, on='subject_id', how='left'))"
   ]
  },
  {
   "cell_type": "markdown",
   "metadata": {
    "ExecuteTime": {
     "end_time": "2018-11-23T06:33:23.871041Z",
     "start_time": "2018-11-23T06:33:23.863767Z"
    }
   },
   "source": [
    "## Statistics\n",
    "\n",
    "* __df.mean()__ - Returns the mean of all columns\n",
    "* __df.corr()__ - Returns the correlation between columns in a DataFrame\n",
    "* __df.count()__ - Returns the number of non-null values in each DataFrame column\n",
    "* __df.max()__ - Returns the highest value in each column\n",
    "* __df.min()__ - Returns the lowest value in each column\n",
    "* __df.median()__ - Returns the median of each column\n",
    "* __df.std()__ - Returns the standard deviation of each column"
   ]
  },
  {
   "cell_type": "code",
   "execution_count": 23,
   "metadata": {
    "ExecuteTime": {
     "end_time": "2018-12-27T07:37:33.578350Z",
     "start_time": "2018-12-27T07:37:33.556669Z"
    }
   },
   "outputs": [
    {
     "data": {
      "text/plain": [
       "4.191837606837606"
      ]
     },
     "execution_count": 23,
     "metadata": {},
     "output_type": "execute_result"
    }
   ],
   "source": [
    "df['Rating'].mean()"
   ]
  },
  {
   "cell_type": "markdown",
   "metadata": {},
   "source": [
    "## Visualization\n",
    "\n",
    "The following charts we can generate straight from pandas:\n",
    "* __bar__ or barh for bar plots\n",
    "* __hist__ for histogram\n",
    "* __area__ for area plots\n",
    "* __scatter__ for scatter plots"
   ]
  },
  {
   "cell_type": "code",
   "execution_count": 25,
   "metadata": {
    "ExecuteTime": {
     "end_time": "2019-02-06T07:37:15.878051Z",
     "start_time": "2019-02-06T07:37:15.582208Z"
    }
   },
   "outputs": [
    {
     "data": {
      "text/plain": [
       "<matplotlib.axes._subplots.AxesSubplot at 0x7f0b5d0002e8>"
      ]
     },
     "execution_count": 25,
     "metadata": {},
     "output_type": "execute_result"
    },
    {
     "data": {
      "image/png": "[encoded data removed]",
      "text/plain": [
       "<Figure size 432x288 with 1 Axes>"
      ]
     },
     "metadata": {
      "needs_background": "light"
     },
     "output_type": "display_data"
    }
   ],
   "source": [
    "df_group_by[df_group_by['Type']=='Free']['count'].plot()"
   ]
  },
  {
   "cell_type": "code",
   "execution_count": null,
   "metadata": {
    "ExecuteTime": {
     "end_time": "2019-02-06T07:37:45.400465Z",
     "start_time": "2019-02-06T07:37:45.018662Z"
    },
    "scrolled": false
   },
   "outputs": [],
   "source": [
    "df_bar = df_high_rating[['Rating','Reviews']][:10]\n",
    "df_bar['Reviews'] = df_bar['Reviews'].astype(int)\n",
    "\n",
    "df_bar.plot.bar(stacked = True)"
   ]
  },
  {
   "cell_type": "code",
   "execution_count": null,
   "metadata": {
    "ExecuteTime": {
     "end_time": "2019-02-06T07:38:02.950169Z",
     "start_time": "2019-02-06T07:38:02.674420Z"
    }
   },
   "outputs": [],
   "source": [
    "df_bar.plot.scatter(x='Rating', y='Reviews')"
   ]
  },
  {
   "cell_type": "markdown",
   "metadata": {
    "ExecuteTime": {
     "end_time": "2018-11-25T19:27:02.944962Z",
     "start_time": "2018-11-25T19:27:02.938833Z"
    }
   },
   "source": [
    "## Exporting the Data\n",
    "\n",
    "* __df.to_csv(filename)__ - Writes to a CSV file\n",
    "* __df.to_excel(filename)__ - Writes to an Excel file\n",
    "* __df.to_sql(table_name, connection_object)__ - Writes to a SQL table\n",
    "* __df.to_json(filename)__ - Writes to a file in JSON format\n",
    "* __df.to_html(filename)__ - Saves as an HTML table"
   ]
  },
  {
   "cell_type": "code",
   "execution_count": 26,
   "metadata": {
    "ExecuteTime": {
     "end_time": "2018-11-26T07:33:59.277485Z",
     "start_time": "2018-11-26T07:33:59.200013Z"
    }
   },
   "outputs": [],
   "source": [
    "df_new_cols_name.to_csv('./google-play-store-apps/cleaned_googleplay_data.csv')"
   ]
  }
 ],
 "metadata": {
  "celltoolbar": "Raw Cell Format",
  "hide_code_all_hidden": false,
  "kernelspec": {
   "display_name": "Python 3.8.10 64-bit",
   "language": "python",
   "name": "python3"
  },
  "language_info": {
   "codemirror_mode": {
    "name": "ipython",
    "version": 3
   },
   "file_extension": ".py",
   "mimetype": "text/x-python",
   "name": "python",
   "nbconvert_exporter": "python",
   "pygments_lexer": "ipython3",
   "version": "3.8.10"
  },
  "toc": {
   "base_numbering": 1,
   "nav_menu": {},
   "number_sections": true,
   "sideBar": true,
   "skip_h1_title": false,
   "title_cell": "Table of Contents",
   "title_sidebar": "Contents",
   "toc_cell": false,
   "toc_position": {},
   "toc_section_display": true,
   "toc_window_display": false
  },
  "vscode": {
   "interpreter": {
    "hash": "916dbcbb3f70747c44a77c7bcd40155683ae19c65e1c03b4aa3499c5328201f1"
   }
  }
 },
 "nbformat": 4,
 "nbformat_minor": 2
}
